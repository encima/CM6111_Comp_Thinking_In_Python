{
 "cells": [
  {
   "cell_type": "code",
   "execution_count": 2,
   "metadata": {
    "collapsed": false,
    "focus": false,
    "id": "5f03c1e0-d749-4746-a29d-5dc3ac546468",
    "slideshow": {
     "slide_type": "skip"
    }
   },
   "outputs": [
    {
     "data": {
      "text/plain": [
       "{'start_slideshow_at': 'selected', 'theme': 'league', 'transition': 'zoom'}"
      ]
     },
     "execution_count": 2,
     "metadata": {},
     "output_type": "execute_result"
    }
   ],
   "source": [
    "from notebook.services.config import ConfigManager\n",
    "from IPython.paths import locate_profile\n",
    "cm = ConfigManager(profile_dir=locate_profile(get_ipython().profile))\n",
    "cm.update('livereveal', {\n",
    "              'theme': 'league',\n",
    "              'transition': 'zoom',\n",
    "              'start_slideshow_at': 'selected',\n",
    "})"
   ]
  },
  {
   "cell_type": "markdown",
   "metadata": {
    "focus": false,
    "id": "7d4c1b61-68a0-4b2a-8f81-b084397cada8",
    "slideshow": {
     "slide_type": "slide"
    }
   },
   "source": [
    "# Lists and Loops\n",
    "\n",
    "## Dr. Chris Gwilliams\n",
    "\n",
    "### gwilliamsc@cardiff.ac.uk"
   ]
  },
  {
   "cell_type": "markdown",
   "metadata": {
    "focus": false,
    "id": "a31d3c83-dd5a-4ff0-a578-b62d94a103da",
    "slideshow": {
     "slide_type": "slide"
    }
   },
   "source": [
    "# Overview So Far\n",
    "\n",
    "- Introduction to Python\n",
    "- Types\n",
    "- Variables\n",
    "- Functions (built in and your own)\n",
    "- Methods\n",
    "- Scope\n",
    "- Imports\n"
   ]
  },
  {
   "cell_type": "markdown",
   "metadata": {
    "focus": false,
    "id": "3fb33dfc-282d-4475-9f51-8a927ba0f248",
    "slideshow": {
     "slide_type": "slide"
    }
   },
   "source": [
    "# This Session\n",
    "\n",
    "- Lists\n",
    "    - indexing\n",
    "    - negative indexing\n",
    "    - Operations and length\n",
    "- Loops\n",
    "- Iteration\n",
    "- Recursion\n",
    "- Understanding the difference"
   ]
  },
  {
   "cell_type": "markdown",
   "metadata": {
    "slideshow": {
     "slide_type": "slide"
    }
   },
   "source": [
    "# `Input`\n",
    "\n",
    "First thing to note: If you want the user to be able to input their own information, you can use the `input` function to store their result.\n",
    "\n",
    "```python\n",
    "name = input(\"Please add your name: \")\n",
    "print(name)\n",
    "```\n",
    "\n",
    "### Exercise\n",
    "\n",
    "Create a variable that holds a value. Ask the user for input. If the input is > 20, multiple the two and print the result. Otherwise, divide the two and print it."
   ]
  },
  {
   "cell_type": "markdown",
   "metadata": {
    "focus": false,
    "id": "47186569-0b26-4423-8b05-b081c7274d6a",
    "slideshow": {
     "slide_type": "slide"
    }
   },
   "source": [
    "# Storing Multiple Values\n",
    "\n",
    "### Exercise\n",
    "\n",
    "Write a script that stores the names of 5 of your peers."
   ]
  },
  {
   "cell_type": "markdown",
   "metadata": {
    "focus": false,
    "id": "c874f0ec-23a7-47d6-9293-9f970ab9b9ad",
    "slideshow": {
     "slide_type": "fragment"
    }
   },
   "source": [
    "```python\n",
    "name_one = \"Sarah\"\n",
    "name_two = \"Rick\"\n",
    "name_three = \"Morty\"\n",
    "```\n",
    "- Now how would you do that for 100?"
   ]
  },
  {
   "cell_type": "markdown",
   "metadata": {
    "focus": false,
    "id": "671aca40-93d8-4c4a-9434-981e9c1b29cc",
    "slideshow": {
     "slide_type": "slide"
    }
   },
   "source": [
    "# Lists\n",
    "\n",
    "Lists (also known as arrays) are data structures that can hold a collection of literals (often called elements).\n",
    "\n",
    "`my_list = ['1', 2,  True]\n",
    "my_list = []`\n",
    "\n",
    "Can be instantiated with values or declared empty.\n",
    "\n",
    "Zero-indexed and accessed with square brackets ([])\n",
    "\n",
    "`mylist[0] #'1'`"
   ]
  },
  {
   "cell_type": "markdown",
   "metadata": {
    "focus": false,
    "id": "630fc7ab-214a-4f02-8b18-56b37070df2e",
    "slideshow": {
     "slide_type": "subslide"
    }
   },
   "source": [
    "### Exercise\n",
    "\n",
    "Lists are mutable, but strings are immutable.\n",
    "\n",
    "What does that mean?\n",
    "\n",
    "```python\n",
    "list_one = ['cat', 'dog', 'hamster']\n",
    "list_two = list_one\n",
    "list_two.append('narwhal')\n",
    "print(list_one)\n",
    "```\n",
    "\n",
    "What will the code above output?\n"
   ]
  },
  {
   "cell_type": "markdown",
   "metadata": {
    "focus": false,
    "id": "a40bffa0-3dd5-4dbd-912d-1d114233694f",
    "slideshow": {
     "slide_type": "skip"
    }
   },
   "source": [
    "Lists are mutable, which means you can change their content without changing how they are identified.\n",
    "\n",
    "Immutable types, like strings, cannot be changed without the identity of the variable also changing.\n",
    "\n",
    "The code would print `['cat', 'dog', 'hamster', 'narwhal']`, despite it being a different variable, all the references point to the same place!"
   ]
  },
  {
   "cell_type": "markdown",
   "metadata": {
    "focus": false,
    "id": "31e6ce18-e2d1-46d4-8732-45566712b443",
    "slideshow": {
     "slide_type": "slide"
    }
   },
   "source": [
    "# Accessing Elements in a List\n",
    "\n",
    "## Square bracket notation\n",
    "\n",
    "We use square brackets and the number of the index (or key) in the list in order to access the value."
   ]
  },
  {
   "cell_type": "code",
   "execution_count": 36,
   "metadata": {
    "collapsed": true,
    "focus": false,
    "id": "f84fa804-6f48-494d-abdf-b898d3225c85",
    "slideshow": {
     "slide_type": "subslide"
    }
   },
   "outputs": [],
   "source": [
    "movie_list = ['The Godfather', 'Jaws', 'Troy', 'Midnight Special', 'Casper']"
   ]
  },
  {
   "cell_type": "markdown",
   "metadata": {
    "focus": false,
    "id": "fe4452c0-2bb7-49ac-bc53-8fa7b9c86c3c",
    "slideshow": {
     "slide_type": "subslide"
    }
   },
   "source": [
    "### Exercise\n",
    "\n",
    "What index is the Godfather?\n",
    "\n",
    "Print the 4th element\n",
    "\n",
    "Make the second element equal `Toy Story`\n",
    "\n",
    "Print the length of the list"
   ]
  },
  {
   "cell_type": "code",
   "execution_count": 37,
   "metadata": {
    "collapsed": false,
    "focus": false,
    "id": "2fe53a96-f3cf-4cde-8b28-136db91b7e02",
    "slideshow": {
     "slide_type": "skip"
    }
   },
   "outputs": [
    {
     "name": "stdout",
     "output_type": "stream",
     "text": [
      "Midnight Special\n",
      "5\n"
     ]
    }
   ],
   "source": [
    "# 0\n",
    "print(movie_list[3])\n",
    "movie_list[1] = \"Toy Story\"\n",
    "print(len(movie_list))"
   ]
  },
  {
   "cell_type": "markdown",
   "metadata": {
    "focus": false,
    "id": "6352066b-1f20-4ed0-b766-4edbfbf39985",
    "slideshow": {
     "slide_type": "subslide"
    }
   },
   "source": [
    "# Accessing Elements in a List\n",
    "\n",
    "How would we print the last element of the list in the previous example?\n",
    "\n",
    "`print(movie_list[4])`\n",
    "\n",
    "What if we do not know the size of the list?"
   ]
  },
  {
   "cell_type": "code",
   "execution_count": 38,
   "metadata": {
    "collapsed": false,
    "focus": false,
    "id": "a5bd0a61-d974-443b-996c-fe1af9337185",
    "slideshow": {
     "slide_type": "fragment"
    }
   },
   "outputs": [
    {
     "ename": "IndexError",
     "evalue": "list index out of range",
     "output_type": "error",
     "traceback": [
      "\u001b[0;31m---------------------------------------------------------------------------\u001b[0m",
      "\u001b[0;31mIndexError\u001b[0m                                Traceback (most recent call last)",
      "\u001b[0;32m<ipython-input-38-61bafca28bdf>\u001b[0m in \u001b[0;36m<module>\u001b[0;34m()\u001b[0m\n\u001b[1;32m      1\u001b[0m \u001b[0;31m# Python knows the size\u001b[0m\u001b[0;34m\u001b[0m\u001b[0;34m\u001b[0m\u001b[0m\n\u001b[1;32m      2\u001b[0m \u001b[0;34m\u001b[0m\u001b[0m\n\u001b[0;32m----> 3\u001b[0;31m \u001b[0mprint\u001b[0m\u001b[0;34m(\u001b[0m\u001b[0mmovie_list\u001b[0m\u001b[0;34m[\u001b[0m\u001b[0mlen\u001b[0m\u001b[0;34m(\u001b[0m\u001b[0mmovie_list\u001b[0m\u001b[0;34m)\u001b[0m\u001b[0;34m]\u001b[0m\u001b[0;34m)\u001b[0m\u001b[0;34m\u001b[0m\u001b[0m\n\u001b[0m",
      "\u001b[0;31mIndexError\u001b[0m: list index out of range"
     ]
    }
   ],
   "source": [
    "# Python knows the size\n",
    "\n",
    "print(movie_list[len(movie_list)])"
   ]
  },
  {
   "cell_type": "code",
   "execution_count": 39,
   "metadata": {
    "collapsed": false,
    "focus": false,
    "id": "5b376776-f4f1-41b3-889e-defe80662167",
    "slideshow": {
     "slide_type": "subslide"
    }
   },
   "outputs": [
    {
     "name": "stdout",
     "output_type": "stream",
     "text": [
      "5\n"
     ]
    }
   ],
   "source": [
    "print(len(movie_list))\n",
    "\n",
    "# Why will this not work?"
   ]
  },
  {
   "cell_type": "markdown",
   "metadata": {
    "focus": false,
    "id": "3221973a-532d-49cd-8438-d6025347b290",
    "slideshow": {
     "slide_type": "fragment"
    }
   },
   "source": [
    "Lists in Python are zero-indexed. But if the `len` function told us there were 4 elements (including 0), that would be confusing!\n",
    "\n",
    "So, the length of a list may be 5 elements but we have to access them using zero-indexed indices. So, how would we get the last element?"
   ]
  },
  {
   "cell_type": "code",
   "execution_count": 40,
   "metadata": {
    "collapsed": false,
    "focus": false,
    "id": "f1723412-86f0-4844-9be7-9948f486479f",
    "slideshow": {
     "slide_type": "fragment"
    }
   },
   "outputs": [
    {
     "name": "stdout",
     "output_type": "stream",
     "text": [
      "Casper\n"
     ]
    }
   ],
   "source": [
    "print(movie_list[len(movie_list) - 1]) "
   ]
  },
  {
   "cell_type": "markdown",
   "metadata": {
    "focus": false,
    "id": "e9cdfee8-81b8-47ae-8409-600ca30b94ff",
    "slideshow": {
     "slide_type": "subslide"
    }
   },
   "source": [
    "# Accessing Elements in a List\n",
    "\n",
    "## Reverse Indexing\n",
    "\n",
    "Using the method from the previous slides is pretty longwinded, although useful. This is the way to do it in most programming languages.\n",
    "\n",
    "However, Python is not always like most programming languages. In this case, we have reverse indexing! Which works just how it sounds."
   ]
  },
  {
   "cell_type": "code",
   "execution_count": 42,
   "metadata": {
    "collapsed": false,
    "focus": false,
    "id": "a0e4e5bb-3c32-4aa1-ae21-edf9ec1a784e",
    "slideshow": {
     "slide_type": "subslide"
    }
   },
   "outputs": [
    {
     "name": "stdout",
     "output_type": "stream",
     "text": [
      "Casper\n",
      "Midnight Special\n"
     ]
    }
   ],
   "source": [
    "print(movie_list[-1]) #last element\n",
    "print(movie_list[-2]) #second to last"
   ]
  },
  {
   "cell_type": "markdown",
   "metadata": {
    "focus": false,
    "id": "90245773-b380-42bd-9ca7-85d97d975170",
    "slideshow": {
     "slide_type": "fragment"
    }
   },
   "source": [
    "The best way to think of negative indexing is to see:\n",
    "\n",
    "`list[-X]`\n",
    "\n",
    "as\n",
    "\n",
    "`list[len(list)-X]`"
   ]
  },
  {
   "cell_type": "markdown",
   "metadata": {
    "focus": false,
    "id": "3c4b44a6-dd40-42ac-a7e7-ade0894d93fd",
    "slideshow": {
     "slide_type": "slide"
    }
   },
   "source": [
    "### Exercise\n",
    "\n",
    "- Instantiate a list with 3 elements inside\n",
    "- Print the first element\n",
    "- Change the first element to equal `house`\n",
    "- Print the whole list\n",
    "- Print the length of the list\n",
    "- Print the second to last element\n",
    "- Create an empty list\n",
    "- What happens when you try and print the second element?\n",
    "- What about when you assign a literal to the first element? "
   ]
  },
  {
   "cell_type": "code",
   "execution_count": 1,
   "metadata": {
    "collapsed": false,
    "focus": false,
    "id": "aed3b56a-82f0-4272-bc35-68b6c2c4f4b4",
    "slideshow": {
     "slide_type": "skip"
    }
   },
   "outputs": [
    {
     "name": "stdout",
     "output_type": "stream",
     "text": [
      "1\n",
      "['house', 2, 3]\n"
     ]
    },
    {
     "ename": "IndexError",
     "evalue": "list index out of range",
     "output_type": "error",
     "traceback": [
      "\u001b[0;31m----------------------------------------------------------------------\u001b[0m",
      "\u001b[0;31mIndexError\u001b[0m                           Traceback (most recent call last)",
      "\u001b[0;32m<ipython-input-1-5c35cd54106f>\u001b[0m in \u001b[0;36m<module>\u001b[0;34m()\u001b[0m\n\u001b[1;32m      4\u001b[0m \u001b[0mprint\u001b[0m\u001b[0;34m(\u001b[0m\u001b[0mthree_elements\u001b[0m\u001b[0;34m)\u001b[0m\u001b[0;34m\u001b[0m\u001b[0m\n\u001b[1;32m      5\u001b[0m \u001b[0mempty_list\u001b[0m \u001b[0;34m=\u001b[0m \u001b[0;34m[\u001b[0m\u001b[0;34m]\u001b[0m\u001b[0;34m\u001b[0m\u001b[0m\n\u001b[0;32m----> 6\u001b[0;31m \u001b[0mprint\u001b[0m\u001b[0;34m(\u001b[0m\u001b[0mempty_list\u001b[0m\u001b[0;34m[\u001b[0m\u001b[0;36m1\u001b[0m\u001b[0;34m]\u001b[0m\u001b[0;34m)\u001b[0m\u001b[0;34m\u001b[0m\u001b[0m\n\u001b[0m\u001b[1;32m      7\u001b[0m \u001b[0mempty_list\u001b[0m\u001b[0;34m[\u001b[0m\u001b[0;36m0\u001b[0m\u001b[0;34m]\u001b[0m \u001b[0;34m=\u001b[0m \u001b[0;36m1\u001b[0m\u001b[0;34m\u001b[0m\u001b[0m\n",
      "\u001b[0;31mIndexError\u001b[0m: list index out of range"
     ]
    }
   ],
   "source": [
    "three_elements = [1, 2, 3]\n",
    "print(three_elements[0])\n",
    "three_elements[0] = 'house'\n",
    "print(three_elements)\n",
    "empty_list = []\n",
    "print(empty_list[1]) #IndexError\n",
    "empty_list[0] = 1 #IndexError"
   ]
  },
  {
   "cell_type": "markdown",
   "metadata": {
    "focus": false,
    "id": "f6895803-16ee-4613-b0ca-78af81762476",
    "slideshow": {
     "slide_type": "slide"
    }
   },
   "source": [
    "# Adding to Lists\n",
    "\n",
    "Lists, like all Python objects, have methods built into them. We can find these out by using the `dir` function"
   ]
  },
  {
   "cell_type": "code",
   "execution_count": 2,
   "metadata": {
    "collapsed": false,
    "focus": false,
    "id": "b446b605-5ac7-4258-ad96-db3d499ed7c2",
    "slideshow": {
     "slide_type": "fragment"
    }
   },
   "outputs": [
    {
     "data": {
      "text/plain": [
       "['__add__',\n",
       " '__class__',\n",
       " '__contains__',\n",
       " '__delattr__',\n",
       " '__delitem__',\n",
       " '__dir__',\n",
       " '__doc__',\n",
       " '__eq__',\n",
       " '__format__',\n",
       " '__ge__',\n",
       " '__getattribute__',\n",
       " '__getitem__',\n",
       " '__gt__',\n",
       " '__hash__',\n",
       " '__iadd__',\n",
       " '__imul__',\n",
       " '__init__',\n",
       " '__iter__',\n",
       " '__le__',\n",
       " '__len__',\n",
       " '__lt__',\n",
       " '__mul__',\n",
       " '__ne__',\n",
       " '__new__',\n",
       " '__reduce__',\n",
       " '__reduce_ex__',\n",
       " '__repr__',\n",
       " '__reversed__',\n",
       " '__rmul__',\n",
       " '__setattr__',\n",
       " '__setitem__',\n",
       " '__sizeof__',\n",
       " '__str__',\n",
       " '__subclasshook__',\n",
       " 'append',\n",
       " 'clear',\n",
       " 'copy',\n",
       " 'count',\n",
       " 'extend',\n",
       " 'index',\n",
       " 'insert',\n",
       " 'pop',\n",
       " 'remove',\n",
       " 'reverse',\n",
       " 'sort']"
      ]
     },
     "execution_count": 2,
     "metadata": {},
     "output_type": "execute_result"
    }
   ],
   "source": [
    "dir([])"
   ]
  },
  {
   "cell_type": "markdown",
   "metadata": {
    "focus": false,
    "id": "8d7ac837-eb99-4aa9-aead-96b08d8cccc0",
    "slideshow": {
     "slide_type": "subslide"
    }
   },
   "source": [
    "# Adding to Lists"
   ]
  },
  {
   "cell_type": "code",
   "execution_count": 4,
   "metadata": {
    "collapsed": false,
    "focus": false,
    "id": "9196df5c-f3b9-4abc-85e2-44ff24fecb07",
    "slideshow": {
     "slide_type": "fragment"
    }
   },
   "outputs": [
    {
     "name": "stdout",
     "output_type": "stream",
     "text": [
      "['The Artist', 'The Room', 'Rambo 4']\n"
     ]
    }
   ],
   "source": [
    "awful_movies = []\n",
    "awful_movies.append('The Artist')\n",
    "awful_movies.append('The Room')\n",
    "awful_movies.append('Rambo 4')\n",
    "print(awful_movies)"
   ]
  },
  {
   "cell_type": "markdown",
   "metadata": {
    "focus": false,
    "id": "5bf3f6e2-15ae-4e8c-9127-673c01b3136a",
    "slideshow": {
     "slide_type": "subslide"
    }
   },
   "source": [
    "### Exercise\n",
    "\n",
    "Create the list above. Using the `dir` and `help` functions, do the following:\n",
    "- Copy the list to a new list and call it `great_movies`\n",
    "- `Pop` the last element off the new list\n",
    "- What is the method to `count` the number of occurrences of an item in a list?\n",
    "- Print the number of occurrences of `Rambo 4`"
   ]
  },
  {
   "cell_type": "code",
   "execution_count": 17,
   "metadata": {
    "collapsed": false,
    "focus": false,
    "id": "34617a81-cfd9-4dd8-a2df-fd8a139a12be",
    "slideshow": {
     "slide_type": "skip"
    }
   },
   "outputs": [
    {
     "name": "stdout",
     "output_type": "stream",
     "text": [
      "Rambo 4\n",
      "['The Artist', 'The Room', 'Rambo 4']\n",
      "2\n"
     ]
    }
   ],
   "source": [
    "great_movies = awful_movies.copy()\n",
    "print(my_film.pop())\n",
    "print(awful_movies)\n",
    "#count('item_to_find')\n",
    "print(awful_movies.index('Rambo 4'))"
   ]
  },
  {
   "cell_type": "markdown",
   "metadata": {
    "focus": false,
    "id": "5efef386-c0c8-4a89-b406-a79292ee7951",
    "slideshow": {
     "slide_type": "slide"
    }
   },
   "source": [
    "# LIFO and FIFO\n",
    "\n",
    "Lists in Python are just that: lists of elements. But how we add and remove items is dependent on the type of data structure."
   ]
  },
  {
   "cell_type": "markdown",
   "metadata": {
    "focus": false,
    "id": "a43ff33c-d5cd-492d-a57a-e523641c0643",
    "slideshow": {
     "slide_type": "subslide"
    }
   },
   "source": [
    "# Last In First Out\n",
    "\n",
    "Think of a shopping cart that you fill as you go around a supermarket. Assuming you are organised and fill from the bottom up, then you will empty the cart at the checkout with the last items you put in there first.\n",
    "\n",
    "![](img/lifo.png)"
   ]
  },
  {
   "cell_type": "markdown",
   "metadata": {
    "focus": false,
    "id": "5c90b68c-49d0-4626-980c-3d5c31259d49",
    "slideshow": {
     "slide_type": "subslide"
    }
   },
   "source": [
    "# First In First Out\n",
    "\n",
    "Now think of the conveyor belt that you put the shopping on. When the checkout assistant (or robot that will soon replace them) gets to scan the items.\n",
    "\n",
    "![](img/fifo.png)"
   ]
  },
  {
   "cell_type": "markdown",
   "metadata": {
    "focus": false,
    "id": "133137ec-c487-4533-a267-7a01ed15d1e8",
    "slideshow": {
     "slide_type": "subslide"
    }
   },
   "source": [
    "![](img/lifoVSfifo.gif)"
   ]
  },
  {
   "cell_type": "markdown",
   "metadata": {
    "focus": false,
    "id": "e5bff750-833c-4b36-859d-955381186f58",
    "slideshow": {
     "slide_type": "slide"
    }
   },
   "source": [
    "### Exercise\n",
    "\n",
    "Which of the examples are FIFO and which are LIFO?\n",
    "\n",
    "- Backpack\n",
    "- Supermark Queue\n",
    "- Smarties packet\n",
    "- Baggage carousel\n"
   ]
  },
  {
   "cell_type": "markdown",
   "metadata": {
    "focus": true,
    "id": "d437502f-80a9-4798-a32a-8e06e5697723",
    "slideshow": {
     "slide_type": "fragment"
    }
   },
   "source": [
    "- LIFO\n",
    "- FIFO\n",
    "- LIFO\n",
    "- FIFO"
   ]
  },
  {
   "cell_type": "markdown",
   "metadata": {
    "focus": false,
    "id": "48ec208b-c419-43a8-a7b2-c1de1d866d67",
    "slideshow": {
     "slide_type": "slide"
    }
   },
   "source": [
    "# Iteration\n",
    "\n",
    "Repeating a set of instructions `n` times or until a specified result has been achieved. \n",
    "\n",
    "What are some examples of iteration?"
   ]
  },
  {
   "cell_type": "markdown",
   "metadata": {
    "focus": false,
    "id": "ebc96490-bc01-4746-9571-3d8c0a9e7bc6",
    "slideshow": {
     "slide_type": "fragment"
    }
   },
   "source": [
    "- for loops\n",
    "- while loops"
   ]
  },
  {
   "cell_type": "markdown",
   "metadata": {
    "focus": false,
    "id": "9a4408d5-2630-44a5-9c6d-67dd2c1b4600",
    "slideshow": {
     "slide_type": "subslide"
    }
   },
   "source": [
    "# For loops\n",
    "\n",
    "Looping through a specified number of times, such as the length of a list."
   ]
  },
  {
   "cell_type": "code",
   "execution_count": 4,
   "metadata": {
    "collapsed": false,
    "focus": false,
    "id": "546e0d0e-c0c9-4b62-87c3-dc176b9530f3",
    "slideshow": {
     "slide_type": "fragment"
    }
   },
   "outputs": [
    {
     "name": "stdout",
     "output_type": "stream",
     "text": [
      "Length of list is: 5\n",
      "0\n",
      "1\n",
      "2\n",
      "3\n",
      "4\n"
     ]
    }
   ],
   "source": [
    "my_list = [1, 2, 3, 4, 5]\n",
    "print(\"Length of list is: {0}\".format(len(my_list)))\n",
    "#for i  in range(len(my_list)):\n",
    "#    print(i)\n",
    "#    print(my_list[i])\n",
    "    \n",
    "for jimmy in range(5):\n",
    "    print(jimmy)"
   ]
  },
  {
   "cell_type": "markdown",
   "metadata": {
    "focus": false,
    "id": "4f8d252c-d824-41b7-acbc-7902ffea7365",
    "slideshow": {
     "slide_type": "subslide"
    }
   },
   "source": [
    "### Exercise\n",
    "\n",
    "Modify the above code to print out the value at the index of the list"
   ]
  },
  {
   "cell_type": "markdown",
   "metadata": {
    "focus": false,
    "id": "3f02bbff-dd18-4b75-b44b-4827e9c781c3",
    "slideshow": {
     "slide_type": "subslide"
    }
   },
   "source": [
    "# Iterating Over Lists\n",
    "\n",
    "There are multiple ways we can iterate over a list and access the elements within:"
   ]
  },
  {
   "cell_type": "code",
   "execution_count": 12,
   "metadata": {
    "collapsed": false,
    "focus": false,
    "id": "82fa5485-0e43-4427-82b6-b7e2931b7668",
    "slideshow": {
     "slide_type": "fragment"
    }
   },
   "outputs": [
    {
     "name": "stdout",
     "output_type": "stream",
     "text": [
      "0\n",
      "1\n",
      "2\n",
      "3\n",
      "---------\n",
      "0 cats\n",
      "1 hippopotamus\n",
      "2 weasel\n",
      "3 glorbanflorb\n",
      "---------\n",
      "cats\n",
      "hippopotamus\n",
      "weasel\n",
      "glorbanflorb\n"
     ]
    }
   ],
   "source": [
    "my_list = ['cats', 'hippopotamus', 'weasel', 'glorbanflorb']\n",
    "for index in range(len(my_list)):\n",
    "    print(index) # just the index\n",
    "print('---------')\n",
    "for key, value in enumerate(my_list):\n",
    "    print(key, value) #access both key and value\n",
    "print('---------')\n",
    "for value in my_list: #Called a For in or a For each loop\n",
    "    print(value) #access just value but NO index\n",
    "    \n",
    "# Is one better than the others?"
   ]
  },
  {
   "cell_type": "markdown",
   "metadata": {
    "focus": false,
    "id": "e6ac75e2-2abd-4419-808e-17848220248f",
    "slideshow": {
     "slide_type": "subslide"
    }
   },
   "source": [
    "# Iterating Over Lists\n",
    "\n",
    "As expected, there is no `silver bullet`, each of these solutions is perfectly viable. However, when needing both index and value, `enumerate` is recommended because it supports multiple data types.\n",
    "\n",
    "There are many studies that show the memory usage and execution time of `range` and `enumerate`, but that is beyond the scope of this course."
   ]
  },
  {
   "cell_type": "markdown",
   "metadata": {
    "focus": false,
    "id": "631fb263-fe81-45d8-9744-86261b594e29",
    "slideshow": {
     "slide_type": "subslide"
    }
   },
   "source": [
    "### Exercise\n",
    "\n",
    "- Create a list of some cities in the UK (use people at your table)\n",
    "- Loop through them and print them out\n",
    "- Print the index of the city if it contains the letter `h`"
   ]
  },
  {
   "cell_type": "code",
   "execution_count": 16,
   "metadata": {
    "collapsed": false,
    "focus": false,
    "id": "bbd201ce-72d0-4d34-825a-fdce7cb7a2e1",
    "slideshow": {
     "slide_type": "skip"
    }
   },
   "outputs": [
    {
     "name": "stdout",
     "output_type": "stream",
     "text": [
      "Manchester\n",
      "H found at index: 0\n",
      "Birmingham\n",
      "H found at index: 1\n",
      "London\n",
      "Southampton\n",
      "H found at index: 3\n"
     ]
    }
   ],
   "source": [
    "cities = ['Manchester', 'Cardiff', 'London', 'Southampton']\n",
    "for key,value in enumerate(cities):\n",
    "    print(value)\n",
    "    if 'h' in value:\n",
    "        print(\"H found at index: {0}\".format(key))"
   ]
  },
  {
   "cell_type": "markdown",
   "metadata": {
    "focus": false,
    "id": "745ce17e-9c31-497b-9db9-e506088748c8",
    "slideshow": {
     "slide_type": "subslide"
    }
   },
   "source": [
    "### Exercise\n",
    "\n",
    "Given the list \n",
    "`[31,45,12,300,40000,2]`\n",
    "\n",
    "Write a for loop to calculate the sum of all the values and print out the mean of all values"
   ]
  },
  {
   "cell_type": "code",
   "execution_count": 17,
   "metadata": {
    "collapsed": false,
    "focus": false,
    "id": "db4b5563-c282-41ed-8172-605260352178",
    "slideshow": {
     "slide_type": "skip"
    }
   },
   "outputs": [
    {
     "name": "stdout",
     "output_type": "stream",
     "text": [
      "Total is 40390\n",
      "Mean is 6731.666666666667\n"
     ]
    }
   ],
   "source": [
    "nums = [31,45,12,300,40000,2]\n",
    "total = 0\n",
    "for num in nums:\n",
    "    total += num\n",
    "print(\"Total is {0}\".format(total))\n",
    "print(\"Mean is {0}\".format(total/len(nums)))"
   ]
  },
  {
   "cell_type": "markdown",
   "metadata": {
    "focus": false,
    "id": "dbc87bfb-7072-4336-af97-bdcaf864ddb2",
    "slideshow": {
     "slide_type": "slide"
    }
   },
   "source": [
    "# Controlling Iteration\n",
    "\n",
    "Sometimes, we may only want to execute when certain elements match some criteria we define. Like in the example above, we can use `if` statements for this, but there are some other **keywords**\n"
   ]
  },
  {
   "cell_type": "markdown",
   "metadata": {
    "focus": false,
    "id": "63f53547-5a3f-4a6e-832d-72223e649149",
    "slideshow": {
     "slide_type": "slide"
    }
   },
   "source": [
    "# `break`\n",
    "\n",
    "Using the `break` keyword, we can break out of our loop before it has finished. Why might this be useful?"
   ]
  },
  {
   "cell_type": "code",
   "execution_count": 5,
   "metadata": {
    "collapsed": false,
    "focus": false,
    "id": "112b4d7e-42c2-497b-9fe1-fb18ae0ce61e",
    "slideshow": {
     "slide_type": "fragment"
    }
   },
   "outputs": [
    {
     "name": "stdout",
     "output_type": "stream",
     "text": [
      "I like fudge pieces\n"
     ]
    },
    {
     "ename": "SyntaxError",
     "evalue": "invalid syntax (<string>, line 1)",
     "output_type": "error",
     "traceback": [
      "\u001b[0;36m  File \u001b[0;32m\"<string>\"\u001b[0;36m, line \u001b[0;32m1\u001b[0m\n\u001b[0;31m    I like fudge pieces\u001b[0m\n\u001b[0m         ^\u001b[0m\n\u001b[0;31mSyntaxError\u001b[0m\u001b[0;31m:\u001b[0m invalid syntax\n"
     ]
    }
   ],
   "source": [
    "bad_words = ['fudge', 'bar steward', 'doody head']\n",
    "my_string = input()\n",
    "my_string_list = my_string.split(' ') #split at space to create a list of words\n",
    "for word in my_string_list:\n",
    "    if word in bad_words:\n",
    "        print(\"Whoa now, no need for obscenities\")\n",
    "        break\n",
    "    else:\n",
    "        print(word)"
   ]
  },
  {
   "cell_type": "markdown",
   "metadata": {
    "focus": false,
    "id": "60d285a7-df41-4854-a4f3-bf90c1a0e101",
    "slideshow": {
     "slide_type": "subslide"
    }
   },
   "source": [
    "### Exercise\n",
    "\n",
    "Write a for loop that asks a user for 5 positive integers and adds them to a list\n",
    "\n",
    "Break out of the loop if the user input is not an integer\n",
    "\n",
    "Print the mean if all 5 are input"
   ]
  },
  {
   "cell_type": "markdown",
   "metadata": {
    "focus": false,
    "id": "03f7e29c-b890-4cb5-bad8-386edea2b094",
    "slideshow": {
     "slide_type": "fragment"
    }
   },
   "source": [
    "Hint:\n",
    "- Write the code to add to the list first\n",
    "- You can check if a string is a positive integer using `isdigit`\n",
    "\n",
    "### What other ways could we use to check if the input variable is a number?"
   ]
  },
  {
   "cell_type": "code",
   "execution_count": 28,
   "metadata": {
    "collapsed": false,
    "focus": false,
    "id": "f5c4d73e-fadd-46cd-978c-b5b5574cfeda",
    "slideshow": {
     "slide_type": "skip"
    }
   },
   "outputs": [
    {
     "name": "stdout",
     "output_type": "stream",
     "text": [
      "Enter a positive integer please: 1\n",
      "Enter a positive integer please: 2\n",
      "Enter a positive integer please: 5\n",
      "Enter a positive integer please: 6\n",
      "Enter a positive integer please: 7\n",
      "4.2\n"
     ]
    }
   ],
   "source": [
    "user_nums = []\n",
    "total = 0\n",
    "for i in range(0, 5):\n",
    "    user_input = input(\"Enter a positive integer please: \")\n",
    "    if user_input.isdigit():\n",
    "        user_nums.append(user_input)\n",
    "        total += int(user_input)\n",
    "    else:\n",
    "        print(\"I said POSITIVE NUMBER!\")\n",
    "        break\n",
    "if len(user_nums) == 5:\n",
    "    print(total/len(user_nums))\n",
    "    "
   ]
  },
  {
   "cell_type": "markdown",
   "metadata": {
    "focus": false,
    "id": "d956f93f-b923-4527-afc7-2abd3d2ea10c",
    "slideshow": {
     "slide_type": "slide"
    }
   },
   "source": [
    "# `continue`\n",
    "\n",
    "The `continue` keyword passes over the current iteration and heads straight for the next one. For example, if a value matches a value we do not want.\n",
    "\n",
    "The difference here is that the loop **does not stop**. The loop continues until the end and just skips when continue is used."
   ]
  },
  {
   "cell_type": "code",
   "execution_count": 29,
   "metadata": {
    "collapsed": false,
    "focus": false,
    "id": "78a42bb5-e5dc-4176-a43b-6e051a460eb1",
    "slideshow": {
     "slide_type": "fragment"
    }
   },
   "outputs": [
    {
     "name": "stdout",
     "output_type": "stream",
     "text": [
      "0\n",
      "1\n",
      "3\n",
      "4\n"
     ]
    }
   ],
   "source": [
    "for i in range(0, 5):\n",
    "    if i == 2:\n",
    "        continue #head back to the top and go to the next value for i\n",
    "    print(i) #if i == 2 then this line is not executed"
   ]
  },
  {
   "cell_type": "markdown",
   "metadata": {
    "focus": false,
    "id": "7e767b90-11d3-41a2-bae1-a1c8ce054da7",
    "slideshow": {
     "slide_type": "subslide"
    }
   },
   "source": [
    "### Exercise\n",
    "\n",
    "Write a for loop that only prints out only the consonants of a word input by the user.\n",
    "\n",
    "Hint: looping through a string using a for...in loop gives you each letter"
   ]
  },
  {
   "cell_type": "code",
   "execution_count": 30,
   "metadata": {
    "collapsed": false,
    "focus": false,
    "id": "b4b3b63e-519c-41f5-81c1-1a3f42d770fb",
    "slideshow": {
     "slide_type": "skip"
    }
   },
   "outputs": [
    {
     "name": "stdout",
     "output_type": "stream",
     "text": [
      "sausage\n",
      "s\n",
      "s\n",
      "g\n"
     ]
    }
   ],
   "source": [
    "user_string = input()\n",
    "vowels = ['a', 'e', 'i', 'o', 'u']\n",
    "for letter in user_string:\n",
    "    if letter in vowels:\n",
    "        continue\n",
    "    print(letter)\n",
    "    "
   ]
  },
  {
   "cell_type": "markdown",
   "metadata": {
    "focus": false,
    "id": "bf37fdaf-a437-4835-b2a3-f86713086b79",
    "slideshow": {
     "slide_type": "slide"
    }
   },
   "source": [
    "# `pass`\n",
    "\n",
    "`pass` is a keyword used when we do not want to execute a block of code.\n",
    "Typically, you would not use this in a loop but it can have benefits when you are developing.\n",
    "\n",
    "For example: what happens if you create a function but do not write any code for it yet?"
   ]
  },
  {
   "cell_type": "code",
   "execution_count": 31,
   "metadata": {
    "collapsed": false,
    "focus": false,
    "id": "a9165fd3-a0f2-48cf-aecd-58a64bb6f4c8",
    "slideshow": {
     "slide_type": "fragment"
    }
   },
   "outputs": [
    {
     "ename": "SyntaxError",
     "evalue": "unexpected EOF while parsing (<ipython-input-31-ff58bf0093ce>, line 2)",
     "output_type": "error",
     "traceback": [
      "\u001b[0;36m  File \u001b[0;32m\"<ipython-input-31-ff58bf0093ce>\"\u001b[0;36m, line \u001b[0;32m2\u001b[0m\n\u001b[0;31m    \u001b[0m\n\u001b[0m    ^\u001b[0m\n\u001b[0;31mSyntaxError\u001b[0m\u001b[0;31m:\u001b[0m unexpected EOF while parsing\n"
     ]
    }
   ],
   "source": [
    "def my_function():\n",
    "    "
   ]
  },
  {
   "cell_type": "code",
   "execution_count": 32,
   "metadata": {
    "collapsed": true,
    "focus": false,
    "id": "6da5479f-dd2f-4d7f-9934-f643fc602c41",
    "slideshow": {
     "slide_type": "fragment"
    }
   },
   "outputs": [],
   "source": [
    "def my_function():\n",
    "    pass"
   ]
  },
  {
   "cell_type": "markdown",
   "metadata": {
    "focus": false,
    "id": "b2f2ef18-1f14-4a82-a59f-e4ee97c93354",
    "slideshow": {
     "slide_type": "slide"
    }
   },
   "source": [
    "# List Comprehension\n",
    "\n",
    "Lists in Python are more powerful than general arrays in most other languages. Lists allow you to perform `comprehensions`, which are really just instructions that generally cover multiple lines, condensed down into a single line. For example, consider creating a list of all odd numbers between 1 and 100.\n",
    "\n",
    "How might we do this?"
   ]
  },
  {
   "cell_type": "code",
   "execution_count": 3,
   "metadata": {
    "collapsed": false,
    "focus": false,
    "id": "083ead4e-6d42-4679-a406-8066eba5dcf5",
    "slideshow": {
     "slide_type": "subslide"
    }
   },
   "outputs": [
    {
     "name": "stdout",
     "output_type": "stream",
     "text": [
      "[1, 3, 5, 7, 9, 11, 13, 15, 17, 19, 21, 23, 25, 27, 29, 31, 33, 35, 37, 39, 41, 43, 45, 47, 49, 51, 53, 55, 57, 59, 61, 63, 65, 67, 69, 71, 73, 75, 77, 79, 81, 83, 85, 87, 89, 91, 93, 95, 97, 99]\n"
     ]
    }
   ],
   "source": [
    "odd_list = []\n",
    "# for i in range(1, 100, 2):\n",
    "#    odd_list.append(i)\n",
    "    \n",
    "for i in range(1, 100):\n",
    "    if i % 2 != 0:\n",
    "        odd_list.append(i)\n",
    "        \n",
    "print(odd_list)"
   ]
  },
  {
   "cell_type": "code",
   "execution_count": 7,
   "metadata": {
    "collapsed": false,
    "focus": false,
    "id": "230ebdf5-0861-45e3-910c-c1eab38f12e1",
    "slideshow": {
     "slide_type": "subslide"
    }
   },
   "outputs": [
    {
     "name": "stdout",
     "output_type": "stream",
     "text": [
      "[1, 3, 5, 7, 9, 11, 13, 15, 17, 19, 21, 23, 25, 27, 29, 31, 33, 35, 37, 39, 41, 43, 45, 47, 49, 51, 53, 55, 57, 59, 61, 63, 65, 67, 69, 71, 73, 75, 77, 79, 81, 83, 85, 87, 89, 91, 93, 95, 97, 99]\n"
     ]
    }
   ],
   "source": [
    "odd_list = [x for x in range(1, 100, 2)] # list comprehension is comprehensive!\n",
    "print(odd_list)"
   ]
  },
  {
   "cell_type": "markdown",
   "metadata": {
    "focus": false,
    "id": "bf2e2cc3-064b-45aa-ae00-83037313dd98",
    "slideshow": {
     "slide_type": "slide"
    }
   },
   "source": [
    "# While Loops\n",
    "\n",
    "While loops are another form of iteration, calling a block of code **while** a condition is true.\n",
    "\n",
    "All of the above keywords can be used within while loops and other Python code."
   ]
  },
  {
   "cell_type": "code",
   "execution_count": 33,
   "metadata": {
    "collapsed": false,
    "focus": false,
    "id": "a8e626fd-649e-4166-bf1a-a4524f9432d1",
    "slideshow": {
     "slide_type": "fragment"
    }
   },
   "outputs": [
    {
     "name": "stdout",
     "output_type": "stream",
     "text": [
      "0\n",
      "1\n",
      "2\n",
      "3\n",
      "4\n",
      "5\n",
      "6\n",
      "7\n",
      "8\n",
      "9\n"
     ]
    }
   ],
   "source": [
    "i = 0\n",
    "while(i < 6):\n",
    "    print(i)\n",
    "    i += 1"
   ]
  },
  {
   "cell_type": "markdown",
   "metadata": {
    "focus": false,
    "id": "a482f17d-ac0f-4921-b2d1-d4355ae085bc",
    "slideshow": {
     "slide_type": "subslide"
    }
   },
   "source": [
    "# Infinite Loops\n",
    "\n",
    "Be careful with while loops as they do not change the value like a for loop does!"
   ]
  },
  {
   "cell_type": "code",
   "execution_count": null,
   "metadata": {
    "collapsed": true,
    "focus": false,
    "id": "4baf3bcf-f040-4f59-aca7-e844705f2833",
    "slideshow": {
     "slide_type": "fragment"
    }
   },
   "outputs": [],
   "source": [
    "i = 0\n",
    "while(i < 10):\n",
    "    print(i) #how many times will i be printed?"
   ]
  },
  {
   "cell_type": "markdown",
   "metadata": {
    "focus": false,
    "id": "1caf18fd-0d26-47f9-a478-8c86699cb06f",
    "slideshow": {
     "slide_type": "subslide"
    }
   },
   "source": [
    "HINT: CTRL-C ends a script\n",
    "\n",
    "Sometimes, infinite loops can be useful. For example, we may want to keep receiving information from a client if we are listening for new files or input from a user if we are making a text-based game"
   ]
  },
  {
   "cell_type": "markdown",
   "metadata": {
    "focus": false,
    "id": "cde02333-ff17-453a-87c2-81744cd4ebf4",
    "slideshow": {
     "slide_type": "subslide"
    }
   },
   "source": [
    "### Exercise\n",
    "\n",
    "Write a while loop that prints what a user has typed.\n",
    "If the user types `quit` then exit the loop\n",
    "If the user enters `dnp` then do not print but still prompt them to enter more text"
   ]
  },
  {
   "cell_type": "code",
   "execution_count": null,
   "metadata": {
    "collapsed": false,
    "focus": false,
    "id": "5e2e4fb2-a09a-46f4-b9da-b203d091cfc8",
    "slideshow": {
     "slide_type": "skip"
    }
   },
   "outputs": [],
   "source": [
    "while(True):\n",
    "    user_string = input(\"Tell me a secret: \")\n",
    "    if user_string == \"quit\":\n",
    "        break\n",
    "    elif \"dnp\" in user_string:    \n",
    "        continue\n",
    "    else:\n",
    "        print(user_string)"
   ]
  },
  {
   "cell_type": "markdown",
   "metadata": {
    "focus": false,
    "id": "c4541fe9-c510-4036-8fdf-33e979217d85",
    "slideshow": {
     "slide_type": "slide"
    }
   },
   "source": [
    "![treat](img/treat.gif)\n",
    "\n",
    "### Homework\n",
    "\n",
    "1. How is a list different from an array in other languages? (max. 200 words)\n",
    "2. Create an empty list\n",
    "3. Use a while loop to add numbers to the list until the user enters `quit`\n",
    "4. Print out the first and last elements of the list\n",
    "5. Loop through the list and print out the index of each even number\n",
    "6. Print out the mean"
   ]
  }
 ],
 "metadata": {
  "celltoolbar": "Slideshow",
  "kernelspec": {
   "display_name": "Python 2",
   "language": "python",
   "name": "python2"
  },
  "language_info": {
   "codemirror_mode": {
    "name": "ipython",
    "version": 2
   },
   "file_extension": ".py",
   "mimetype": "text/x-python",
   "name": "python",
   "nbconvert_exporter": "python",
   "pygments_lexer": "ipython2",
   "version": "2.7.12"
  },
  "latex_envs": {
   "bibliofile": "biblio.bib",
   "cite_by": "apalike",
   "current_citInitial": 1,
   "eqLabelWithNumbers": true,
   "eqNumInitial": 0
  },
  "nav_menu": {},
  "toc": {
   "navigate_menu": true,
   "number_sections": true,
   "sideBar": true,
   "threshold": 6,
   "toc_cell": false,
   "toc_section_display": "block",
   "toc_window_display": false
  }
 },
 "nbformat": 4,
 "nbformat_minor": 0
}
