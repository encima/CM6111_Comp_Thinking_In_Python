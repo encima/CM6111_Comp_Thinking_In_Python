{
 "cells": [
  {
   "cell_type": "code",
   "execution_count": 1,
   "metadata": {
    "collapsed": false,
    "slideshow": {
     "slide_type": "skip"
    }
   },
   "outputs": [
    {
     "data": {
      "text/plain": [
       "{'start_slideshow_at': 'selected', 'theme': 'solarized', 'transition': 'zoom'}"
      ]
     },
     "execution_count": 1,
     "metadata": {},
     "output_type": "execute_result"
    }
   ],
   "source": [
    "from notebook.services.config import ConfigManager\n",
    "from IPython.paths import locate_profile\n",
    "cm = ConfigManager(profile_dir=locate_profile(get_ipython().profile))\n",
    "cm.update('livereveal', {\n",
    "              'theme': 'solarized',\n",
    "              'transition': 'zoom',\n",
    "              'start_slideshow_at': 'selected',\n",
    "})"
   ]
  },
  {
   "cell_type": "markdown",
   "metadata": {
    "slideshow": {
     "slide_type": "slide"
    }
   },
   "source": [
    "# Recursion and Dictionaries\n",
    "\n",
    "## Dr. Chris Gwilliams\n",
    "\n",
    "### gwilliamsc@cardiff.ac.uk"
   ]
  },
  {
   "cell_type": "markdown",
   "metadata": {
    "slideshow": {
     "slide_type": "slide"
    }
   },
   "source": [
    "# Overview\n",
    "\n",
    "- Scripts in Python\n",
    "- Types\n",
    "- Methods and Functions\n",
    "- Flow control\n",
    "- Lists\n",
    "- Iteration\n",
    "    - for loops\n",
    "    - while loops\n",
    "## Now\n",
    "\n",
    "- Dicts\n",
    "- Tuples\n",
    "- Iteration vs Recursion\n",
    "- Recursion"
   ]
  },
  {
   "cell_type": "markdown",
   "metadata": {
    "slideshow": {
     "slide_type": "slide"
    }
   },
   "source": [
    "# Dictionaries\n",
    "\n",
    "Python has many different data structures available (see [here](https://docs.python.org/2/tutorial/datastructures.html))\n",
    "\n",
    "The dictionary structure is similar to a list, but the index is specified by you. \n",
    "\n",
    "It is also known as an `associative array`, where values are mapped to a key."
   ]
  },
  {
   "cell_type": "code",
   "execution_count": 1,
   "metadata": {
    "collapsed": false,
    "slideshow": {
     "slide_type": "subslide"
    }
   },
   "outputs": [
    {
     "name": "stdout",
     "output_type": "stream",
     "text": [
      "{'phone': 999, 'name': 'Homer', 'email': 'homer@simpsons.com'}\n"
     ]
    }
   ],
   "source": [
    "empty_dict = {}\n",
    "contact_dict = {\n",
    "    \"name\": \"Homer\",\n",
    "    \"email\": \"homer@simpsons.com\",\n",
    "    \"phone\": 999\n",
    "}\n",
    "print(contact_dict)"
   ]
  },
  {
   "cell_type": "markdown",
   "metadata": {
    "slideshow": {
     "slide_type": "fragment"
    }
   },
   "source": [
    "This follows the format of [JSON](http://json.org/) (JavaScript Object Notation).\n",
    "\n",
    "Keys can be accessed the same way as lists:"
   ]
  },
  {
   "cell_type": "code",
   "execution_count": null,
   "metadata": {
    "collapsed": true,
    "slideshow": {
     "slide_type": "fragment"
    }
   },
   "outputs": [],
   "source": [
    "print(contact_dict['email'])"
   ]
  },
  {
   "cell_type": "markdown",
   "metadata": {
    "slideshow": {
     "slide_type": "slide"
    }
   },
   "source": [
    "### Exercise\n",
    "\n",
    "- Create a dictionary with information about the software academy\n",
    "- Loop through it and print the values\n",
    "- Now use `enumerate` to print the key index\n",
    "- Modify the loop to only print the values where the length is > 5"
   ]
  },
  {
   "cell_type": "code",
   "execution_count": 13,
   "metadata": {
    "collapsed": false,
    "slideshow": {
     "slide_type": "skip"
    }
   },
   "outputs": [
    {
     "name": "stdout",
     "output_type": "stream",
     "text": [
      "post_code\n",
      "floor\n",
      "post_code\n"
     ]
    }
   ],
   "source": [
    "soft_acc = {\n",
    "    \"post_code\": \"np20\",\n",
    "    \"floor\": 3\n",
    "}\n",
    "for key in soft_acc:\n",
    "    print(key)\n",
    "for key in soft_acc:\n",
    "    if len(key) > 5:\n",
    "        print(key)"
   ]
  },
  {
   "cell_type": "markdown",
   "metadata": {
    "slideshow": {
     "slide_type": "slide"
    }
   },
   "source": [
    "# Keys and Values\n",
    "\n",
    "Dictionaries have methods associated with them to access the keys, values or both from within the dict.\n",
    "\n",
    "### Exercise\n",
    "Use the `dir` function (and the Python docs) on your `soft_accc` dict and write down the 3 methods that can be used to access the keys, values and both"
   ]
  },
  {
   "cell_type": "code",
   "execution_count": 17,
   "metadata": {
    "collapsed": false,
    "slideshow": {
     "slide_type": "skip"
    }
   },
   "outputs": [
    {
     "name": "stdout",
     "output_type": "stream",
     "text": [
      "dict_keys(['post_code', 'floor'])\n",
      "dict_values(['np20', 3])\n",
      "dict_items([('post_code', 'np20'), ('floor', 3)])\n"
     ]
    }
   ],
   "source": [
    "print(soft_acc.keys())\n",
    "print(soft_acc.values())\n",
    "print(soft_acc.items())"
   ]
  },
  {
   "cell_type": "markdown",
   "metadata": {
    "collapsed": true,
    "slideshow": {
     "slide_type": "fragment"
    }
   },
   "source": [
    "### Exercise\n",
    "\n",
    "Using the methods you found, write a function that has a dictionary as an argument and loops through the values to return the first value that is of type `int`\n",
    "\n",
    "Create a new functiom that does the same but returns the key of that value."
   ]
  },
  {
   "cell_type": "code",
   "execution_count": 22,
   "metadata": {
    "collapsed": false,
    "slideshow": {
     "slide_type": "skip"
    }
   },
   "outputs": [
    {
     "data": {
      "text/plain": [
       "'floor'"
      ]
     },
     "execution_count": 22,
     "metadata": {},
     "output_type": "execute_result"
    }
   ],
   "source": [
    "def find_first_int_value(dictionary):\n",
    "    for val in dictionary.values():\n",
    "        if type(val) is int:\n",
    "            return val\n",
    "        \n",
    "def find_first_int_key(dictionary):\n",
    "    for key, val in dictionary.items():\n",
    "        if type(val) is int:\n",
    "            return key        \n",
    "        \n",
    "find_first_int_value(soft_acc)\n",
    "find_first_int_key(soft_acc)"
   ]
  },
  {
   "cell_type": "markdown",
   "metadata": {
    "collapsed": true,
    "slideshow": {
     "slide_type": "slide"
    }
   },
   "source": [
    "# Accessing and Reassigning\n",
    "\n",
    "With dicts, we can access keys through square bracket notation:\n",
    "\n",
    "`my_dict['key']`\n",
    "\n",
    "or through the `get` method:\n",
    "\n",
    "`mydict.get('key')`"
   ]
  },
  {
   "cell_type": "markdown",
   "metadata": {
    "collapsed": true,
    "slideshow": {
     "slide_type": "subslide"
    }
   },
   "source": [
    "# Removing Items\n",
    "\n",
    "Much like lsits, we can `pop` elements from a dict, but the way this is done is slightly different:\n",
    "\n",
    "`pop()` - One must provide the **key** of the item to be removed and the value is returned. An error is given if nothing was found\n",
    "\n",
    "`popitem()` - This works much like `pop` on a list, removing the last item in the dict and providing the key and the value."
   ]
  },
  {
   "cell_type": "markdown",
   "metadata": {
    "collapsed": true,
    "slideshow": {
     "slide_type": "subslide"
    }
   },
   "source": [
    "### Exercise\n",
    "\n",
    "- Create a dict of student numbers as keys and student names as values.\n",
    "- Print the third value in the dict using the `get` method\n",
    "- Choose any item in the list and `pop` it off and save it to a variable\n",
    "- Now add it back into the dict\n",
    "- Using the docs, explain the difference between `pop` and `popitem` return types\n",
    "- Using the docs, call the `pop` method for a key that does not exist, but make it return a string that reads, \"Sorry, that student number does not exist\""
   ]
  },
  {
   "cell_type": "code",
   "execution_count": 31,
   "metadata": {
    "collapsed": false,
    "slideshow": {
     "slide_type": "skip"
    }
   },
   "outputs": [
    {
     "name": "stdout",
     "output_type": "stream",
     "text": [
      "gary\n",
      "(1234, 'gary')\n",
      "{4567: 'jen'}\n",
      "{1234: 'gary', 4567: 'jen'}\n",
      "Sorry, that student number does not exist\n"
     ]
    }
   ],
   "source": [
    "students = {1234: \"gary\", 4567: \"jen\"}\n",
    "print(students.get(1234))\n",
    "gary = students.popitem() #how does this differ from pop?\n",
    "print(gary)\n",
    "print(students)\n",
    "#pop gives a value but popitem gives you a tuple\n",
    "students[1234] = gary[1]\n",
    "print(students)\n",
    "print(students.pop(48789492, \"Sorry, that student number does not exist\"))"
   ]
  },
  {
   "cell_type": "markdown",
   "metadata": {
    "collapsed": true,
    "slideshow": {
     "slide_type": "slide"
    }
   },
   "source": [
    "# Tuples\n",
    "\n",
    "We have just seen that `tuples` are a data structure in Python and that they are not as simple as lists or ints!\n",
    "\n",
    "Tuples are like lists but: they are **immutable**!\n",
    "\n",
    "We can access them like lists as well:"
   ]
  },
  {
   "cell_type": "code",
   "execution_count": 35,
   "metadata": {
    "collapsed": false,
    "slideshow": {
     "slide_type": "fragment"
    }
   },
   "outputs": [
    {
     "name": "stdout",
     "output_type": "stream",
     "text": [
      "(1, 2)\n",
      "(3, 'a', 6)\n",
      "a\n"
     ]
    }
   ],
   "source": [
    "my_tuple = 1, 2\n",
    "print(my_tuple)\n",
    "new_tuple = 3, \"a\", 6\n",
    "print(new_tuple)\n",
    "print(new_tuple[1])"
   ]
  },
  {
   "cell_type": "markdown",
   "metadata": {
    "collapsed": true,
    "slideshow": {
     "slide_type": "subslide"
    }
   },
   "source": [
    "# Unpacking Tuples\n",
    "\n",
    "Tuples can hold any number of values and it is easy enough to access them using square bracket notation.\n",
    "\n",
    "But, we may receive a tuple that contains many values and this is no fun:"
   ]
  },
  {
   "cell_type": "code",
   "execution_count": 39,
   "metadata": {
    "collapsed": true,
    "slideshow": {
     "slide_type": "fragment"
    }
   },
   "outputs": [],
   "source": [
    "my_tuple = 999, \"Dave\", \"dave@dave.com\", True, True\n",
    "phone = my_tuple[0]\n",
    "name = my_tuple[1]\n",
    "email = my_tuple[2]\n",
    "yawn = my_tuple[3]\n",
    "still_not_done = my_tuple[4]"
   ]
  },
  {
   "cell_type": "code",
   "execution_count": null,
   "metadata": {
    "collapsed": true,
    "slideshow": {
     "slide_type": "fragment"
    }
   },
   "outputs": [],
   "source": [
    "#unpacking tuples: number of names on left MUST match values in tuple\n",
    "phone, name, email, yawn, still_not_done = my_tuple"
   ]
  },
  {
   "cell_type": "markdown",
   "metadata": {
    "collapsed": true,
    "slideshow": {
     "slide_type": "slide"
    }
   },
   "source": [
    "# Searching Dictionaries\n",
    "\n",
    "Unlike lists, we are not just looking for values within dictionaries. Since we can specify our own keys, there are many times we may want to search this as well.\n",
    "\n",
    "### Exercise\n",
    "\n",
    "Using the student dictionary from a few slides back, find the index of the  student with the name \"jen\" using only the name and then the student number and then a tuple of the two.\n",
    "\n",
    "Hint: Use the methods attached to dicts."
   ]
  },
  {
   "cell_type": "code",
   "execution_count": 42,
   "metadata": {
    "collapsed": false,
    "slideshow": {
     "slide_type": "fragment"
    }
   },
   "outputs": [
    {
     "name": "stdout",
     "output_type": "stream",
     "text": [
      "True\n",
      "True\n",
      "False\n",
      "True\n",
      "True\n"
     ]
    }
   ],
   "source": [
    "students = {1234: \"gary\", 4567: \"jen\"}\n",
    "print(1234 in students)\n",
    "print(1234 in students.keys())\n",
    "print(\"gary\" in students)\n",
    "print(\"gary\" in students.values())\n",
    "print(\"gary\" in students.items())\n",
    "print((1234, \"gary\") in students.items())"
   ]
  },
  {
   "cell_type": "markdown",
   "metadata": {
    "collapsed": true,
    "slideshow": {
     "slide_type": "subslide"
    }
   },
   "source": [
    "### Exercise\n",
    "\n",
    "Given the Python file, complete the code so that:\n",
    "1. Users can input messages until they type 'q'\n",
    "2. Messages are added to a dictionary with the length of the message as the key\n",
    "3. Write a function that uses the keys as the input to return the average length\n",
    "4. Write a second function that takes the values of the dictionary and sorts them according to length"
   ]
  },
  {
   "cell_type": "code",
   "execution_count": 4,
   "metadata": {
    "collapsed": false,
    "slideshow": {
     "slide_type": "skip"
    }
   },
   "outputs": [
    {
     "name": "stdout",
     "output_type": "stream",
     "text": [
      "Average string length is 16.857142857142858\n",
      "Sorted list is ['kdkdf', 'fdjhfd', 'fkljrwlgj', 'dkjhskjhskdhffkdjh', 'dfkjsdhfkjdhsfkjhdk', 'fdjfkdjfkljlskdfjlksdjflsk;a', 'dfhjkdshfjkhdsfjkhdskahfksahkjdfk']\n"
     ]
    }
   ],
   "source": [
    "strings = ['hey', 'a', 'you there', 'what to the what to the what', 'sup', 'oi oi', 'how are you doing, good sir?']\n",
    "\n",
    "# strings_dict = {}\n",
    "strings_dict = {33: 'dfhjkdshfjkhdsfjkhdskahfksahkjdfk', 18: 'dkjhskjhskdhffkdjh', 19: 'dfkjsdhfkjdhsfkjhdk', 5: 'kdkdf', 6: 'fdjhfd', 9: 'fkljrwlgj', 28: 'fdjfkdjfkljlskdfjlksdjflsk;a'}\n",
    "# while True:\n",
    "#     msg = input(\"Please type your message here:\")\n",
    "#     if msg is not 'q':\n",
    "#         strings_dict[len(msg)] = msg\n",
    "#     else:\n",
    "#         break\n",
    "\n",
    "def list_to_dict(strings):\n",
    "    strings_dict = {}\n",
    "    for string in strings:\n",
    "        strings_dict[len(string)] = string\n",
    "    return strings_dict\n",
    "\n",
    "\n",
    "def sort_list(input_list):\n",
    "    is_sorted = True\n",
    "    for key in range(0, len(input_list)):\n",
    "        for i in range(0, len(input_list)):\n",
    "            current = input_list[i]\n",
    "            if i + 1 < len(input_list):\n",
    "                if len(current) > len(input_list[i + 1]):\n",
    "                    input_list[i] = input_list[i + 1]\n",
    "                    input_list[i + 1] = current\n",
    "    return input_list\n",
    "                \n",
    "        \n",
    "def mean_length(lengths):\n",
    "    total_length = 0\n",
    "    for length in lengths:\n",
    "        total_length += length\n",
    "    return total_length/len(lengths)\n",
    "\n",
    "# strings_dict = list_to_dict(strings)\n",
    "print(\"Average string length is {0}\".format(mean_length(strings_dict.keys())))\n",
    "sorted_list = sort_list(list(strings_dict.values()))\n",
    "print(\"Sorted list is {0}\".format(sorted_list))"
   ]
  },
  {
   "cell_type": "markdown",
   "metadata": {
    "slideshow": {
     "slide_type": "slide"
    }
   },
   "source": [
    "# Recursion\n",
    "\n",
    "An iterative function is a function that loops to repeat a block of code. \n",
    "\n",
    "A recursive function is a function that calls itself until a condition is met."
   ]
  },
  {
   "cell_type": "code",
   "execution_count": 179,
   "metadata": {
    "collapsed": false,
    "slideshow": {
     "slide_type": "fragment"
    }
   },
   "outputs": [
    {
     "name": "stdout",
     "output_type": "stream",
     "text": [
      "6\n"
     ]
    }
   ],
   "source": [
    "def sum_until(x):\n",
    "    if x == 1:\n",
    "        return x\n",
    "    else:\n",
    "        return x + sum_until(x -1)\n",
    "\n",
    "print(sum_until(3))"
   ]
  },
  {
   "cell_type": "markdown",
   "metadata": {
    "slideshow": {
     "slide_type": "fragment"
    }
   },
   "source": [
    "# What is Happening Here?\n",
    "\n",
    "Python sees our call to the function and executes it.\n",
    "\n",
    "#### Recursion Level\n",
    "##### 1\n",
    "Does x equal 1? No\n",
    "Return x + sum_until(2)\n",
    "#### 2\n",
    "Does x equal 1? No\n",
    "Return x + (2 + sum_until(1))\n",
    "#### 3\n",
    "Does x equal 1? Yes\n",
    "Return x (6)\n",
    "\n",
    "# TODO Exercise on turning above iterative sort into recursive"
   ]
  },
  {
   "cell_type": "markdown",
   "metadata": {
    "slideshow": {
     "slide_type": "subslide"
    }
   },
   "source": [
    "### Exercise\n",
    "\n",
    "Write a function that takes a list as an input, a start index and checks if the value at that index is greater than the value at the next index. If it is more: swap them. Return the list.\n",
    "\n",
    "HINT: You must make sure that the `index + 1` **must** be less than the length of the list."
   ]
  },
  {
   "cell_type": "code",
   "execution_count": null,
   "metadata": {
    "collapsed": true,
    "slideshow": {
     "slide_type": "fragment"
    }
   },
   "outputs": [],
   "source": [
    "def check_value(input_list, start):\n",
    "    if(start == len(input_list) -1):\n",
    "        return\n",
    "    elif(input_list[index] > input_list[index+1]):\n",
    "        current = input_list[index]\n",
    "        input_list[index] = input_list[index + 1]\n",
    "        input_list[index + 1] = current\n",
    "    return input_list"
   ]
  },
  {
   "cell_type": "markdown",
   "metadata": {
    "slideshow": {
     "slide_type": "subslide"
    }
   },
   "source": [
    "### Exercise\n",
    "\n",
    "Now modify the function to use an end index as an argument (which is the length of the list to begin with).\n",
    "\n",
    "In your check for whether the start index is more than the length of the list, do the following things:\n",
    "- call the function again, with the same list as the arguments\n",
    "    - the start index set to 0\n",
    "    - the end index decremented\n",
    "- Before returning the original list, call the function again but increment the start index\n",
    "- Add a check to return the list at the start of the function, if the start index is more than the end"
   ]
  },
  {
   "cell_type": "code",
   "execution_count": 180,
   "metadata": {
    "collapsed": false,
    "slideshow": {
     "slide_type": "subslide"
    }
   },
   "outputs": [
    {
     "name": "stdout",
     "output_type": "stream",
     "text": [
      "Switching \"hey\" at 0 for \"a\"\n",
      "Switching \"what to the what to the what\" at 3 for \"sup\"\n",
      "Switching \"what to the what to the what\" at 4 for \"oi oi\"\n",
      "Switching \"you there\" at 2 for \"sup\"\n",
      "Switching \"you there\" at 3 for \"oi oi\"\n",
      "['a', 'hey', 'sup', 'oi oi', 'you there', 'what to the what to the what', 'how are you doing, good sir?']\n"
     ]
    }
   ],
   "source": [
    "#function receives list, start point and endpoint as args\n",
    "def recursive_sort(input_list, index, end):\n",
    "    #if the startpoint goes beyond the endpoint then return\n",
    "    if index > end:\n",
    "        return(input_list)\n",
    "    #if the start point is equal to the end then decrement the end\n",
    "    if index == end:\n",
    "        recursive_sort(input_list, 0, end - 1)\n",
    "    # check if the string at index is longer than the string at index + 1\n",
    "    # replace it if it is\n",
    "    # why do we need a temporary variable?\n",
    "    elif len(input_list[index]) > len(input_list[index + 1]):\n",
    "        current = input_list[index]\n",
    "        print(\"Switching \\\"{0}\\\" at {1} for \\\"{2}\\\"\".format(current, index, input_list[index + 1]))\n",
    "        input_list[index] = input_list[index + 1]\n",
    "        input_list[index + 1] = current\n",
    "    # call the  function again and increment the index\n",
    "    recursive_sort(input_list, index + 1, end)\n",
    "    # Why do we need this here?\n",
    "    return input_list\n",
    "    \n",
    "strings = ['hey', 'a', 'you there', 'what to the what to the what', 'sup', 'oi oi', 'how are you doing, good sir?']\n",
    "sorted_list = recursive_sort(strings, 0, len(strings)-1)\n",
    "print(sorted_list)"
   ]
  },
  {
   "cell_type": "code",
   "execution_count": null,
   "metadata": {
    "collapsed": true,
    "slideshow": {
     "slide_type": "subslide"
    }
   },
   "outputs": [],
   "source": [
    "#uncommented\n",
    "def recursive_sort(input_list, index, end):\n",
    "    if index > end:\n",
    "        return(input_list)\n",
    "    if index == end:\n",
    "        recursive_sort(input_list, 0, end - 1)\n",
    "    elif len(input_list[index]) > len(input_list[index + 1]):\n",
    "        current = input_list[index]\n",
    "        print(\"Switching \\\"{0}\\\" at {1} for \\\"{2}\\\"\".format(current, index, input_list[index + 1]))\n",
    "        input_list[index] = input_list[index + 1]\n",
    "        input_list[index + 1] = current\n",
    "    recursive_sort(input_list, index + 1, end)\n",
    "    return input_list\n",
    "    \n",
    "strings = ['hey', 'a', 'you there', 'what to the what to the what', 'sup', 'oi oi', 'how are you doing, good sir?']\n",
    "sorted_list = recursive_sort(strings, 0, len(strings)-1)\n",
    "print(sorted_list)"
   ]
  },
  {
   "cell_type": "markdown",
   "metadata": {
    "slideshow": {
     "slide_type": "slide"
    }
   },
   "source": [
    "# Bubble Sort\n",
    "\n",
    "Congratulations, you just implemented your first sorting algorithm. You can find more information on the bubble sort [here](https://en.wikipedia.org/wiki/Bubble_sort)"
   ]
  },
  {
   "cell_type": "markdown",
   "metadata": {
    "slideshow": {
     "slide_type": "slide"
    }
   },
   "source": [
    "# Recursion vs. Iteration\n",
    "\n",
    "You have seen both, which is better/faster/more optimal?"
   ]
  },
  {
   "cell_type": "markdown",
   "metadata": {
    "slideshow": {
     "slide_type": "fragment"
    }
   },
   "source": [
    "While recursive approaches are typically shorter and easier to read. However, it also results in slower code because of all the funtion calls it results in, as well as the risk of a `stack overflow` when too many calls are made.\n",
    "\n",
    "Typically, math-based apparoaches will use recursion and most software engineering code will use iteration. Basically, most algorithms will use recursion so you need to understand how it works. "
   ]
  },
  {
   "cell_type": "markdown",
   "metadata": {
    "slideshow": {
     "slide_type": "slide"
    }
   },
   "source": [
    "# When Should You Use It?\n",
    "\n",
    "Recursion is often seen as some mythical beast but the breakdown (as we have seen) is quite simple. \n",
    "\n",
    "However, most (not all) languages are not tuned for recursion and, in performance terms, iteration is often vastly quicker."
   ]
  },
  {
   "cell_type": "code",
   "execution_count": 3,
   "metadata": {
    "collapsed": false,
    "slideshow": {
     "slide_type": "fragment"
    }
   },
   "outputs": [
    {
     "name": "stdout",
     "output_type": "stream",
     "text": [
      "Timing runs for recursive approach: \n",
      "100 loops, best of 3: 15.3 ms per loop\n",
      "Timing runs for iterative approach: \n",
      "100 loops, best of 3: 7.91 ms per loop\n"
     ]
    }
   ],
   "source": [
    "import timeit\n",
    "\n",
    "def recursive_factorial(n):\n",
    "    if n == 1:\n",
    "        return 1\n",
    "    else:\n",
    "        return n * recursive_factorial(n-1)\n",
    "\n",
    "def iterative_factorial(n):\n",
    "    x = 1\n",
    "    for each in range(1, n + 1):\n",
    "        x = x * each\n",
    "    return x\n",
    "    \n",
    "print(\"Timing runs for recursive approach: \")\n",
    "%timeit for x in range(100): recursive_factorial(500)\n",
    "print(\"Timing runs for iterative approach: \")\n",
    "%timeit for x in range(100): iterative_factorial(500)\n",
    "# print(timeit.repeat(\"factorial(10)\",number=100000))"
   ]
  },
  {
   "cell_type": "markdown",
   "metadata": {},
   "source": [
    "# Why the Difference?\n",
    "\n",
    "TODO: Introduce stack and heap\n",
    "TODO: Talk about allocation and function calls"
   ]
  },
  {
   "cell_type": "markdown",
   "metadata": {},
   "source": []
  },
  {
   "cell_type": "markdown",
   "metadata": {},
   "source": []
  },
  {
   "cell_type": "markdown",
   "metadata": {
    "slideshow": {
     "slide_type": "slide"
    }
   },
   "source": [
    "![recursion](img/recursion.gif)"
   ]
  },
  {
   "cell_type": "markdown",
   "metadata": {
    "slideshow": {
     "slide_type": "slide"
    }
   },
   "source": [
    "# Homework\n",
    "## Insertion Sort\n",
    "\n",
    "The insertion sort is a basic algorithm to build the sorted array in a similar way to the bubble sort.\n",
    "\n",
    "The list is sorted by looping through all the elements from the index to the end, moving the index along for each loop."
   ]
  },
  {
   "cell_type": "code",
   "execution_count": null,
   "metadata": {
    "collapsed": false,
    "slideshow": {
     "slide_type": "notes"
    }
   },
   "outputs": [],
   "source": [
    "import random\n",
    "\n",
    "def sort_numbers(s):\n",
    "    for i in range(1, len(s)):\n",
    "        val = s[i]\n",
    "        j = i - 1\n",
    "        while (j >= 0) and (s[j] > val):\n",
    "            s[j+1] = s[j]\n",
    "            j = j - 1\n",
    "        s[j+1] = val\n",
    "\n",
    "\n",
    "# x = eval(input(\"Enter numbers to be sorted: \"))\n",
    "# x = list(range(0, 10)) #list(x)\n",
    "x = random.sample(range(1, 1000000001), 100000000)\n",
    "print(x)\n",
    "sort_numbers(x)\n",
    "print(x)"
   ]
  },
  {
   "cell_type": "code",
   "execution_count": null,
   "metadata": {
    "collapsed": true
   },
   "outputs": [],
   "source": []
  }
 ],
 "metadata": {
  "celltoolbar": "Slideshow",
  "kernelspec": {
   "display_name": "Python 3",
   "language": "python",
   "name": "python3"
  },
  "language_info": {
   "codemirror_mode": {
    "name": "ipython",
    "version": 3
   },
   "file_extension": ".py",
   "mimetype": "text/x-python",
   "name": "python",
   "nbconvert_exporter": "python",
   "pygments_lexer": "ipython3",
   "version": "3.5.1"
  },
  "nav_menu": {},
  "toc": {
   "navigate_menu": true,
   "number_sections": true,
   "sideBar": true,
   "threshold": 6,
   "toc_cell": false,
   "toc_section_display": "block",
   "toc_window_display": false
  }
 },
 "nbformat": 4,
 "nbformat_minor": 0
}
