{
 "cells": [
  {
   "cell_type": "markdown",
   "metadata": {
    "slideshow": {
     "slide_type": "slide"
    }
   },
   "source": [
    "# Object-Oriented Python\n",
    "\n",
    "## Dr. Chris Gwilliams\n",
    "### gwilliamsc@cardiff.ac.uk"
   ]
  },
  {
   "cell_type": "markdown",
   "metadata": {
    "slideshow": {
     "slide_type": "slide"
    }
   },
   "source": [
    "So far, we have been writing blocks of code in functions and running them within scripts.\n",
    "\n",
    "We call this `procedural programming` or `procedure oriented programming`"
   ]
  },
  {
   "cell_type": "markdown",
   "metadata": {
    "slideshow": {
     "slide_type": "slide"
    }
   },
   "source": [
    "Python is a multi-paradigm language and it allows you to write other styles in the language.\n",
    "\n",
    "When we call methods, we are attaching functions to objects. If we create objects in our own code, then we are following Object-oriented programming."
   ]
  },
  {
   "cell_type": "markdown",
   "metadata": {
    "slideshow": {
     "slide_type": "slide"
    }
   },
   "source": [
    "# Classes and Objects\n",
    "\n",
    "These are the two key constructs we use in OOP in Python.\n",
    "\n",
    "A class is the description of a type.\n",
    "\n",
    "An object is an instance of that class.\n",
    "\n",
    "A class has one type but it can have MULTIPLE instances"
   ]
  },
  {
   "cell_type": "markdown",
   "metadata": {
    "slideshow": {
     "slide_type": "subslide"
    }
   },
   "source": [
    "A class describes a thing, such as a car but the objects are the instances, such as each car in the car park.\n",
    "\n",
    "### Exercise\n",
    "\n",
    "Give me 3 more examples of classes vs objects"
   ]
  },
  {
   "cell_type": "markdown",
   "metadata": {
    "slideshow": {
     "slide_type": "slide"
    }
   },
   "source": [
    "# Classes in Python\n",
    "\n",
    "```python\n",
    "class Person:\n",
    "    def __init__(self, name):\n",
    "        self.name = name\n",
    "        \n",
    "    def say_name(self):\n",
    "        print(\"Hi, I am called {}\".format(name))\n",
    "```        "
   ]
  },
  {
   "cell_type": "markdown",
   "metadata": {
    "slideshow": {
     "slide_type": "slide"
    }
   },
   "source": [
    "We can create an instance of this person:"
   ]
  },
  {
   "cell_type": "code",
   "execution_count": 4,
   "metadata": {
    "collapsed": false,
    "slideshow": {
     "slide_type": "fragment"
    }
   },
   "outputs": [
    {
     "name": "stdout",
     "output_type": "stream",
     "text": [
      "Hi, I am called Jimbob\n"
     ]
    }
   ],
   "source": [
    "class Person:\n",
    "    def __init__(self, name):\n",
    "        self.name = name\n",
    "        \n",
    "    def say_name(self):\n",
    "        print(\"Hi, I am called {}\".format(self.name))\n",
    "\n",
    "jimbob = Person(\"Jimbob\")\n",
    "jimbob.say_name()"
   ]
  },
  {
   "cell_type": "markdown",
   "metadata": {
    "slideshow": {
     "slide_type": "slide"
    }
   },
   "source": [
    "Notice the use of `self`, we do not explicitly pass it as an argument but it represents the instance. This brings us back to `scope`. \n",
    "\n",
    "What would happen if we did used `name` instead of `self.name` in the `say_name` method?"
   ]
  },
  {
   "cell_type": "markdown",
   "metadata": {
    "slideshow": {
     "slide_type": "slide"
    }
   },
   "source": [
    "# Variables\n",
    "\n",
    "Classes have variables attached to them and there are two key types we look at here:\n",
    "\n",
    "Instance variables\n",
    "\n",
    "Class variables"
   ]
  },
  {
   "cell_type": "markdown",
   "metadata": {
    "slideshow": {
     "slide_type": "slide"
    }
   },
   "source": [
    "# Class Variables\n",
    "\n",
    "Variables that are attached to a class and shared across all instances.\n",
    "\n",
    "\n",
    "```python\n",
    "\n",
    "class Person:\n",
    "    person_count = 0\n",
    "    \n",
    "    def __init__(self):\n",
    "        Person.person_count += 1\n",
    "```"
   ]
  },
  {
   "cell_type": "code",
   "execution_count": 1,
   "metadata": {
    "collapsed": false,
    "slideshow": {
     "slide_type": "subslide"
    }
   },
   "outputs": [
    {
     "name": "stdout",
     "output_type": "stream",
     "text": [
      "0\n",
      "1\n"
     ]
    }
   ],
   "source": [
    "class Person:\n",
    "    person_count = 0\n",
    "    \n",
    "    def __init__(self):\n",
    "        Person.person_count += 1\n",
    "        \n",
    "print(Person.person_count)\n",
    "p = Person()\n",
    "print(Person.person_count)"
   ]
  },
  {
   "cell_type": "markdown",
   "metadata": {
    "slideshow": {
     "slide_type": "slide"
    }
   },
   "source": [
    "# Instance variables\n",
    "\n",
    "These are properties of a class that are unique to each instance.\n",
    "\n",
    "```python\n",
    "class Person:\n",
    "    def __init__(self, name, age):\n",
    "        self.name = name\n",
    "        self.age = age\n",
    "```"
   ]
  },
  {
   "cell_type": "markdown",
   "metadata": {
    "slideshow": {
     "slide_type": "slide"
    }
   },
   "source": [
    "### Exercise\n",
    "\n",
    "There is a class for connections to a Database with the following variables, which ones would be class and which would be instance?\n",
    "\n",
    "* connection_string\n",
    "* active_connections\n",
    "* port\n",
    "* username"
   ]
  },
  {
   "cell_type": "markdown",
   "metadata": {
    "slideshow": {
     "slide_type": "notes"
    }
   },
   "source": [
    "* instance\n",
    "* class\n",
    "* class or instance\n",
    "* class or instance"
   ]
  },
  {
   "cell_type": "markdown",
   "metadata": {
    "slideshow": {
     "slide_type": "slide"
    }
   },
   "source": [
    "### Exercise\n",
    "\n",
    "Write a class for a student and a lecturer. Import them if you put them in separate scripts.\n",
    "\n",
    "Now loop through and create 60 instance of a student, increasing a count each time.\n",
    "\n",
    "Once created, add a method to set the attendance of the student and one to get it. "
   ]
  },
  {
   "cell_type": "markdown",
   "metadata": {
    "slideshow": {
     "slide_type": "slide"
    }
   },
   "source": [
    "# Methods\n",
    "\n",
    "## Class vs Static\n",
    "\n",
    "Static methods are methods that exist without an instance being needed and they utilise what Python calls decorators."
   ]
  },
  {
   "cell_type": "code",
   "execution_count": 2,
   "metadata": {
    "collapsed": false,
    "slideshow": {
     "slide_type": "subslide"
    }
   },
   "outputs": [
    {
     "name": "stdout",
     "output_type": "stream",
     "text": [
      "0\n",
      "1\n"
     ]
    }
   ],
   "source": [
    "class Person:\n",
    "    person_count = 0\n",
    "    \n",
    "    def __init__(self):\n",
    "        Person.person_count += 1\n",
    "        \n",
    "    @staticmethod\n",
    "    def eat_food(): #no self passed in here\n",
    "        print(\"mmmmm\")\n",
    "        \n",
    "print(Person.person_count)\n",
    "p = Person()\n",
    "print(Person.person_count)"
   ]
  },
  {
   "cell_type": "markdown",
   "metadata": {
    "slideshow": {
     "slide_type": "slide"
    }
   },
   "source": [
    "### Exercise\n",
    "\n",
    "Create a class for a car and create a constructor (`__init__`) that sets the make, model and engine size.\n",
    "\n",
    "Add some class variables that are general across all cars.\n",
    "\n",
    "Create methods to get information about each instance.\n",
    "\n",
    "Create static methods to do things with the car that would be common across all cars."
   ]
  },
  {
   "cell_type": "markdown",
   "metadata": {
    "slideshow": {
     "slide_type": "slide"
    }
   },
   "source": [
    "This is barely the surface to OO programming. You cover this in detail in the next semester.\n"
   ]
  }
 ],
 "metadata": {
  "celltoolbar": "Slideshow",
  "kernelspec": {
   "display_name": "Python 2",
   "language": "python",
   "name": "python2"
  },
  "language_info": {
   "codemirror_mode": {
    "name": "ipython",
    "version": 2
   },
   "file_extension": ".py",
   "mimetype": "text/x-python",
   "name": "python",
   "nbconvert_exporter": "python",
   "pygments_lexer": "ipython2",
   "version": "2.7.12"
  }
 },
 "nbformat": 4,
 "nbformat_minor": 1
}
