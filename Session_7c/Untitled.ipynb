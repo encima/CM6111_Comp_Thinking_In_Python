{
 "cells": [
  {
   "cell_type": "code",
   "execution_count": null,
   "metadata": {
    "collapsed": true
   },
   "outputs": [],
   "source": [
    "# Long Division\n",
    "\n",
    "Division: First digit of the divident divided by the divisor, thie gives us the quotient\n",
    "Multiplication: \n",
    "   ______\n",
    "21|160.65\n",
    "\n",
    "   ______\n",
    "21|160.65\n",
    "\n",
    "   ______\n",
    "21|160.65\n",
    "\n",
    "   ______\n",
    "21|160.65\n",
    "\n",
    "   ______\n",
    "21|160.65\n",
    "\n",
    "   ______\n",
    "21|160.65\n",
    "\n",
    "   ______\n",
    "21|160.65\n",
    "\n",
    "   ______\n",
    "21|160.65\n",
    "\n"
   ]
  }
 ],
 "metadata": {
  "kernelspec": {
   "display_name": "Python 2",
   "language": "python",
   "name": "python2"
  },
  "language_info": {
   "codemirror_mode": {
    "name": "ipython",
    "version": 2
   },
   "file_extension": ".py",
   "mimetype": "text/x-python",
   "name": "python",
   "nbconvert_exporter": "python",
   "pygments_lexer": "ipython2",
   "version": "2.7.12"
  }
 },
 "nbformat": 4,
 "nbformat_minor": 1
}
