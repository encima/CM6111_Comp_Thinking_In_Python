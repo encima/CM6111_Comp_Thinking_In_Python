{
 "cells": [
  {
   "cell_type": "code",
   "execution_count": 1,
   "metadata": {
    "collapsed": false,
    "slideshow": {
     "slide_type": "skip"
    }
   },
   "outputs": [
    {
     "data": {
      "text/plain": [
       "{'start_slideshow_at': 'selected', 'theme': 'solarized', 'transition': 'zoom'}"
      ]
     },
     "execution_count": 1,
     "metadata": {},
     "output_type": "execute_result"
    }
   ],
   "source": [
    "from notebook.services.config import ConfigManager\n",
    "from IPython.paths import locate_profile\n",
    "cm = ConfigManager(profile_dir=locate_profile(get_ipython().profile))\n",
    "cm.update('livereveal', {\n",
    "              'theme': 'solarized',\n",
    "              'transition': 'zoom',\n",
    "              'start_slideshow_at': 'selected',\n",
    "})"
   ]
  },
  {
   "cell_type": "markdown",
   "metadata": {
    "slideshow": {
     "slide_type": "slide"
    }
   },
   "source": [
    "# More Binary Arithmetic, Fractions and Bitwise Operations\n",
    "\n",
    "## Dr. Chris Gwilliams\n",
    "\n",
    "### gwilliamsc@cardiff.ac.uk"
   ]
  },
  {
   "cell_type": "markdown",
   "metadata": {
    "slideshow": {
     "slide_type": "slide"
    }
   },
   "source": [
    "# Overview\n",
    "\n",
    "* Binary Multiplication\n",
    "* Binary Division\n",
    "* Representing Decimal in Binary\n",
    "* Bitwise Operators\n",
    "* Truth Tables"
   ]
  },
  {
   "cell_type": "markdown",
   "metadata": {
    "slideshow": {
     "slide_type": "slide"
    }
   },
   "source": [
    "# Binary Multiplication\n",
    "\n",
    "Only need to remember these three rules:\n",
    "* 1 x 0 = 0\n",
    "* 0 x 0 = 0\n",
    "* 1 x 1 = 1\n",
    "\n",
    "Same as normal multiplication, except you move one place to the left for each number.\n",
    "\n",
    "E.g. 4 x 3"
   ]
  },
  {
   "cell_type": "markdown",
   "metadata": {
    "slideshow": {
     "slide_type": "subslide"
    }
   },
   "source": [
    "# Binary Multiplication Example\n",
    "\n",
    "### Step 1: Binary Representation\n",
    "\n",
    "4 = 0100\n",
    "\n",
    "3 = 0011\n",
    "\n",
    "### Step 2: Mutiply by 1\n",
    "\n",
    "|     | Binary   |\n",
    "|-----|----------|\n",
    "|     | 0100     |\n",
    "| x   | 001**1** |\n",
    "| --- | ---      |\n",
    "|     | 0100     |"
   ]
  },
  {
   "cell_type": "markdown",
   "metadata": {
    "slideshow": {
     "slide_type": "subslide"
    }
   },
   "source": [
    "### Step 3: Move left one place and multiply by next number\n",
    "\n",
    "|     | Binary   |\n",
    "|-----|----------|\n",
    "|     | 0100     |\n",
    "| x   | 00**1**1 |\n",
    "| --- | ---      |\n",
    "|     | _0100    |\n",
    "|     | 0100     |"
   ]
  },
  {
   "cell_type": "markdown",
   "metadata": {
    "slideshow": {
     "slide_type": "subslide"
    }
   },
   "source": [
    "### Step 4: Now perform addition on the resulting values\n",
    "\n",
    "|     | Binary   |\n",
    "|-----|----------|\n",
    "|     | 0100     |\n",
    "| x   | 0011 |\n",
    "| --- | ---      |\n",
    "|     | _0100    |\n",
    "| +   | 0100     |\n",
    "|     | ---      |\n",
    "| **12**  | **01100**    |"
   ]
  },
  {
   "cell_type": "markdown",
   "metadata": {
    "slideshow": {
     "slide_type": "slide"
    }
   },
   "source": [
    "# Binary Division\n",
    "\n",
    "Binary division is maybe the longest operation to perform and can be quite complex. We go into it in detail here:\n",
    "\n",
    "`110101 / 111` (53/7)\n",
    "\n",
    "Basic Steps:\n",
    "1. Align the divisor (111) with the most signifant end of the divident (110101)\n",
    "`    ______\n",
    "111 |110101\n",
    "`\n",
    "2. Compare the divisor against the first bit(s) of the dividend and see if it is less than or more than.\n",
    "    * If divisor < dividend bits: quotient is 1 and we subtract divisor from dividend bits\n",
    "    * If divisor > divident bits: quotient is 0 and we perform no subtraction \n",
    "3. Shift along one bit and check step 2\n",
    "\n",
    "Easy? Maybe not. Let's try an example\n"
   ]
  },
  {
   "cell_type": "markdown",
   "metadata": {
    "slideshow": {
     "slide_type": "subslide"
    }
   },
   "source": [
    "## Is 111 (divisor) < 110 (dividend bits)?\n",
    "111 |**110**101\n",
    "\n",
    "No. Ok, so our quotient is 0 and we shift along one bit, making our dividend bits `1101`\n",
    "\n",
    "         \n",
    "111 |**1101**01\n"
   ]
  },
  {
   "cell_type": "markdown",
   "metadata": {
    "slideshow": {
     "slide_type": "subslide"
    }
   },
   "source": [
    "## Is 111 < 1101?\n",
    "\n",
    "Yes. So our quotient is 1 and we subtract 111 from 1101.\n",
    "\n",
    "1101 - 111 = ?"
   ]
  },
  {
   "cell_type": "markdown",
   "metadata": {
    "slideshow": {
     "slide_type": "fragment"
    }
   },
   "source": [
    "1100\n",
    "\n",
    "## Is 111 < 1100?\n",
    "\n",
    "Yes. So our quotient is 1 and we subtract 111 from 1100.\n",
    "\n",
    "1100 - 111 = ?"
   ]
  },
  {
   "cell_type": "markdown",
   "metadata": {
    "slideshow": {
     "slide_type": "subslide"
    }
   },
   "source": [
    "1011\n",
    "\n",
    "## Is 111 < 1011?\n",
    "\n",
    "Yes. So our quotient is 1 and we subtract 111 from 1011.\n",
    "\n",
    "But, we are out of bits! So, our answer is:\n",
    "\n",
    "000111 with a remainder of 100 or 7 remainder 4"
   ]
  },
  {
   "cell_type": "markdown",
   "metadata": {
    "slideshow": {
     "slide_type": "subslide"
    }
   },
   "source": [
    "# In a Nutshell\n",
    "\n",
    "![division](img/division.png)"
   ]
  },
  {
   "cell_type": "markdown",
   "metadata": {
    "slideshow": {
     "slide_type": "subslide"
    }
   },
   "source": [
    "# Exercise"
   ]
  },
  {
   "cell_type": "markdown",
   "metadata": {
    "slideshow": {
     "slide_type": "slide"
    }
   },
   "source": [
    "# Decimals in Binary\n",
    "\n",
    "This works much the same as in denary. We have the representation of the whole number, a decimal point and a representation of the fraction.\n",
    "\n",
    "| 8 | 4 | 2 | 1 | . | 1/2 | 1/4 | 1/8 | 1/16 | 1/32 |\n",
    "|---|---|---|---|---|-----|-----|-----|------|------|\n",
    "| 1 | 0 | 1 | 0 | . | 1   | 1   | 0   | 0    | 0    |\n",
    "\n",
    "Note how the decimal side works much the same way as for whole numbers.\n",
    "\n",
    "What is the decimal representation of this value? \n",
    "\n"
   ]
  },
  {
   "cell_type": "markdown",
   "metadata": {
    "slideshow": {
     "slide_type": "fragment"
    }
   },
   "source": [
    "10.75\n",
    "\n",
    "What could be the issues with this?"
   ]
  },
  {
   "cell_type": "markdown",
   "metadata": {
    "slideshow": {
     "slide_type": "subslide"
    }
   },
   "source": [
    "# Decimals in Binary\n",
    "\n",
    "We can only cleanly show values where the denominator is a power of 2. So, how do we represent `5.91`?"
   ]
  },
  {
   "cell_type": "markdown",
   "metadata": {
    "slideshow": {
     "slide_type": "fragment"
    }
   },
   "source": [
    "This is not a power of 2, so the best we can do is get close.\n",
    "\n",
    "| 8 | 4 | 2 | 1 | . | 1/2 | 1/4 | 1/8 | 1/16 | 1/32 |\n",
    "|---|---|---|---|---|-----|-----|-----|------|------|\n",
    "| 0 | 1 | 0 | 1 | . | 1   | 1   | 1   | 0    | 1    |\n",
    "\n",
    "This can cause `rounding errors` when storing numbers in Base-2."
   ]
  },
  {
   "cell_type": "markdown",
   "metadata": {
    "slideshow": {
     "slide_type": "subslide"
    }
   },
   "source": [
    "# Decimals in Binary\n",
    "\n",
    "Binary can store 0s and 1s and nothing else. How do we store decimal points?"
   ]
  },
  {
   "cell_type": "markdown",
   "metadata": {
    "slideshow": {
     "slide_type": "fragment"
    }
   },
   "source": [
    "Answer: We don't! To do this, we assign a fixed number of bits for the numerator and a fixed number of bits for the denominator.\n",
    "\n",
    "I.e.\n",
    "\n",
    "4 bits for numerators\n",
    "5 bits for denominator\n",
    "\n",
    "0101.11101"
   ]
  },
  {
   "cell_type": "markdown",
   "metadata": {
    "slideshow": {
     "slide_type": "subslide"
    }
   },
   "source": [
    "# Exercise\n",
    "\n"
   ]
  },
  {
   "cell_type": "markdown",
   "metadata": {
    "slideshow": {
     "slide_type": "slide"
    }
   },
   "source": [
    "# Bitwise Operators and Truth Tables\n",
    "\n",
    "OK, we now know how to convert almost anything to binary. Now we can look into what the heck these mean:\n",
    "\n",
    "* `~10`\n",
    "* `24 & 24`\n",
    "* `22 | 2`\n",
    "* `22 ^ 2`\n",
    "\n",
    "Any ideas?\n"
   ]
  },
  {
   "cell_type": "markdown",
   "metadata": {
    "slideshow": {
     "slide_type": "subslide"
    }
   },
   "source": [
    "These are called bitwise operators and they work by performing operations on the binary representations of the values.\n",
    "\n",
    "You get the result back in decimal, so these steps are followed:\n",
    "1. Bitwise operation (22 ^ 3)\n",
    "2. Convert each value to decimal\n",
    "3. Perform the operation (using a truth table)\n",
    "4. Convert back to decimal\n",
    "\n",
    "Let's try each operator:\n"
   ]
  },
  {
   "cell_type": "markdown",
   "metadata": {
    "slideshow": {
     "slide_type": "subslide"
    }
   },
   "source": [
    "#  AND (`&`)\n",
    "\n",
    "* True if both `x` and `y` are True. False otherwise.\n",
    "\n",
    "`24 & 24 = 24`\n",
    "\n",
    "|  | x | y | x AND y |\n",
    "|--|---|---|---------|\n",
    "|16| 1 | 1 | 1       |\n",
    "|8 | 1 | 1 | 1       |\n",
    "|4 | 0 | 0 | 0       |\n",
    "|2 | 0 | 0 | 0       |\n",
    "|1 | 0 | 0 | 0       |"
   ]
  },
  {
   "cell_type": "markdown",
   "metadata": {
    "slideshow": {
     "slide_type": "subslide"
    }
   },
   "source": [
    "# OR (`|`)\n",
    "\n",
    "* True if `x` and/or `y` is True . False otherwise.\n",
    "\n",
    "`22 | 2 = 22`\n",
    "\n",
    "|  | x | y | x OR y  |\n",
    "|--|---|---|---------|\n",
    "|16| 1 | 0 | 1       |\n",
    "|8 | 0 | 0 | 0       |\n",
    "|4 | 1 | 0 | 1       |\n",
    "|2 | 1 | 1 | 1       |\n",
    "|1 | 0 | 0 | 0       |"
   ]
  },
  {
   "cell_type": "markdown",
   "metadata": {
    "slideshow": {
     "slide_type": "subslide"
    }
   },
   "source": [
    "# XOR (`^`)\n",
    "## Exclusive Or\n",
    "\n",
    "* True only if `x` or `y` is True. False otherwise.\n",
    "\n",
    "`22 ^ 2 = 20`\n",
    "\n",
    "|  | x | y | x XOR y |\n",
    "|--|---|---|---------|\n",
    "|16| 1 | 0 | 1       |\n",
    "|8 | 0 | 0 | 0       |\n",
    "|4 | 1 | 0 | 1       |\n",
    "|2 | 1 | 1 | 0       |\n",
    "|1 | 0 | 0 | 0       |"
   ]
  },
  {
   "cell_type": "markdown",
   "metadata": {
    "slideshow": {
     "slide_type": "subslide"
    }
   },
   "source": [
    "# NOT (`!`)\n",
    "\n",
    "* The opposite of the initial value.\n",
    "\n",
    "  | x | ~x |\n",
    "  \n",
    "  |---|----|\n",
    "  \n",
    "  | 1 | 0  |\n",
    "  \n",
    "  | 0 |  1 |"
   ]
  },
  {
   "cell_type": "markdown",
   "metadata": {
    "slideshow": {
     "slide_type": "subslide"
    }
   },
   "source": [
    "# Why Are These Operations Useful?\n",
    "\n",
    "What do you think it would be used for?"
   ]
  },
  {
   "cell_type": "markdown",
   "metadata": {
    "slideshow": {
     "slide_type": "fragment"
    }
   },
   "source": [
    "## Internet of Things\n",
    "\n",
    "We have gigabytes of bandwidth to send information. That is why we have AJAX requests and can send whole files anywhere.\n",
    "\n",
    "What about when we do not have that bandwidth? When we use Zigbee or other slower protocols instead of WiFi."
   ]
  },
  {
   "cell_type": "markdown",
   "metadata": {
    "slideshow": {
     "slide_type": "subslide"
    }
   },
   "source": [
    "Then we want to send as few bytes as possible. In embedded computers, sensors and other IoT devices, we use `flags` to relate to configuration, write drivers or as instructions for microcontrollers.\n",
    "\n",
    "I.e. a bit relates to an individual setting.\n",
    "\n",
    "1101 - sensor on, led on, power save off, Bluetooth connection on\n",
    "1001 - sensor on, led off, power save off, Bluetooth connection on\n",
    "\n",
    "There is another use that you see every day:"
   ]
  },
  {
   "cell_type": "markdown",
   "metadata": {
    "slideshow": {
     "slide_type": "fragment"
    }
   },
   "source": [
    "# Cryptography!"
   ]
  },
  {
   "cell_type": "markdown",
   "metadata": {
    "slideshow": {
     "slide_type": "slide"
    }
   },
   "source": [
    "### Exercise\n",
    "\n",
    "Using truth tables, perform the following operations and show your working:\n",
    "\n",
    "* 18 & 6\n",
    "* 12 | 8\n",
    "* 14 & 18\n",
    "* 20 | 32\n",
    "* ~8\n",
    "* 4 ^ 8\n",
    "* 40 & 19\n",
    "* 2 && 2\n",
    "* ~-9\n"
   ]
  },
  {
   "cell_type": "markdown",
   "metadata": {
    "slideshow": {
     "slide_type": "notes"
    }
   },
   "source": [
    "* 2\n",
    "* 12\n",
    "* 2\n",
    "* 52\n",
    "* 12\n",
    "* 0\n",
    "* true"
   ]
  },
  {
   "cell_type": "markdown",
   "metadata": {
    "slideshow": {
     "slide_type": "slide"
    }
   },
   "source": [
    "![bitwise](img/hacker.gif)"
   ]
  }
 ],
 "metadata": {
  "celltoolbar": "Slideshow",
  "kernelspec": {
   "display_name": "Python 2",
   "language": "python",
   "name": "python2"
  },
  "language_info": {
   "codemirror_mode": {
    "name": "ipython",
    "version": 2
   },
   "file_extension": ".py",
   "mimetype": "text/x-python",
   "name": "python",
   "nbconvert_exporter": "python",
   "pygments_lexer": "ipython2",
   "version": "2.7.12"
  },
  "nav_menu": {},
  "toc": {
   "navigate_menu": true,
   "number_sections": true,
   "sideBar": true,
   "threshold": 6,
   "toc_cell": false,
   "toc_section_display": "block",
   "toc_window_display": true
  }
 },
 "nbformat": 4,
 "nbformat_minor": 0
}
