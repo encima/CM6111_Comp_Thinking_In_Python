{
 "cells": [
  {
   "cell_type": "code",
   "execution_count": 1,
   "metadata": {
    "collapsed": false,
    "focus": false,
    "id": "3046c6a6-b10a-480f-aba4-55f0c8c69a59",
    "slideshow": {
     "slide_type": "skip"
    }
   },
   "outputs": [
    {
     "data": {
      "text/plain": [
       "{'start_slideshow_at': 'selected', 'theme': 'solarized', 'transition': 'zoom'}"
      ]
     },
     "execution_count": 1,
     "metadata": {},
     "output_type": "execute_result"
    }
   ],
   "source": [
    "from notebook.services.config import ConfigManager\n",
    "from IPython.paths import locate_profile\n",
    "cm = ConfigManager(profile_dir=locate_profile(get_ipython().profile))\n",
    "cm.update('livereveal', {\n",
    "              'theme': 'solarized',\n",
    "              'transition': 'zoom',\n",
    "              'start_slideshow_at': 'selected',\n",
    "})"
   ]
  },
  {
   "cell_type": "markdown",
   "metadata": {
    "focus": false,
    "id": "4efb5613-be73-4b4e-af26-51f6e5c02a9a",
    "slideshow": {
     "slide_type": "slide"
    }
   },
   "source": [
    "# More Binary Arithmetic, Fractions and Bitwise Operations\n",
    "\n",
    "## Dr. Chris Gwilliams\n",
    "\n",
    "### gwilliamsc@cardiff.ac.uk"
   ]
  },
  {
   "cell_type": "markdown",
   "metadata": {
    "focus": false,
    "id": "f4efd3a4-d4a3-408f-8358-31a359bf18d4",
    "slideshow": {
     "slide_type": "slide"
    }
   },
   "source": [
    "# Overview\n",
    "\n",
    "* Binary Multiplication\n",
    "* Binary Division\n",
    "* Representing Decimal in Binary\n",
    "* Bitwise Operators\n",
    "* Truth Tables"
   ]
  },
  {
   "cell_type": "markdown",
   "metadata": {
    "focus": false,
    "id": "1c55cd30-139b-47fe-9da4-b920f9d1d3b6",
    "slideshow": {
     "slide_type": "slide"
    }
   },
   "source": [
    "# Decimals in Binary\n",
    "\n",
    "This works much the same as in denary. We have the representation of the whole number, a decimal point and a representation of the fraction.\n",
    "\n",
    "| 8 | 4 | 2 | 1 | . | 1/2 | 1/4 | 1/8 | 1/16 | 1/32 |\n",
    "|---|---|---|---|---|-----|-----|-----|------|------|\n",
    "| 1 | 0 | 1 | 0 | . | 1   | 1   | 0   | 0    | 0    |\n",
    "\n",
    "Note how the decimal side works much the same way as for whole numbers.\n",
    "\n",
    "What is the decimal representation of this value? \n",
    "\n"
   ]
  },
  {
   "cell_type": "markdown",
   "metadata": {
    "focus": false,
    "id": "79617ef5-cfcd-4dc8-99cb-63361b90e0a8",
    "slideshow": {
     "slide_type": "fragment"
    }
   },
   "source": [
    "10.75\n",
    "\n",
    "What could be the issues with this?"
   ]
  },
  {
   "cell_type": "markdown",
   "metadata": {
    "focus": false,
    "id": "6ce5e235-f275-45d3-bda0-bab4ea2e867e",
    "slideshow": {
     "slide_type": "subslide"
    }
   },
   "source": [
    "# Decimals in Binary\n",
    "\n",
    "We can only cleanly show values where the denominator is a power of 2. So, how do we represent `5.91`?"
   ]
  },
  {
   "cell_type": "markdown",
   "metadata": {
    "focus": false,
    "id": "5089076e-a256-48c0-b092-5c586daa88b2",
    "slideshow": {
     "slide_type": "fragment"
    }
   },
   "source": [
    "This is not a power of 2, so the best we can do is get close.\n",
    "\n",
    "| 8 | 4 | 2 | 1 | . | 1/2 | 1/4 | 1/8 | 1/16 | 1/32 |\n",
    "|---|---|---|---|---|-----|-----|-----|------|------|\n",
    "| 0 | 1 | 0 | 1 | . | 1   | 1   | 1   | 0    | 1    |\n",
    "\n",
    "This can cause `rounding errors` when storing numbers in Base-2."
   ]
  },
  {
   "cell_type": "markdown",
   "metadata": {
    "focus": false,
    "id": "a1fbd83a-f39e-46ac-99e1-1e2dfcdfcc9e",
    "slideshow": {
     "slide_type": "subslide"
    }
   },
   "source": [
    "# Decimals in Binary\n",
    "\n",
    "Binary can store 0s and 1s and nothing else. How do we store decimal points?"
   ]
  },
  {
   "cell_type": "markdown",
   "metadata": {
    "focus": false,
    "id": "fd211807-5f0d-4b29-9662-46ea511195ab",
    "slideshow": {
     "slide_type": "fragment"
    }
   },
   "source": [
    "Answer: We don't! To do this, we assign a fixed number of bits for the numerator and a fixed number of bits for the denominator.\n",
    "\n",
    "I.e.\n",
    "\n",
    "4 bits for numerators\n",
    "5 bits for denominator\n",
    "\n",
    "0101.11101"
   ]
  },
  {
   "cell_type": "markdown",
   "metadata": {
    "focus": true,
    "id": "22694ab1-790d-43e0-9bda-766e16a3353d",
    "slideshow": {
     "slide_type": "subslide"
    }
   },
   "source": [
    "# Exercise\n",
    "\n",
    "What is the binary equivalent of these numbers, using 4 bits for the numerator and 4 for the denominator\n",
    "\n",
    "* 2.25\n",
    "* 5.8\n",
    "* "
   ]
  },
  {
   "cell_type": "markdown",
   "metadata": {
    "focus": false,
    "id": "07b96345-355a-4bb5-852a-633c9f5a563c",
    "slideshow": {
     "slide_type": "slide"
    }
   },
   "source": [
    "# Bitwise Operators and Truth Tables\n",
    "\n",
    "OK, we now know how to convert almost anything to binary. Now we can look into what the heck these mean:\n",
    "\n",
    "* `~10`\n",
    "* `24 & 24`\n",
    "* `22 | 2`\n",
    "* `22 ^ 2`\n",
    "\n",
    "Any ideas?\n"
   ]
  },
  {
   "cell_type": "markdown",
   "metadata": {
    "focus": false,
    "id": "72444bed-9700-4ad7-8efb-3a3878f57b29",
    "slideshow": {
     "slide_type": "subslide"
    }
   },
   "source": [
    "These are called bitwise operators and they work by performing operations on the binary representations of the values.\n",
    "\n",
    "You get the result back in decimal, so these steps are followed:\n",
    "1. Bitwise operation (22 ^ 3)\n",
    "2. Convert each value to decimal\n",
    "3. Perform the operation (using a truth table)\n",
    "4. Convert back to decimal\n",
    "\n",
    "Let's try each operator:\n"
   ]
  },
  {
   "cell_type": "markdown",
   "metadata": {
    "focus": false,
    "id": "05115422-9999-4078-a123-144a4358d454",
    "slideshow": {
     "slide_type": "subslide"
    }
   },
   "source": [
    "#  AND (`&`)\n",
    "\n",
    "* True if both `x` and `y` are True. False otherwise.\n",
    "\n",
    "`24 & 24 = 24`\n",
    "\n",
    "|  | x | y | x AND y |\n",
    "|--|---|---|---------|\n",
    "|16| 1 | 1 | 1       |\n",
    "|8 | 1 | 1 | 1       |\n",
    "|4 | 0 | 0 | 0       |\n",
    "|2 | 0 | 0 | 0       |\n",
    "|1 | 0 | 0 | 0       |"
   ]
  },
  {
   "cell_type": "markdown",
   "metadata": {
    "focus": false,
    "id": "882a8086-31d1-4c29-879a-2ace93845fe9",
    "slideshow": {
     "slide_type": "subslide"
    }
   },
   "source": [
    "# OR (`|`)\n",
    "\n",
    "* True if `x` and/or `y` is True . False otherwise.\n",
    "\n",
    "`22 | 2 = 22`\n",
    "\n",
    "|  | x | y | x OR y  |\n",
    "|--|---|---|---------|\n",
    "|16| 1 | 0 | 1       |\n",
    "|8 | 0 | 0 | 0       |\n",
    "|4 | 1 | 0 | 1       |\n",
    "|2 | 1 | 1 | 1       |\n",
    "|1 | 0 | 0 | 0       |"
   ]
  },
  {
   "cell_type": "markdown",
   "metadata": {
    "focus": false,
    "id": "41261ccb-4cd7-42d6-8dbf-56dcad31853b",
    "slideshow": {
     "slide_type": "subslide"
    }
   },
   "source": [
    "# XOR (`^`)\n",
    "## Exclusive Or\n",
    "\n",
    "* True only if `x` or `y` is True. False otherwise.\n",
    "\n",
    "`22 ^ 2 = 20`\n",
    "\n",
    "|  | x | y | x XOR y |\n",
    "|--|---|---|---------|\n",
    "|16| 1 | 0 | 1       |\n",
    "|8 | 0 | 0 | 0       |\n",
    "|4 | 1 | 0 | 1       |\n",
    "|2 | 1 | 1 | 0       |\n",
    "|1 | 0 | 0 | 0       |"
   ]
  },
  {
   "cell_type": "markdown",
   "metadata": {
    "focus": false,
    "id": "5c6c7b34-60dd-47b9-815f-da961b7510de",
    "slideshow": {
     "slide_type": "subslide"
    }
   },
   "source": [
    "# NOT (`!`)\n",
    "\n",
    "* The opposite of the initial value.\n",
    "\n",
    "  | x | ~x |\n",
    "  \n",
    "  |---|----|\n",
    "  \n",
    "  | 1 | 0  |\n",
    "  \n",
    "  | 0 |  1 |"
   ]
  },
  {
   "cell_type": "markdown",
   "metadata": {
    "focus": false,
    "id": "d20fb0c7-71d0-4c17-9f34-84adf0f85675",
    "slideshow": {
     "slide_type": "subslide"
    }
   },
   "source": [
    "# Why Are These Operations Useful?\n",
    "\n",
    "What do you think it would be used for?"
   ]
  },
  {
   "cell_type": "markdown",
   "metadata": {
    "focus": false,
    "id": "32cce623-5126-40fe-bd8b-e47b00f3eeb5",
    "slideshow": {
     "slide_type": "fragment"
    }
   },
   "source": [
    "## Internet of Things\n",
    "\n",
    "We have gigabytes of bandwidth to send information. That is why we have AJAX requests and can send whole files anywhere.\n",
    "\n",
    "What about when we do not have that bandwidth? When we use Zigbee or other slower protocols instead of WiFi."
   ]
  },
  {
   "cell_type": "markdown",
   "metadata": {
    "focus": false,
    "id": "07f5a384-52d4-4483-aa81-01686b04d961",
    "slideshow": {
     "slide_type": "subslide"
    }
   },
   "source": [
    "Then we want to send as few bytes as possible. In embedded computers, sensors and other IoT devices, we use `flags` to relate to configuration, write drivers or as instructions for microcontrollers.\n",
    "\n",
    "I.e. a bit relates to an individual setting.\n",
    "\n",
    "1101 - sensor on, led on, power save off, Bluetooth connection on\n",
    "1001 - sensor on, led off, power save off, Bluetooth connection on\n",
    "\n",
    "There is another use that you see every day:"
   ]
  },
  {
   "cell_type": "markdown",
   "metadata": {
    "focus": false,
    "id": "d54cead7-171e-4b19-8e56-b6e5cddd7dc4",
    "slideshow": {
     "slide_type": "fragment"
    }
   },
   "source": [
    "# Cryptography!"
   ]
  },
  {
   "cell_type": "markdown",
   "metadata": {
    "focus": false,
    "id": "8b8474cd-2c97-44d4-94fe-9ac0a120cada",
    "slideshow": {
     "slide_type": "slide"
    }
   },
   "source": [
    "### Exercise\n",
    "\n",
    "Using truth tables, perform the following operations and show your working:\n",
    "\n",
    "* 18 & 6\n",
    "* 12 | 8\n",
    "* 14 & 18\n",
    "* 20 | 32\n",
    "* ~8\n",
    "* 4 ^ 8\n",
    "* 40 & 19\n",
    "* 2 && 2\n",
    "* ~-9\n"
   ]
  },
  {
   "cell_type": "markdown",
   "metadata": {
    "focus": false,
    "id": "c8671a75-a570-4b18-bac0-32fbc1ead679",
    "slideshow": {
     "slide_type": "notes"
    }
   },
   "source": [
    "* 2\n",
    "* 12\n",
    "* 2\n",
    "* 52\n",
    "* 12\n",
    "* 0\n",
    "* true"
   ]
  },
  {
   "cell_type": "markdown",
   "metadata": {
    "slideshow": {
     "slide_type": "slide"
    }
   },
   "source": [
    "# Overflow\n",
    "\n",
    "When performing operations, you may see that the answer you receive is not the same as the answer you expected. This can happen when you are restricted in the number of bits where the answer has more bits than the numbers you are performing an operation on.\n",
    "\n",
    "This is called `overflow` and the answer to this is simple:\n",
    "\n",
    "DISCARD ALL THE OVERFLOW BITS!\n",
    "\n",
    "Problem solved, but you can see why computers mess up sometimes."
   ]
  },
  {
   "cell_type": "markdown",
   "metadata": {
    "focus": false,
    "id": "e9c3e371-b1a5-4c96-afea-9a3bccdeb70b",
    "slideshow": {
     "slide_type": "slide"
    }
   },
   "source": [
    "# Binary Multiplication\n",
    "\n",
    "Only need to remember these three rules:\n",
    "* 1 x 0 = 0\n",
    "* 0 x 0 = 0\n",
    "* 1 x 1 = 1\n",
    "\n",
    "Same as normal multiplication, except you move one place to the left for each number.\n",
    "\n",
    "E.g. 4 x 3"
   ]
  },
  {
   "cell_type": "markdown",
   "metadata": {
    "focus": false,
    "id": "53312fab-0f6b-4624-bf63-3287b107a5b7",
    "slideshow": {
     "slide_type": "subslide"
    }
   },
   "source": [
    "# Binary Multiplication Example\n",
    "\n",
    "### Step 1: Binary Representation\n",
    "\n",
    "4 = 0100\n",
    "\n",
    "3 = 0011\n",
    "\n",
    "### Step 2: Mutiply by 1\n",
    "\n",
    "|     | Binary   |\n",
    "|-----|----------|\n",
    "|     | 0100     |\n",
    "| x   | 001**1** |\n",
    "| --- | ---      |\n",
    "|     | 0100     |"
   ]
  },
  {
   "cell_type": "markdown",
   "metadata": {
    "focus": false,
    "id": "59f038a6-b789-4099-b936-bc62fb7cb606",
    "slideshow": {
     "slide_type": "subslide"
    }
   },
   "source": [
    "### Step 3: Move left one place and multiply by next number\n",
    "\n",
    "|     | Binary   |\n",
    "|-----|----------|\n",
    "|     | 0100     |\n",
    "| x   | 00**1**1 |\n",
    "| --- | ---      |\n",
    "|     | _0100    |\n",
    "|     | 0100     |"
   ]
  },
  {
   "cell_type": "markdown",
   "metadata": {
    "slideshow": {
     "slide_type": "slide"
    }
   },
   "source": [
    "# Binary Division\n",
    "\n",
    "A lot like long division, take a look at the long division PDF in this zip file.\n",
    "\n",
    "### Exercise\n",
    "\n",
    "Using that approach (all the working), perform long division for the following:\n",
    "\n",
    "* 425 / 25\n",
    "* 8640 / 15"
   ]
  },
  {
   "cell_type": "code",
   "execution_count": null,
   "metadata": {
    "collapsed": true,
    "slideshow": {
     "slide_type": "skip"
    }
   },
   "outputs": [],
   "source": [
    "http://www.bbc.co.uk/skillswise/factsheet/ma12pape-l1-f-long-division\n",
    "https://www.mathsisfun.com/long_division.html"
   ]
  },
  {
   "cell_type": "markdown",
   "metadata": {
    "slideshow": {
     "slide_type": "subslide"
    }
   },
   "source": [
    "![div_explain](img/div_explain.png)"
   ]
  },
  {
   "cell_type": "markdown",
   "metadata": {
    "slideshow": {
     "slide_type": "subslide"
    }
   },
   "source": [
    "Look at the binary division pdf in the zip and follow the steps.\n",
    "\n",
    "Note: Division involving negative numbers is easiest to do by converting to positives and adjusting the sign.\n",
    "\n",
    "There is an exercise coming."
   ]
  },
  {
   "cell_type": "markdown",
   "metadata": {
    "slideshow": {
     "slide_type": "subslide"
    }
   },
   "source": [
    "# "
   ]
  },
  {
   "cell_type": "markdown",
   "metadata": {
    "slideshow": {
     "slide_type": "subslide"
    }
   },
   "source": []
  },
  {
   "cell_type": "markdown",
   "metadata": {
    "slideshow": {
     "slide_type": "subslide"
    }
   },
   "source": []
  },
  {
   "cell_type": "markdown",
   "metadata": {
    "slideshow": {
     "slide_type": "subslide"
    }
   },
   "source": []
  },
  {
   "cell_type": "markdown",
   "metadata": {
    "slideshow": {
     "slide_type": "subslide"
    }
   },
   "source": []
  },
  {
   "cell_type": "markdown",
   "metadata": {
    "slideshow": {
     "slide_type": "subslide"
    }
   },
   "source": []
  },
  {
   "cell_type": "markdown",
   "metadata": {
    "slideshow": {
     "slide_type": "subslide"
    }
   },
   "source": []
  },
  {
   "cell_type": "markdown",
   "metadata": {
    "focus": false,
    "id": "921aeeee-7dbe-4265-a993-be3ea114d996",
    "slideshow": {
     "slide_type": "subslide"
    }
   },
   "source": [
    "# In a Nutshell\n",
    "\n",
    "![division](img/division.png)"
   ]
  },
  {
   "cell_type": "markdown",
   "metadata": {
    "focus": false,
    "id": "5cd3943e-d597-4145-b6d6-5ec2e9a28c5e",
    "slideshow": {
     "slide_type": "subslide"
    }
   },
   "source": [
    "# Exercise"
   ]
  },
  {
   "cell_type": "markdown",
   "metadata": {
    "focus": false,
    "id": "0770b7e8-02db-4d53-82e8-96b5ebb5d6b4",
    "slideshow": {
     "slide_type": "slide"
    }
   },
   "source": [
    "![bitwise](img/hacker.gif)"
   ]
  },
  {
   "cell_type": "code",
   "execution_count": null,
   "metadata": {
    "collapsed": false,
    "focus": false
   },
   "outputs": [],
   "source": []
  }
 ],
 "metadata": {
  "celltoolbar": "Slideshow",
  "kernelspec": {
   "display_name": "Python 3",
   "language": "python",
   "name": "python3"
  },
  "language_info": {
   "codemirror_mode": {
    "name": "ipython",
    "version": 3
   },
   "file_extension": ".py",
   "mimetype": "text/x-python",
   "name": "python",
   "nbconvert_exporter": "python",
   "pygments_lexer": "ipython3",
   "version": "3.5.2+"
  },
  "nav_menu": {},
  "toc": {
   "navigate_menu": true,
   "number_sections": true,
   "sideBar": true,
   "threshold": 6,
   "toc_cell": false,
   "toc_section_display": "block",
   "toc_window_display": true
  }
 },
 "nbformat": 4,
 "nbformat_minor": 0
}
