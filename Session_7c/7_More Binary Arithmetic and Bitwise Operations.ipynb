{
    "cells": [
        {
            "cell_type": "code",
            "execution_count": 1,
            "metadata": {
                "collapsed": false,
                "slideshow": {
                    "slide_type": "skip"
                },
                "id": "3046c6a6-b10a-480f-aba4-55f0c8c69a59",
                "focus": false
            },
            "outputs": [
                {
                    "data": {
                        "text/plain": [
                            "{'start_slideshow_at': 'selected', 'theme': 'solarized', 'transition': 'zoom'}"
                        ]
                    },
                    "execution_count": 1,
                    "metadata": {},
                    "output_type": "execute_result"
                }
            ],
            "source": [
                "from notebook.services.config import ConfigManager\n",
                "from IPython.paths import locate_profile\n",
                "cm = ConfigManager(profile_dir=locate_profile(get_ipython().profile))\n",
                "cm.update('livereveal', {\n",
                "              'theme': 'solarized',\n",
                "              'transition': 'zoom',\n",
                "              'start_slideshow_at': 'selected',\n",
                "})"
            ]
        },
        {
            "cell_type": "markdown",
            "metadata": {
                "slideshow": {
                    "slide_type": "slide"
                },
                "id": "4efb5613-be73-4b4e-af26-51f6e5c02a9a",
                "focus": false
            },
            "source": [
                "# More Binary Arithmetic, Fractions and Bitwise Operations\n",
                "\n",
                "## Dr. Chris Gwilliams\n",
                "\n",
                "### gwilliamsc@cardiff.ac.uk"
            ]
        },
        {
            "cell_type": "markdown",
            "metadata": {
                "slideshow": {
                    "slide_type": "slide"
                },
                "id": "f4efd3a4-d4a3-408f-8358-31a359bf18d4",
                "focus": false
            },
            "source": [
                "# Overview\n",
                "\n",
                "* Binary Multiplication\n",
                "* Binary Division\n",
                "* Representing Decimal in Binary\n",
                "* Bitwise Operators\n",
                "* Truth Tables"
            ]
        },
        {
            "cell_type": "markdown",
            "metadata": {
                "slideshow": {
                    "slide_type": "slide"
                },
                "id": "1c55cd30-139b-47fe-9da4-b920f9d1d3b6",
                "focus": false
            },
            "source": [
                "# Decimals in Binary\n",
                "\n",
                "This works much the same as in denary. We have the representation of the whole number, a decimal point and a representation of the fraction.\n",
                "\n",
                "| 8 | 4 | 2 | 1 | . | 1/2 | 1/4 | 1/8 | 1/16 | 1/32 |\n",
                "|---|---|---|---|---|-----|-----|-----|------|------|\n",
                "| 1 | 0 | 1 | 0 | . | 1   | 1   | 0   | 0    | 0    |\n",
                "\n",
                "Note how the decimal side works much the same way as for whole numbers.\n",
                "\n",
                "What is the decimal representation of this value? \n",
                "\n"
            ]
        },
        {
            "cell_type": "markdown",
            "metadata": {
                "slideshow": {
                    "slide_type": "fragment"
                },
                "id": "79617ef5-cfcd-4dc8-99cb-63361b90e0a8",
                "focus": false
            },
            "source": [
                "10.75\n",
                "\n",
                "What could be the issues with this?"
            ]
        },
        {
            "cell_type": "markdown",
            "metadata": {
                "slideshow": {
                    "slide_type": "subslide"
                },
                "id": "6ce5e235-f275-45d3-bda0-bab4ea2e867e",
                "focus": false
            },
            "source": [
                "# Decimals in Binary\n",
                "\n",
                "We can only cleanly show values where the denominator is a power of 2. So, how do we represent `5.91`?"
            ]
        },
        {
            "cell_type": "markdown",
            "metadata": {
                "slideshow": {
                    "slide_type": "fragment"
                },
                "id": "5089076e-a256-48c0-b092-5c586daa88b2",
                "focus": false
            },
            "source": [
                "This is not a power of 2, so the best we can do is get close.\n",
                "\n",
                "| 8 | 4 | 2 | 1 | . | 1/2 | 1/4 | 1/8 | 1/16 | 1/32 |\n",
                "|---|---|---|---|---|-----|-----|-----|------|------|\n",
                "| 0 | 1 | 0 | 1 | . | 1   | 1   | 1   | 0    | 1    |\n",
                "\n",
                "This can cause `rounding errors` when storing numbers in Base-2."
            ]
        },
        {
            "cell_type": "markdown",
            "metadata": {
                "slideshow": {
                    "slide_type": "subslide"
                },
                "id": "a1fbd83a-f39e-46ac-99e1-1e2dfcdfcc9e",
                "focus": false
            },
            "source": [
                "# Decimals in Binary\n",
                "\n",
                "Binary can store 0s and 1s and nothing else. How do we store decimal points?"
            ]
        },
        {
            "cell_type": "markdown",
            "metadata": {
                "slideshow": {
                    "slide_type": "fragment"
                },
                "id": "fd211807-5f0d-4b29-9662-46ea511195ab",
                "focus": false
            },
            "source": [
                "Answer: We don't! To do this, we assign a fixed number of bits for the numerator and a fixed number of bits for the denominator.\n",
                "\n",
                "I.e.\n",
                "\n",
                "4 bits for numerators\n",
                "5 bits for denominator\n",
                "\n",
                "0101.11101"
            ]
        },
        {
            "cell_type": "markdown",
            "metadata": {
                "slideshow": {
                    "slide_type": "subslide"
                },
                "id": "22694ab1-790d-43e0-9bda-766e16a3353d",
                "focus": true
            },
            "source": "# Exercise\n\nWhat is the binary equivalent of these numbers, using 4 bits for the numerator and 4 for the denominator\n\n* 2.25\n* 5.8\n* "
        },
        {
            "cell_type": "markdown",
            "metadata": {
                "slideshow": {
                    "slide_type": "slide"
                },
                "id": "07b96345-355a-4bb5-852a-633c9f5a563c",
                "focus": false
            },
            "source": [
                "# Bitwise Operators and Truth Tables\n",
                "\n",
                "OK, we now know how to convert almost anything to binary. Now we can look into what the heck these mean:\n",
                "\n",
                "* `~10`\n",
                "* `24 & 24`\n",
                "* `22 | 2`\n",
                "* `22 ^ 2`\n",
                "\n",
                "Any ideas?\n"
            ]
        },
        {
            "cell_type": "markdown",
            "metadata": {
                "slideshow": {
                    "slide_type": "subslide"
                },
                "id": "72444bed-9700-4ad7-8efb-3a3878f57b29",
                "focus": false
            },
            "source": [
                "These are called bitwise operators and they work by performing operations on the binary representations of the values.\n",
                "\n",
                "You get the result back in decimal, so these steps are followed:\n",
                "1. Bitwise operation (22 ^ 3)\n",
                "2. Convert each value to decimal\n",
                "3. Perform the operation (using a truth table)\n",
                "4. Convert back to decimal\n",
                "\n",
                "Let's try each operator:\n"
            ]
        },
        {
            "cell_type": "markdown",
            "metadata": {
                "slideshow": {
                    "slide_type": "subslide"
                },
                "id": "05115422-9999-4078-a123-144a4358d454",
                "focus": false
            },
            "source": [
                "#  AND (`&`)\n",
                "\n",
                "* True if both `x` and `y` are True. False otherwise.\n",
                "\n",
                "`24 & 24 = 24`\n",
                "\n",
                "|  | x | y | x AND y |\n",
                "|--|---|---|---------|\n",
                "|16| 1 | 1 | 1       |\n",
                "|8 | 1 | 1 | 1       |\n",
                "|4 | 0 | 0 | 0       |\n",
                "|2 | 0 | 0 | 0       |\n",
                "|1 | 0 | 0 | 0       |"
            ]
        },
        {
            "cell_type": "markdown",
            "metadata": {
                "slideshow": {
                    "slide_type": "subslide"
                },
                "id": "882a8086-31d1-4c29-879a-2ace93845fe9",
                "focus": false
            },
            "source": [
                "# OR (`|`)\n",
                "\n",
                "* True if `x` and/or `y` is True . False otherwise.\n",
                "\n",
                "`22 | 2 = 22`\n",
                "\n",
                "|  | x | y | x OR y  |\n",
                "|--|---|---|---------|\n",
                "|16| 1 | 0 | 1       |\n",
                "|8 | 0 | 0 | 0       |\n",
                "|4 | 1 | 0 | 1       |\n",
                "|2 | 1 | 1 | 1       |\n",
                "|1 | 0 | 0 | 0       |"
            ]
        },
        {
            "cell_type": "markdown",
            "metadata": {
                "slideshow": {
                    "slide_type": "subslide"
                },
                "id": "41261ccb-4cd7-42d6-8dbf-56dcad31853b",
                "focus": false
            },
            "source": [
                "# XOR (`^`)\n",
                "## Exclusive Or\n",
                "\n",
                "* True only if `x` or `y` is True. False otherwise.\n",
                "\n",
                "`22 ^ 2 = 20`\n",
                "\n",
                "|  | x | y | x XOR y |\n",
                "|--|---|---|---------|\n",
                "|16| 1 | 0 | 1       |\n",
                "|8 | 0 | 0 | 0       |\n",
                "|4 | 1 | 0 | 1       |\n",
                "|2 | 1 | 1 | 0       |\n",
                "|1 | 0 | 0 | 0       |"
            ]
        },
        {
            "cell_type": "markdown",
            "metadata": {
                "slideshow": {
                    "slide_type": "subslide"
                },
                "id": "5c6c7b34-60dd-47b9-815f-da961b7510de",
                "focus": false
            },
            "source": [
                "# NOT (`!`)\n",
                "\n",
                "* The opposite of the initial value.\n",
                "\n",
                "  | x | ~x |\n",
                "  \n",
                "  |---|----|\n",
                "  \n",
                "  | 1 | 0  |\n",
                "  \n",
                "  | 0 |  1 |"
            ]
        },
        {
            "cell_type": "markdown",
            "metadata": {
                "slideshow": {
                    "slide_type": "subslide"
                },
                "id": "d20fb0c7-71d0-4c17-9f34-84adf0f85675",
                "focus": false
            },
            "source": [
                "# Why Are These Operations Useful?\n",
                "\n",
                "What do you think it would be used for?"
            ]
        },
        {
            "cell_type": "markdown",
            "metadata": {
                "slideshow": {
                    "slide_type": "fragment"
                },
                "id": "32cce623-5126-40fe-bd8b-e47b00f3eeb5",
                "focus": false
            },
            "source": [
                "## Internet of Things\n",
                "\n",
                "We have gigabytes of bandwidth to send information. That is why we have AJAX requests and can send whole files anywhere.\n",
                "\n",
                "What about when we do not have that bandwidth? When we use Zigbee or other slower protocols instead of WiFi."
            ]
        },
        {
            "cell_type": "markdown",
            "metadata": {
                "slideshow": {
                    "slide_type": "subslide"
                },
                "id": "07f5a384-52d4-4483-aa81-01686b04d961",
                "focus": false
            },
            "source": [
                "Then we want to send as few bytes as possible. In embedded computers, sensors and other IoT devices, we use `flags` to relate to configuration, write drivers or as instructions for microcontrollers.\n",
                "\n",
                "I.e. a bit relates to an individual setting.\n",
                "\n",
                "1101 - sensor on, led on, power save off, Bluetooth connection on\n",
                "1001 - sensor on, led off, power save off, Bluetooth connection on\n",
                "\n",
                "There is another use that you see every day:"
            ]
        },
        {
            "cell_type": "markdown",
            "metadata": {
                "slideshow": {
                    "slide_type": "fragment"
                },
                "id": "d54cead7-171e-4b19-8e56-b6e5cddd7dc4",
                "focus": false
            },
            "source": [
                "# Cryptography!"
            ]
        },
        {
            "cell_type": "markdown",
            "metadata": {
                "slideshow": {
                    "slide_type": "slide"
                },
                "id": "8b8474cd-2c97-44d4-94fe-9ac0a120cada",
                "focus": false
            },
            "source": [
                "### Exercise\n",
                "\n",
                "Using truth tables, perform the following operations and show your working:\n",
                "\n",
                "* 18 & 6\n",
                "* 12 | 8\n",
                "* 14 & 18\n",
                "* 20 | 32\n",
                "* ~8\n",
                "* 4 ^ 8\n",
                "* 40 & 19\n",
                "* 2 && 2\n",
                "* ~-9\n"
            ]
        },
        {
            "cell_type": "markdown",
            "metadata": {
                "slideshow": {
                    "slide_type": "notes"
                },
                "id": "c8671a75-a570-4b18-bac0-32fbc1ead679",
                "focus": false
            },
            "source": [
                "* 2\n",
                "* 12\n",
                "* 2\n",
                "* 52\n",
                "* 12\n",
                "* 0\n",
                "* true"
            ]
        },
        {
            "cell_type": "markdown",
            "metadata": {
                "slideshow": {
                    "slide_type": "slide"
                },
                "id": "e9c3e371-b1a5-4c96-afea-9a3bccdeb70b",
                "focus": false
            },
            "source": [
                "# Binary Multiplication\n",
                "\n",
                "Only need to remember these three rules:\n",
                "* 1 x 0 = 0\n",
                "* 0 x 0 = 0\n",
                "* 1 x 1 = 1\n",
                "\n",
                "Same as normal multiplication, except you move one place to the left for each number.\n",
                "\n",
                "E.g. 4 x 3"
            ]
        },
        {
            "cell_type": "markdown",
            "metadata": {
                "slideshow": {
                    "slide_type": "subslide"
                },
                "id": "53312fab-0f6b-4624-bf63-3287b107a5b7",
                "focus": false
            },
            "source": [
                "# Binary Multiplication Example\n",
                "\n",
                "### Step 1: Binary Representation\n",
                "\n",
                "4 = 0100\n",
                "\n",
                "3 = 0011\n",
                "\n",
                "### Step 2: Mutiply by 1\n",
                "\n",
                "|     | Binary   |\n",
                "|-----|----------|\n",
                "|     | 0100     |\n",
                "| x   | 001**1** |\n",
                "| --- | ---      |\n",
                "|     | 0100     |"
            ]
        },
        {
            "cell_type": "markdown",
            "metadata": {
                "slideshow": {
                    "slide_type": "subslide"
                },
                "id": "59f038a6-b789-4099-b936-bc62fb7cb606",
                "focus": false
            },
            "source": [
                "### Step 3: Move left one place and multiply by next number\n",
                "\n",
                "|     | Binary   |\n",
                "|-----|----------|\n",
                "|     | 0100     |\n",
                "| x   | 00**1**1 |\n",
                "| --- | ---      |\n",
                "|     | _0100    |\n",
                "|     | 0100     |"
            ]
        },
        {
            "cell_type": "markdown",
            "metadata": {
                "slideshow": {
                    "slide_type": "subslide"
                },
                "id": "2e88977d-352b-44bb-9677-e99d5b2fed62",
                "focus": false
            },
            "source": [
                "### Step 4: Now perform addition on the resulting values\n",
                "\n",
                "|     | Binary   |\n",
                "|-----|----------|\n",
                "|     | 0100     |\n",
                "| x   | 0011 |\n",
                "| --- | ---      |\n",
                "|     | _0100    |\n",
                "| +   | 0100     |\n",
                "|     | ---      |\n",
                "| **12**  | **01100**    |"
            ]
        },
        {
            "cell_type": "markdown",
            "metadata": {
                "slideshow": {
                    "slide_type": "slide"
                },
                "id": "6227b96f-159d-4a18-ba73-c0d384081a4c",
                "focus": false
            },
            "source": [
                "# Binary Division\n",
                "\n",
                "Binary division is maybe the longest operation to perform and can be quite complex. We go into it in detail here:\n",
                "\n",
                "`110101 / 111` (53/7)\n",
                "\n",
                "Basic Steps:\n",
                "1. Align the divisor (111) with the most signifant end of the divident (110101)\n",
                "`    ______\n",
                "111 |110101\n",
                "`\n",
                "2. Compare the divisor against the first bit(s) of the dividend and see if it is less than or more than.\n",
                "    * If divisor < dividend bits: quotient is 1 and we subtract divisor from dividend bits\n",
                "    * If divisor > divident bits: quotient is 0 and we perform no subtraction \n",
                "3. Shift along one bit and check step 2\n",
                "\n",
                "Easy? Maybe not. Let's try an example\n"
            ]
        },
        {
            "cell_type": "markdown",
            "metadata": {
                "slideshow": {
                    "slide_type": "subslide"
                },
                "id": "756036ed-1277-4ee3-aa98-4b9695fd8777",
                "focus": false
            },
            "source": [
                "## Is 111 (divisor) < 110 (dividend bits)?\n",
                "111 |**110**101\n",
                "\n",
                "No. Ok, so our quotient is 0 and we shift along one bit, making our dividend bits `1101`\n",
                "\n",
                "         \n",
                "111 |**1101**01\n"
            ]
        },
        {
            "cell_type": "markdown",
            "metadata": {
                "slideshow": {
                    "slide_type": "subslide"
                },
                "id": "a32f515c-8df4-4fc3-bcc5-f0f491aea0c8",
                "focus": false
            },
            "source": [
                "## Is 111 < 1101?\n",
                "\n",
                "Yes. So our quotient is 1 and we subtract 111 from 1101.\n",
                "\n",
                "1101 - 111 = ?"
            ]
        },
        {
            "cell_type": "markdown",
            "metadata": {
                "slideshow": {
                    "slide_type": "fragment"
                },
                "id": "6648efd5-ad21-4889-861b-21db2f3df974",
                "focus": false
            },
            "source": [
                "110\n",
                "\n",
                "## Is 111 < 110?\n",
                "\n",
                "No. So our quotient is 0 and we shift a bit.\n",
                "\n",
                "\n",
                "1100 - 111 = ?"
            ]
        },
        {
            "cell_type": "markdown",
            "metadata": {
                "slideshow": {
                    "slide_type": "subslide"
                },
                "id": "c81463cf-fc79-4f47-9d38-c27259b1fd3e",
                "focus": false
            },
            "source": [
                "1011\n",
                "\n",
                "## Is 111 < 1010?\n",
                "\n",
                "Yes. So our quotient is 1 and we subtract 111 from 1011.\n",
                "\n",
                "But, we are out of bits! So, our answer is:\n",
                "\n",
                "000111 with a remainder of 100 or 7 remainder 4"
            ]
        },
        {
            "cell_type": "markdown",
            "metadata": {
                "slideshow": {
                    "slide_type": "subslide"
                },
                "id": "921aeeee-7dbe-4265-a993-be3ea114d996",
                "focus": false
            },
            "source": [
                "# In a Nutshell\n",
                "\n",
                "![division](img/division.png)"
            ]
        },
        {
            "cell_type": "markdown",
            "metadata": {
                "slideshow": {
                    "slide_type": "subslide"
                },
                "id": "5cd3943e-d597-4145-b6d6-5ec2e9a28c5e",
                "focus": false
            },
            "source": [
                "# Exercise"
            ]
        },
        {
            "cell_type": "markdown",
            "metadata": {
                "slideshow": {
                    "slide_type": "slide"
                },
                "id": "0770b7e8-02db-4d53-82e8-96b5ebb5d6b4",
                "focus": false
            },
            "source": [
                "![bitwise](img/hacker.gif)"
            ]
        },
        {
            "cell_type": "code",
            "execution_count": null,
            "metadata": {
                "collapsed": false,
                "focus": false
            },
            "outputs": [],
            "source": []
        }
    ],
    "metadata": {
        "celltoolbar": "Slideshow",
        "kernelspec": {
            "display_name": "Python 2",
            "language": "python",
            "name": "python2"
        },
        "language_info": {
            "codemirror_mode": {
                "name": "ipython",
                "version": 2
            },
            "file_extension": ".py",
            "mimetype": "text/x-python",
            "name": "python",
            "nbconvert_exporter": "python",
            "pygments_lexer": "ipython2",
            "version": "2.7.12"
        },
        "nav_menu": {},
        "toc": {
            "navigate_menu": true,
            "number_sections": true,
            "sideBar": true,
            "threshold": 6,
            "toc_cell": false,
            "toc_section_display": "block",
            "toc_window_display": true
        }
    },
    "nbformat": 4,
    "nbformat_minor": 0
}