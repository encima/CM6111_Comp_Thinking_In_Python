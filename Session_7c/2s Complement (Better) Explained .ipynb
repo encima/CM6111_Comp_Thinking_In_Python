{
 "cells": [
  {
   "cell_type": "markdown",
   "metadata": {
    "collapsed": true
   },
   "source": [
    "# 2s Complement Better Explained\n",
    "\n",
    "So, this did not go well last session. Let's address this:\n",
    "\n",
    "2's Complement is 1's complement (flipping all the bits) but adding the decimal value 1 to the decimal value of the result.\n",
    "\n",
    "| Unsigned | 2's Complement | Binary    |\n",
    "|----------|----------------|-----------|\n",
    "| 5        | 5              | 0000 0101 |\n",
    "| 251      | -5             | 1111 1011 |\n",
    "| 1        | 1              | 0000 0001 |\n",
    "| 254      | -2             | 1111 1110 |\n",
    "| 255      | -1             | 1111 1111 |\n"
   ]
  },
  {
   "cell_type": "markdown",
   "metadata": {},
   "source": [
    "# -10 in 2's complement\n",
    "\n",
    "1. Find binary representation for 10\n",
    " \n",
    " 0000 1010\n",
    " \n",
    "2. Flip all bits (1's complement)\n",
    "\n",
    " 1111 0101\n",
    " \n",
    "3. Add one\n",
    "\n",
    " 1111 0110"
   ]
  },
  {
   "cell_type": "markdown",
   "metadata": {},
   "source": [
    "# Examples (4 Bit Binary)\n",
    "\n",
    "| Two’s Complement | Decimal Number |\n",
    "|------------------|----------------|\n",
    "| 0000             | 0              |\n",
    "| 0001             | 1              |\n",
    "| 0010             | 2              |\n",
    "| 0011             | 3              |\n",
    "| 0100             | 4              |\n",
    "| 0101             | 5              |\n",
    "| 0110             | 6              |\n",
    "| 0111             | 7              |\n",
    "| 1000             | -8             |\n",
    "| 1001             | -7             |\n",
    "| 1010             | -6             |\n",
    "| 1011             | -5             |\n",
    "| 1100             | -4             |\n",
    "| 1101             | -3             |\n",
    "| 1110             | -2             |\n",
    "| 1111             | -1             |"
   ]
  },
  {
   "cell_type": "markdown",
   "metadata": {},
   "source": [
    "# The Sign Bit\n",
    "\n",
    " The most significant (leftmost) bit indicates the sign of the integer; therefore it is sometimes called the sign bit.\n",
    "\n",
    "    If the sign bit is zero,\n",
    "        then the number is greater than or equal to zero, or positive. \n",
    "    If the sign bit is one,\n",
    "        then the number is less than zero, or negative. \n",
    "\n",
    "Look at the example above, does that mean we can represent -10 in 4 bit binary?\n",
    "\n",
    "What is the minimum number of bits we can represent it in?"
   ]
  },
  {
   "cell_type": "markdown",
   "metadata": {},
   "source": []
  },
  {
   "cell_type": "markdown",
   "metadata": {},
   "source": []
  },
  {
   "cell_type": "markdown",
   "metadata": {},
   "source": []
  },
  {
   "cell_type": "markdown",
   "metadata": {},
   "source": []
  },
  {
   "cell_type": "markdown",
   "metadata": {},
   "source": []
  },
  {
   "cell_type": "markdown",
   "metadata": {},
   "source": []
  }
 ],
 "metadata": {
  "kernelspec": {
   "display_name": "Python 3",
   "language": "python",
   "name": "python3"
  },
  "language_info": {
   "codemirror_mode": {
    "name": "ipython",
    "version": 3
   },
   "file_extension": ".py",
   "mimetype": "text/x-python",
   "name": "python",
   "nbconvert_exporter": "python",
   "pygments_lexer": "ipython3",
   "version": "3.5.2+"
  }
 },
 "nbformat": 4,
 "nbformat_minor": 1
}
