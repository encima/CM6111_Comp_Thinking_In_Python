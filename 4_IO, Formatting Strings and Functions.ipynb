{
 "cells": [
  {
   "cell_type": "code",
   "execution_count": 11,
   "metadata": {
    "collapsed": false,
    "slideshow": {
     "slide_type": "skip"
    }
   },
   "outputs": [
    {
     "data": {
      "text/plain": [
       "{'start_slideshow_at': 'selected', 'theme': 'solarized', 'transition': 'zoom'}"
      ]
     },
     "execution_count": 11,
     "metadata": {},
     "output_type": "execute_result"
    }
   ],
   "source": [
    "from IPython.html.services.config import ConfigManager\n",
    "from IPython.paths import locate_profile\n",
    "cm = ConfigManager(profile_dir=locate_profile(get_ipython().profile))\n",
    "cm.update('livereveal', {\n",
    "              'theme': 'solarized',\n",
    "              'transition': 'zoom',\n",
    "              'start_slideshow_at': 'selected',\n",
    "})"
   ]
  },
  {
   "cell_type": "markdown",
   "metadata": {
    "slideshow": {
     "slide_type": "slide"
    }
   },
   "source": [
    "# Input, Ouput, Formatting Strings and Functions\n",
    "\n",
    "## Dr. Chris Gwilliams\n",
    "\n",
    "### gwilliamsc@cardiff.ac.uk"
   ]
  },
  {
   "cell_type": "markdown",
   "metadata": {
    "slideshow": {
     "slide_type": "slide"
    }
   },
   "source": [
    "# So Far and Overview\n",
    "\n",
    "- Output (we have covered this with the `print` statement\n",
    "- String formatting\n",
    "- Input (how do we get user input)\n",
    "- Casting types\n",
    "\n",
    "- the `import` keyword\n",
    "- the standard modules in Python\n",
    "- writing your own modules\n",
    "- Running scripts with command line input\n",
    "- easy_install and pip"
   ]
  },
  {
   "cell_type": "markdown",
   "metadata": {
    "slideshow": {
     "slide_type": "slide"
    }
   },
   "source": [
    "# Standard Output\n",
    "\n",
    "The last few sessions have seen us printing to the screen like maniacs. \n",
    "\n",
    "We have printed variables, literals and a few different types.\n",
    "```python\n",
    "print(\"hello\")\n",
    "name = \"Chris\"\n",
    "print(name)\n",
    "```\n",
    "When I introduced strings, we saw there are a few different ways to write them, the same is true for formatting a string."
   ]
  },
  {
   "cell_type": "markdown",
   "metadata": {
    "slideshow": {
     "slide_type": "subslide"
    }
   },
   "source": [
    "Just printing a variable to the screen is a terrible idea, especially if you are using print statements to debug your code"
   ]
  },
  {
   "cell_type": "code",
   "execution_count": 2,
   "metadata": {
    "collapsed": false,
    "slideshow": {
     "slide_type": "fragment"
    }
   },
   "outputs": [
    {
     "name": "stdout",
     "output_type": "stream",
     "text": [
      "bob\n",
      "bob\n",
      "bobbobbobbobbobbobbobbobbobbob\n"
     ]
    }
   ],
   "source": [
    "name = \"bob\"\n",
    "print(name)\n",
    "name * 5\n",
    "print(name)\n",
    "print(name * 10) #This output is kinda useless, right?"
   ]
  },
  {
   "cell_type": "code",
   "execution_count": 3,
   "metadata": {
    "collapsed": false,
    "slideshow": {
     "slide_type": "subslide"
    }
   },
   "outputs": [
    {
     "name": "stdout",
     "output_type": "stream",
     "text": [
      "Name is equal to bob\n",
      "Name has been multiplied by 5 and is now equal to bobbobbobbobbob\n"
     ]
    }
   ],
   "source": [
    "name = \"bob\"\n",
    "print(\"Name is equal to \" + name)\n",
    "name *= 5\n",
    "print(\"Name has been multiplied by 5 and is now equal to \" + name) #slightly more informative"
   ]
  },
  {
   "cell_type": "markdown",
   "metadata": {
    "slideshow": {
     "slide_type": "fragment"
    }
   },
   "source": [
    "A bit of a contrived example but you can see how this is useful\n",
    "\n",
    "### Exercise\n",
    "\n",
    "Try writing the above example with a variable with the value `11` \n",
    "\n",
    "What happens?"
   ]
  },
  {
   "cell_type": "markdown",
   "metadata": {
    "slideshow": {
     "slide_type": "slide"
    }
   },
   "source": [
    "# Functions\n",
    "\n",
    "We have seen these a lot in the course so far. \n",
    "\n",
    "Every time you `print` something or want to find out the `type` of a variable, these are all functions built into the standard library in Python."
   ]
  },
  {
   "cell_type": "markdown",
   "metadata": {
    "slideshow": {
     "slide_type": "slide"
    }
   },
   "source": [
    "# Writing Your Own Function:\n",
    "\n",
    "```python\n",
    "def method_name(argument0, argument1):\n",
    "    variable_inside_method = \"I am indented, so I am part of the function\"\n",
    "    return variable_inside_method\n",
    "```\n",
    "\n",
    "- `def` is the keyword used to define the start of a declaration\n",
    "- the name follows it and make sure it conforms to what the method does\n",
    "- the arguments of the method go inside the brackets\n",
    "- **NOTE THE COLON AT THE END OF THE LINE!!**\n",
    "- **ALL** code that is part of the method needs to be indented\n",
    "- Once a method has run, we can `return` a value, but we do not have to!"
   ]
  },
  {
   "cell_type": "code",
   "execution_count": 4,
   "metadata": {
    "collapsed": false,
    "slideshow": {
     "slide_type": "subslide"
    }
   },
   "outputs": [
    {
     "name": "stdout",
     "output_type": "stream",
     "text": [
      "42\n"
     ]
    }
   ],
   "source": [
    "def return_a_sum(arg0, arg1):\n",
    "    return arg0 + arg1\n",
    "\n",
    "\n",
    "returned_variable = return_a_sum(40, 2) #call the function here and return something\n",
    "print(returned_variable)"
   ]
  },
  {
   "cell_type": "markdown",
   "metadata": {
    "slideshow": {
     "slide_type": "slide"
    }
   },
   "source": [
    "# Methods\n",
    "\n",
    "Methods are functions that are attached to objects. While we call a function like this:\n",
    "\n",
    "`function(argument1, argument2)`\n",
    "\n",
    "Methods are called like this:\n",
    "\n",
    "`object.method(argument1, argument2)`\n",
    "\n",
    "Objects in Python have methods attached to them that you can use. Let's learn about methods attached to strings!"
   ]
  },
  {
   "cell_type": "markdown",
   "metadata": {
    "slideshow": {
     "slide_type": "slide"
    }
   },
   "source": [
    "# String Formatting\n",
    "\n",
    "Creating a string like this:\n",
    "\n",
    "```python\n",
    "bit_to_add = \"something else\"\n",
    "my_string = \"something something \" + bit_to_add + \" blah blah blah\"\n",
    "```\n",
    "\n",
    "This is the more basic way of handling strings and it means we have to deal with different types (that we will cover later in the session)"
   ]
  },
  {
   "cell_type": "markdown",
   "metadata": {
    "slideshow": {
     "slide_type": "slide"
    }
   },
   "source": [
    "# `.format`\n",
    "\n",
    "Python now has support to do something commonly known as string formatting.\n",
    "\n",
    "Format is a method (we will learn about these as a concept later) built into the `string` type that allows you to specify what it contains."
   ]
  },
  {
   "cell_type": "code",
   "execution_count": 5,
   "metadata": {
    "collapsed": false,
    "slideshow": {
     "slide_type": "fragment"
    }
   },
   "outputs": [
    {
     "name": "stdout",
     "output_type": "stream",
     "text": [
      "My name is Fred\n",
      "My name is 4\n",
      "My name is True\n"
     ]
    }
   ],
   "source": [
    "print(\"My name is {0}\".format('Fred'))\n",
    "print(\"My name is {0}\".format(4))\n",
    "print(\"My name is {0}\".format(True)) # format does not care about types"
   ]
  },
  {
   "cell_type": "markdown",
   "metadata": {
    "collapsed": true,
    "slideshow": {
     "slide_type": "slide"
    }
   },
   "source": [
    "# Zero-Index\n",
    "\n",
    "The 0 in the curly braces refers to the number of arguments for the format method. How many arguments do you see in the format method?\n",
    "\n"
   ]
  },
  {
   "cell_type": "markdown",
   "metadata": {
    "collapsed": true,
    "slideshow": {
     "slide_type": "fragment"
    }
   },
   "source": [
    "Many languages start at a zero index, this means that when you have 10 elements, their `index` ranges from 0 to 9. (We will see this in more detail when we come to `lists` in Python)"
   ]
  },
  {
   "cell_type": "code",
   "execution_count": 6,
   "metadata": {
    "collapsed": false,
    "slideshow": {
     "slide_type": "fragment"
    }
   },
   "outputs": [
    {
     "ename": "SyntaxError",
     "evalue": "invalid syntax (<ipython-input-6-a318fd360251>, line 1)",
     "output_type": "error",
     "traceback": [
      "\u001b[0;36m  File \u001b[0;32m\"<ipython-input-6-a318fd360251>\"\u001b[0;36m, line \u001b[0;32m1\u001b[0m\n\u001b[0;31m    ```python\u001b[0m\n\u001b[0m    ^\u001b[0m\n\u001b[0;31mSyntaxError\u001b[0m\u001b[0;31m:\u001b[0m invalid syntax\n"
     ]
    }
   ],
   "source": [
    "```python\n",
    "INDEX:    0 | 1 | 2 | 3 | 4 | 5 | 6 | 7 | 8 | 9 | \n",
    "ELEMENT: \"a\"|\"b\"|\"c\"|\"d\"|\"e\"|\"f\"|\"g\"|\"h\"|\"i\"|\"j\"|\n",
    "```"
   ]
  },
  {
   "cell_type": "markdown",
   "metadata": {
    "collapsed": true,
    "slideshow": {
     "slide_type": "subslide"
    }
   },
   "source": [
    "### Exercise\n",
    "\n",
    "`\"Never {0} give you {1}, Never {2} let you {3}\".format(\"gonna\", \"up\", \"gonna\", \"down\")`\n",
    "\n",
    "- How many arguments are in the formatted string method above?\n",
    "- What is the index of the last argument?\n",
    "- Do you think this could be written better?"
   ]
  },
  {
   "cell_type": "code",
   "execution_count": null,
   "metadata": {
    "collapsed": true,
    "slideshow": {
     "slide_type": "fragment"
    }
   },
   "outputs": [],
   "source": [
    "`\"Never {0} give you {1}, Never {0} let you {2}\".format(\"gonna\", \"up\", \"down\")`\n",
    "\n",
    "We can reuse arguments by referring to their index here!"
   ]
  },
  {
   "cell_type": "markdown",
   "metadata": {
    "collapsed": true,
    "slideshow": {
     "slide_type": "subslide"
    }
   },
   "source": [
    "### Exercise\n",
    "\n",
    "Given the following string and arguments, complete the format method so they match the famous MeatLoaf song. \n",
    "\n",
    "Note: You do not have to use all of the arguments!\n",
    "\n",
    "- `I would {0} {1} for {2} but I won't {0} {3}`     - `food`\n",
    "- `climb`                                           - `love`\n",
    "- `swim`                                            - `drive`\n",
    "- `Everest`                                         - `that`\n",
    "- `do`                                              - `sleep`\n",
    "- `kill`                                            - `truck`\n",
    "- `something`                                       - `sausage`\n",
    "- `eat`\n",
    "- `anything`"
   ]
  },
  {
   "cell_type": "markdown",
   "metadata": {
    "collapsed": true,
    "slideshow": {
     "slide_type": "slide"
    }
   },
   "source": [
    "# Methods vs Functions\n",
    "\n",
    "We have introduced both methods and functions so far, and we will cover them in more detail as the course progresses, but what is the difference?\n",
    "\n",
    "Functions are blocks of code to perform some operations and provide an output\n",
    "\n",
    "Methods are attached to objects\n"
   ]
  },
  {
   "cell_type": "markdown",
   "metadata": {
    "slideshow": {
     "slide_type": "subslide"
    }
   },
   "source": [
    "### Exercise\n",
    "\n",
    "Which of the calls below are methods or functions? Write what each of these methods does in one line."
   ]
  },
  {
   "cell_type": "code",
   "execution_count": null,
   "metadata": {
    "collapsed": true,
    "slideshow": {
     "slide_type": "fragment"
    }
   },
   "outputs": [],
   "source": [
    "my_string = \"Super Cool Words\"\n",
    "print(len(my_string))\n",
    "print(\"super cool {0}\".format(\"words\"))\n",
    "print(my_string.lower())\n",
    "print(type(my_string))\n",
    "print(my_string.upper())\n",
    "print(int(my_string))"
   ]
  },
  {
   "cell_type": "markdown",
   "metadata": {
    "collapsed": true,
    "slideshow": {
     "slide_type": "fragment"
    }
   },
   "source": [
    "- function\n",
    "- method\n",
    "- method\n",
    "- function\n",
    "- method\n",
    "- function"
   ]
  },
  {
   "cell_type": "markdown",
   "metadata": {
    "slideshow": {
     "slide_type": "slide"
    }
   },
   "source": [
    "# The Input Function\n",
    "\n",
    "We can output information using the `print` function, but what if we want the user to put in some information? This is where we use the `input` function."
   ]
  },
  {
   "cell_type": "code",
   "execution_count": null,
   "metadata": {
    "collapsed": false,
    "slideshow": {
     "slide_type": "fragment"
    }
   },
   "outputs": [],
   "source": [
    "print(\"Enter your name here: \")\n",
    "name = input()\n",
    "print(\"Hello {0}\".format(name))\n",
    "print(\"Enter your year of birth here:\")\n",
    "yob = input()\n",
    "print(2016-yob) #what happens here?"
   ]
  },
  {
   "cell_type": "markdown",
   "metadata": {
    "collapsed": true,
    "slideshow": {
     "slide_type": "slide"
    }
   },
   "source": [
    "# Casting Types\n",
    "\n",
    "We can instantiate a variable to be of a particular type, and we can change the type by changing the value assigned, like so:"
   ]
  },
  {
   "cell_type": "code",
   "execution_count": null,
   "metadata": {
    "collapsed": true,
    "slideshow": {
     "slide_type": "fragment"
    }
   },
   "outputs": [],
   "source": [
    "pet_name = \"Mr. Woofington\"\n",
    "print(pet_name)\n",
    "pet_name = 14055\n",
    "print(pet_name) #Why is this?"
   ]
  },
  {
   "cell_type": "markdown",
   "metadata": {
    "collapsed": true,
    "slideshow": {
     "slide_type": "subslide"
    }
   },
   "source": [
    "## Checking types \n",
    "\n",
    "We can use the built in `type` function to check what type a value is:"
   ]
  },
  {
   "cell_type": "code",
   "execution_count": null,
   "metadata": {
    "collapsed": true,
    "slideshow": {
     "slide_type": "fragment"
    }
   },
   "outputs": [],
   "source": [
    "print(type(1))\n",
    "print(type(\"what am I?\"))\n",
    "print(type(True))"
   ]
  },
  {
   "cell_type": "markdown",
   "metadata": {
    "collapsed": true,
    "slideshow": {
     "slide_type": "subslide"
    }
   },
   "source": [
    "## Casting Types\n",
    "\n",
    "Using built in functions, we can convert values from one type to another."
   ]
  },
  {
   "cell_type": "code",
   "execution_count": null,
   "metadata": {
    "collapsed": true,
    "slideshow": {
     "slide_type": "fragment"
    }
   },
   "outputs": [],
   "source": [
    "print(str(1)) #convert int to string\n",
    "print(int(True)) #bool to int\n",
    "print(int(\"12\")) #string to int"
   ]
  },
  {
   "cell_type": "markdown",
   "metadata": {
    "collapsed": true,
    "slideshow": {
     "slide_type": "subslide"
    }
   },
   "source": [
    "### Exercise\n",
    "\n",
    "Write a script that:\n",
    "\n",
    "- Prints out a request for the user's name, favourite movie and IMDb rating\n",
    "- Cast the rating to an int and turn it into a percentage\n",
    "- Print a formatted string that tells the user what their percentage is \n",
    "- If the rating is more than 70%: print out 'We have a winner'\n",
    "- If it is between 50 and 70: print out 'Not bad'\n",
    "- If it is between 30 and 50: print out 'Not a hit'\n",
    "- If it less than 30: print out 'Rotten tomato'"
   ]
  },
  {
   "cell_type": "markdown",
   "metadata": {
    "slideshow": {
     "slide_type": "subslide"
    }
   },
   "source": [
    "### Exercise\n",
    "\n",
    "- Write a function that takes a string as an input and returns the string in all upper case\n",
    "- Call the function with different strings and print the result\n",
    "- What happens when you pass an integer as the argument?\n",
    "- Modify the function so it can handle arguments of different types"
   ]
  },
  {
   "cell_type": "markdown",
   "metadata": {
    "slideshow": {
     "slide_type": "slide"
    }
   },
   "source": [
    "# Scope\n",
    "\n",
    "Scope defines where we are in our program and what variables/functions/objects etc we have access to. \n",
    "\n",
    "This gives us `local` and `global` scope.\n",
    "\n",
    "- `global` means it can be accessed from anywehre\n",
    "- `local` means it can only be accessed from within the scope it was created in"
   ]
  },
  {
   "cell_type": "code",
   "execution_count": null,
   "metadata": {
    "collapsed": false,
    "slideshow": {
     "slide_type": "subslide"
    }
   },
   "outputs": [],
   "source": [
    "global_var = \"I am a global variable\"\n",
    "\n",
    "def a_function():\n",
    "    global global_var\n",
    "    local_var = \"I am local\"\n",
    "    print(local_var)\n",
    "    \n",
    "a_function()\n",
    "print(global_var)\n",
    "print(local_var) # What happens here?"
   ]
  },
  {
   "cell_type": "markdown",
   "metadata": {
    "slideshow": {
     "slide_type": "subslide"
    }
   },
   "source": [
    "# Scope\n",
    "\n",
    "`local_var` was created within the scope of `a_function` and was not in the global scope, so it could not be printed."
   ]
  },
  {
   "cell_type": "markdown",
   "metadata": {
    "slideshow": {
     "slide_type": "fragment"
    }
   },
   "source": [
    "### Exercise\n",
    "\n",
    "- Write a function that delcares a variable within it\n",
    "- Return the variable from the function and assign it to a global variable\n",
    "- Print the global variable\n",
    "\n",
    "Now you have changed the scope of a variable from local to global"
   ]
  },
  {
   "cell_type": "code",
   "execution_count": null,
   "metadata": {
    "collapsed": false,
    "slideshow": {
     "slide_type": "skip"
    }
   },
   "outputs": [],
   "source": [
    "def func():\n",
    "    local = \"I am local\"\n",
    "    return(local)\n",
    "global_var = func()\n",
    "print(global_var)"
   ]
  },
  {
   "cell_type": "code",
   "execution_count": null,
   "metadata": {
    "collapsed": false,
    "slideshow": {
     "slide_type": "subslide"
    }
   },
   "outputs": [],
   "source": [
    "age = 200\n",
    "\n",
    "def change_age():\n",
    "    age = \"test\"\n",
    "print(age)\n",
    "change_age()\n",
    "print(age) #What should this equal?"
   ]
  },
  {
   "cell_type": "markdown",
   "metadata": {
    "slideshow": {
     "slide_type": "subslide"
    }
   },
   "source": [
    "# Scope\n",
    "\n",
    "This is a practical example of local scope vesus global scope. `age` is a global variable that has the value: 200.\n",
    "\n",
    "Within the `change_age` function, a **new** variable, also called `age`, is created that is only within the `local` scope.\n",
    "\n",
    "How do we access the global variable  within a function?"
   ]
  },
  {
   "cell_type": "code",
   "execution_count": null,
   "metadata": {
    "collapsed": false,
    "slideshow": {
     "slide_type": "subslide"
    }
   },
   "outputs": [],
   "source": [
    "age = 200\n",
    "\n",
    "def change_age():\n",
    "    global age\n",
    "    age = \"test\"\n",
    "    \n",
    "print(age)\n",
    "change_age()\n",
    "print(age)"
   ]
  },
  {
   "cell_type": "markdown",
   "metadata": {
    "slideshow": {
     "slide_type": "slide"
    }
   },
   "source": [
    "# `global`\n",
    "\n",
    "The `global` keyword allows you to use variables in the global scope inside the scope of a function. `global` is an excellent way to showcase scope.\n",
    "\n",
    "Note: This is a feature that is primarily unique to Python (and PHP)"
   ]
  },
  {
   "cell_type": "markdown",
   "metadata": {
    "slideshow": {
     "slide_type": "subslide"
    }
   },
   "source": [
    "# Another Example"
   ]
  },
  {
   "cell_type": "code",
   "execution_count": 7,
   "metadata": {
    "collapsed": false,
    "slideshow": {
     "slide_type": "fragment"
    }
   },
   "outputs": [
    {
     "ename": "NameError",
     "evalue": "name 'g_var' is not defined",
     "output_type": "error",
     "traceback": [
      "\u001b[0;31m---------------------------------------------------------------------------\u001b[0m",
      "\u001b[0;31mNameError\u001b[0m                                 Traceback (most recent call last)",
      "\u001b[0;32m<ipython-input-7-eebb57f69b25>\u001b[0m in \u001b[0;36m<module>\u001b[0;34m()\u001b[0m\n\u001b[1;32m      3\u001b[0m \u001b[1;33m\u001b[0m\u001b[0m\n\u001b[1;32m      4\u001b[0m \u001b[0mfunction_to_do_stuff\u001b[0m\u001b[1;33m(\u001b[0m\u001b[1;33m)\u001b[0m\u001b[1;33m\u001b[0m\u001b[0m\n\u001b[0;32m----> 5\u001b[0;31m \u001b[0mprint\u001b[0m\u001b[1;33m(\u001b[0m\u001b[0mg_var\u001b[0m\u001b[1;33m)\u001b[0m\u001b[1;33m\u001b[0m\u001b[0m\n\u001b[0m",
      "\u001b[0;31mNameError\u001b[0m: name 'g_var' is not defined"
     ]
    }
   ],
   "source": [
    "def function_to_do_stuff():\n",
    "    g_var = \"Hello\"\n",
    "    \n",
    "function_to_do_stuff()\n",
    "print(g_var)"
   ]
  },
  {
   "cell_type": "code",
   "execution_count": 8,
   "metadata": {
    "collapsed": false,
    "slideshow": {
     "slide_type": "fragment"
    }
   },
   "outputs": [
    {
     "name": "stdout",
     "output_type": "stream",
     "text": [
      "Hello\n"
     ]
    }
   ],
   "source": [
    "def function_to_do_stuff():\n",
    "    global g_var # makes new variable available in global scope\n",
    "    g_var = \"Hello\"\n",
    "    \n",
    "function_to_do_stuff()\n",
    "print(g_var)"
   ]
  },
  {
   "cell_type": "markdown",
   "metadata": {
    "slideshow": {
     "slide_type": "slide"
    }
   },
   "source": [
    "# Homework\n",
    "\n",
    "Complete the `4_Homework` exercise"
   ]
  }
 ],
 "metadata": {
  "celltoolbar": "Slideshow",
  "kernelspec": {
   "display_name": "Python 3",
   "language": "python",
   "name": "python3"
  },
  "language_info": {
   "codemirror_mode": {
    "name": "ipython",
    "version": 3
   },
   "file_extension": ".py",
   "mimetype": "text/x-python",
   "name": "python",
   "nbconvert_exporter": "python",
   "pygments_lexer": "ipython3",
   "version": "3.5.2"
  },
  "nav_menu": {},
  "toc": {
   "navigate_menu": true,
   "number_sections": true,
   "sideBar": true,
   "threshold": 6,
   "toc_cell": false,
   "toc_section_display": "block",
   "toc_window_display": true
  },
  "toc_position": {
   "height": "1302px",
   "left": "0px",
   "right": "1354px",
   "top": "34px",
   "width": "212px"
  }
 },
 "nbformat": 4,
 "nbformat_minor": 0
}
