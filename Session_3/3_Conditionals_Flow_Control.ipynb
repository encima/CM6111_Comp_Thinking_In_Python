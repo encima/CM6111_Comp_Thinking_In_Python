{
 "cells": [
  {
   "cell_type": "markdown",
   "metadata": {
    "slideshow": {
     "slide_type": "slide"
    }
   },
   "source": [
    "# Conditionals and Flow Control\n",
    "\n",
    "## Dr. Chris Gwilliams\n",
    "\n",
    "## gwilliamsc@cardiff.ac.uk"
   ]
  },
  {
   "cell_type": "markdown",
   "metadata": {
    "slideshow": {
     "slide_type": "slide"
    }
   },
   "source": [
    "# Overview\n",
    "\n",
    "- Conditionals\n",
    "- Comparison Operators\n",
    "    - Less than\n",
    "    - More than\n",
    "    - Equality\n",
    "    - `is` and `is not`\n",
    "- Combining statememnts\n",
    "- If statements\n",
    "- Else if"
   ]
  },
  {
   "cell_type": "markdown",
   "metadata": {
    "slideshow": {
     "slide_type": "slide"
    }
   },
   "source": [
    "# Comparison Operators\n",
    "\n",
    "Remember (`*`, `/` and `+`)?\n",
    "\n",
    "These are not the only operators you can use on types. Ever heard of carets?"
   ]
  },
  {
   "cell_type": "markdown",
   "metadata": {
    "slideshow": {
     "slide_type": "fragment"
    }
   },
   "source": [
    "## Less Than (<)\n",
    "\n",
    "Try typing `3<10` in the interpreter\n",
    "\n",
    "and now `10<3`. What type is the result?"
   ]
  },
  {
   "cell_type": "markdown",
   "metadata": {
    "slideshow": {
     "slide_type": "fragment"
    }
   },
   "source": [
    "## Greater Than (>)\n",
    "\n",
    "Guess what this one does?"
   ]
  },
  {
   "cell_type": "markdown",
   "metadata": {
    "slideshow": {
     "slide_type": "slide"
    }
   },
   "source": [
    "# Equality Operators\n",
    "\n",
    "`pints = 3`\n",
    "\n",
    "One equals is for assigning a name to a literal.\n",
    "\n",
    "Two equals checks if two variables (or literals) are equal."
   ]
  },
  {
   "cell_type": "code",
   "execution_count": 9,
   "metadata": {
    "collapsed": false,
    "slideshow": {
     "slide_type": "fragment"
    }
   },
   "outputs": [
    {
     "name": "stdout",
     "output_type": "stream",
     "text": [
      "True\n",
      "False\n"
     ]
    }
   ],
   "source": [
    "name = \"Chris\"\n",
    "print(name == \"Chris\")\n",
    "print(2 == 5)"
   ]
  },
  {
   "cell_type": "markdown",
   "metadata": {
    "slideshow": {
     "slide_type": "slide"
    }
   },
   "source": [
    "# Comparison Operators\n",
    "\n",
    "We can combine equality operators with comparison operators. What benefit is this?"
   ]
  },
  {
   "cell_type": "markdown",
   "metadata": {
    "slideshow": {
     "slide_type": "fragment"
    }
   },
   "source": [
    "\n",
    "## Less Than or Equal To (<=)\n",
    "\n",
    "`2 <= 5`"
   ]
  },
  {
   "cell_type": "markdown",
   "metadata": {
    "slideshow": {
     "slide_type": "subslide"
    }
   },
   "source": [
    "## Greater Than or Equal To (>=)\n",
    "\n",
    "`2 >= 5`"
   ]
  },
  {
   "cell_type": "markdown",
   "metadata": {
    "slideshow": {
     "slide_type": "subslide"
    }
   },
   "source": [
    "### Exercise\n",
    "\n",
    "What operator(s) could I have used to get these results?\n",
    "\n",
    "```python\n",
    "2 ?? 5 #false\n",
    "\"a\" ?? \"b\" #True\n",
    "3.33 ?? 7 #False\n",
    "400 ?? 1000 #True\n",
    "1000 ?? 1000 #True\n",
    "```"
   ]
  },
  {
   "cell_type": "code",
   "execution_count": 10,
   "metadata": {
    "collapsed": false,
    "slideshow": {
     "slide_type": "skip"
    }
   },
   "outputs": [
    {
     "data": {
      "text/plain": [
       "True"
      ]
     },
     "execution_count": 10,
     "metadata": {},
     "output_type": "execute_result"
    }
   ],
   "source": [
    "2 > 5\n",
    "\"a\" < \"b\"\n",
    "3.33 > 7\n",
    "3.33 == 7\n",
    "3.33 >= 7\n",
    "400 <= 1000\n",
    "400 < 1000\n",
    "1000 == 1000\n",
    "1000 <= 1000\n",
    "1000 >= 1000"
   ]
  },
  {
   "cell_type": "markdown",
   "metadata": {
    "slideshow": {
     "slide_type": "fragment"
    }
   },
   "source": [
    "If you want to know more about comparing strings like this, then look at [this](http://en.wikipedia.org/wiki/Lexicographical_order)"
   ]
  },
  {
   "cell_type": "markdown",
   "metadata": {
    "slideshow": {
     "slide_type": "slide"
    }
   },
   "source": [
    "# Equality Operators\n",
    "\n",
    "So, how do we know when something is not equal?\n"
   ]
  },
  {
   "cell_type": "code",
   "execution_count": 11,
   "metadata": {
    "collapsed": false,
    "slideshow": {
     "slide_type": "fragment"
    }
   },
   "outputs": [
    {
     "name": "stdout",
     "output_type": "stream",
     "text": [
      "True\n"
     ]
    }
   ],
   "source": [
    "print(name != \"Bob\")"
   ]
  },
  {
   "cell_type": "markdown",
   "metadata": {
    "slideshow": {
     "slide_type": "slide"
    }
   },
   "source": [
    "# Is and Is not\n",
    "\n",
    "`==` and `!=` are not the only ways to check for equality."
   ]
  },
  {
   "cell_type": "code",
   "execution_count": 12,
   "metadata": {
    "collapsed": false,
    "slideshow": {
     "slide_type": "fragment"
    }
   },
   "outputs": [
    {
     "name": "stdout",
     "output_type": "stream",
     "text": [
      "True\n",
      "False\n"
     ]
    }
   ],
   "source": [
    "print(2 is 2)\n",
    "name = \"Chris\"\n",
    "print(name is not name)"
   ]
  },
  {
   "cell_type": "markdown",
   "metadata": {
    "slideshow": {
     "slide_type": "fragment"
    }
   },
   "source": [
    "What? I hear you ask, how is this any different to `==`?\n",
    "\n",
    "Hold your horses and let's find out."
   ]
  },
  {
   "cell_type": "markdown",
   "metadata": {
    "slideshow": {
     "slide_type": "slide"
    }
   },
   "source": [
    "# Identity vs Equality\n",
    "\n",
    "`==` is *equality comparison* (checking if two values are the same)\n",
    "\n",
    "`is` is *identity comparison* (checking if 2 objects are the same)"
   ]
  },
  {
   "cell_type": "code",
   "execution_count": 13,
   "metadata": {
    "collapsed": false,
    "slideshow": {
     "slide_type": "subslide"
    }
   },
   "outputs": [
    {
     "name": "stdout",
     "output_type": "stream",
     "text": [
      "True\n",
      "True\n"
     ]
    }
   ],
   "source": [
    "a = \"chris\"\n",
    "b = \"chris\"\n",
    "print(a is b) # identity (True)\n",
    "print(a == b) # equality (True)"
   ]
  },
  {
   "cell_type": "code",
   "execution_count": 14,
   "metadata": {
    "collapsed": false,
    "slideshow": {
     "slide_type": "fragment"
    }
   },
   "outputs": [
    {
     "name": "stdout",
     "output_type": "stream",
     "text": [
      "False\n",
      "True\n"
     ]
    }
   ],
   "source": [
    "a = [] # we will learn about these soon!\n",
    "b = []\n",
    "print(a is b) # identity (False)\n",
    "print(a == b) # equality (True)"
   ]
  },
  {
   "cell_type": "markdown",
   "metadata": {
    "slideshow": {
     "slide_type": "subslide"
    }
   },
   "source": [
    "These are both comparing the same thing? Why is one `True` and the other is `False`?\n",
    "\n",
    "Equality comparison is only concerned with the **value**\n",
    "\n",
    "Identity comparison is only concerned with the **object**. If 2 objects have the same value but are not stored in the same memory address then they are not equal. This can be explained further by..."
   ]
  },
  {
   "cell_type": "markdown",
   "metadata": {
    "slideshow": {
     "slide_type": "slide"
    }
   },
   "source": [
    "# Immutable vs Mutable\n",
    "\n",
    "What does this mean?"
   ]
  },
  {
   "cell_type": "markdown",
   "metadata": {
    "slideshow": {
     "slide_type": "fragment"
    }
   },
   "source": [
    "**Immutable** means that something *cannot* be changed after it is created\n",
    "\n",
    "**Mutable** means that something *can* be changed after it is created"
   ]
  },
  {
   "cell_type": "markdown",
   "metadata": {
    "slideshow": {
     "slide_type": "fragment"
    }
   },
   "source": [
    "### Exercise\n",
    "\n",
    "Give me 2 examples of immutable things\n",
    "\n",
    "Give me 2 examples of mutable things"
   ]
  },
  {
   "cell_type": "markdown",
   "metadata": {
    "slideshow": {
     "slide_type": "subslide"
    }
   },
   "source": [
    "# Immutable and Mutable in Python\n",
    "\n",
    "Strings are immutable in Python (and other languages).\n",
    "\n",
    "Mutable types are beneficial because you can make changes in place. \n",
    "\n",
    "WARNING: if you reference that mutable variable from another variable and make a change then **ALL** references change. We will come back to this"
   ]
  },
  {
   "cell_type": "code",
   "execution_count": 15,
   "metadata": {
    "collapsed": false,
    "slideshow": {
     "slide_type": "subslide"
    }
   },
   "outputs": [
    {
     "name": "stdout",
     "output_type": "stream",
     "text": [
      "fdjklhd\n",
      "fdjklhd\n",
      "fdjklhdueoureo\n",
      "[]\n",
      "[1]\n",
      "[1]\n"
     ]
    }
   ],
   "source": [
    "string_var = \"fdjklhd\" #immutable\n",
    "print(string_var) #fdjklhd\n",
    "s = string_var\n",
    "s += \"ueoureo\"\n",
    "print(string_var) #fdjklhd\n",
    "print(s) #fdjklhdueoureo\n",
    "\n",
    "list_var = [] # mutable and we are still learning about these later\n",
    "print(list_var) #[]\n",
    "l = list_var # l is a reference to list_var\n",
    "l.append(1) \n",
    "print(list_var) #[1]\n",
    "print(l) #[1]"
   ]
  },
  {
   "cell_type": "markdown",
   "metadata": {
    "slideshow": {
     "slide_type": "subslide"
    }
   },
   "source": []
  },
  {
   "cell_type": "markdown",
   "metadata": {
    "slideshow": {
     "slide_type": "slide"
    }
   },
   "source": [
    "# Combining Comparisons\n",
    "\n",
    "What if we want to know more than one thing about a value? What if I want to know if someone is more than 18 but also under 25?\n",
    "\n",
    "We could do this:"
   ]
  },
  {
   "cell_type": "code",
   "execution_count": 16,
   "metadata": {
    "collapsed": false,
    "slideshow": {
     "slide_type": "fragment"
    }
   },
   "outputs": [
    {
     "data": {
      "text/plain": [
       "False"
      ]
     },
     "execution_count": 16,
     "metadata": {},
     "output_type": "execute_result"
    }
   ],
   "source": [
    "age = 21\n",
    "age < 15\n",
    "age > 25"
   ]
  },
  {
   "cell_type": "markdown",
   "metadata": {
    "slideshow": {
     "slide_type": "fragment"
    }
   },
   "source": [
    "But there must be a better way! What do you think?"
   ]
  },
  {
   "cell_type": "markdown",
   "metadata": {
    "slideshow": {
     "slide_type": "slide"
    }
   },
   "source": [
    "# AND/OR\n",
    "\n",
    "There is a better way!\n",
    "\n",
    "```python\n",
    "age > 15 and age < 25 # only true if both are true\n",
    "age > 15 or age < 10 # true if either are true\n",
    "```\n",
    "\n",
    "The `and` keywords allow you to chain multiple conditionals together and react **only if all of them are true**\n",
    "\n",
    "OR\n",
    "\n",
    "We can use the `or` to allow multiple different scenarios."
   ]
  },
  {
   "cell_type": "markdown",
   "metadata": {
    "slideshow": {
     "slide_type": "slide"
    }
   },
   "source": [
    "### Exercise\n",
    "\n",
    "What is the output of these conditionals? Try it in your head first."
   ]
  },
  {
   "cell_type": "code",
   "execution_count": 1,
   "metadata": {
    "collapsed": false,
    "slideshow": {
     "slide_type": "subslide"
    }
   },
   "outputs": [
    {
     "name": "stdout",
     "output_type": "stream",
     "text": [
      "True\n",
      "False\n",
      "False\n",
      "True\n"
     ]
    }
   ],
   "source": [
    "make = \"Tesla\"\n",
    "capacity = 80000\n",
    "year = 2016\n",
    "zero_to_sixty = 3\n",
    "\n",
    "print(make == \"Tesla\" or make == \"tesla\")\n",
    "print(make == \"Tesla\" and make == \"tesla\")\n",
    "print(capacity < 80000 and capacity > 60000)\n",
    "print(capacity > 60000 or capactity < 100000 and year == 2014 or  year == 2016)"
   ]
  },
  {
   "cell_type": "markdown",
   "metadata": {
    "slideshow": {
     "slide_type": "slide"
    }
   },
   "source": [
    "# Chained Comparison\n",
    "\n",
    "So, we can write:\n",
    "\n",
    "```python\n",
    "age > 15 and age < 25\n",
    "```\n",
    "\n",
    "Can you think of a way this could be shorter?"
   ]
  },
  {
   "cell_type": "code",
   "execution_count": 18,
   "metadata": {
    "collapsed": false,
    "slideshow": {
     "slide_type": "fragment"
    }
   },
   "outputs": [
    {
     "data": {
      "text/plain": [
       "True"
      ]
     },
     "execution_count": 18,
     "metadata": {},
     "output_type": "execute_result"
    }
   ],
   "source": [
    "15 < age < 25"
   ]
  },
  {
   "cell_type": "markdown",
   "metadata": {
    "slideshow": {
     "slide_type": "slide"
    }
   },
   "source": [
    "# Conditionals\n",
    "\n",
    "What do you think a conditional is? Let's use these comparisons for good!"
   ]
  },
  {
   "cell_type": "markdown",
   "metadata": {
    "slideshow": {
     "slide_type": "fragment"
    }
   },
   "source": [
    "When we check if something is less than something else or for equality, just printing `True` or `False` is not always helpful. This is where conditionals come in. \n",
    "\n",
    "### If statements to the rescue!"
   ]
  },
  {
   "cell_type": "code",
   "execution_count": 19,
   "metadata": {
    "collapsed": false,
    "slideshow": {
     "slide_type": "subslide"
    }
   },
   "outputs": [
    {
     "name": "stdout",
     "output_type": "stream",
     "text": [
      "Good Lord, turn Netflix off\n",
      "I do not care how many hours you slept\n"
     ]
    }
   ],
   "source": [
    "no_hours_slept = 3\n",
    "if no_hours_slept < 5:\n",
    "    print(\"Good Lord, turn Netflix off\")\n",
    "print(\"This print statement does not care how many hours you slept\")"
   ]
  },
  {
   "cell_type": "markdown",
   "metadata": {
    "slideshow": {
     "slide_type": "fragment"
    }
   },
   "source": [
    "Take note of the structure\n",
    "- COLON `:` at the end of the if statement\n",
    "- indent (4 spaces) for code you want to run **only if the statement is true**\n",
    "- unindent to go back to the `normal` running\n",
    "\n",
    "### Exercise\n",
    "\n",
    "What are the benefits of if statements?\n",
    "\n",
    "What kind of control is this?\n",
    "\n",
    "Write an if statement that prints `hello` and the name  if the `name` variable is equal to `Winston Churchill`"
   ]
  },
  {
   "cell_type": "markdown",
   "metadata": {
    "slideshow": {
     "slide_type": "slide"
    }
   },
   "source": [
    "# Flow Control\n",
    "\n",
    "Python is interpreted. \n",
    "\n",
    "What we have written so far runs your code **line by line**. This is known as the `flow` of the program\n",
    "\n",
    "`If` statements will only run the block of code when the statement is true\n",
    "\n",
    "This `interrupts the flow` of the program"
   ]
  },
  {
   "cell_type": "code",
   "execution_count": 2,
   "metadata": {
    "collapsed": false,
    "slideshow": {
     "slide_type": "subslide"
    }
   },
   "outputs": [
    {
     "name": "stdout",
     "output_type": "stream",
     "text": [
      "My name is Homer\n",
      "I am 80\n",
      "I am over one hundred years old!\n"
     ]
    }
   ],
   "source": [
    "name = \"Homer\"\n",
    "age = 80\n",
    "\n",
    "print(\"My name is \" + name)\n",
    "print(\"I am %d\" % age)\n",
    "print(\"I am over one hundred years old!\") #is this true? With no flow control it will print anyway"
   ]
  },
  {
   "cell_type": "code",
   "execution_count": null,
   "metadata": {
    "collapsed": true,
    "slideshow": {
     "slide_type": "subslide"
    }
   },
   "outputs": [],
   "source": [
    "name = \"Homer\"\n",
    "age = 80\n",
    "\n",
    "print(\"My name is \" + name)\n",
    "print(\"I am \" + age)\n",
    "if age > 100:\n",
    "    print(\"I am over one hundred years old!\") #is this true? With no flow control it will print anyway\n",
    "    print(\"this will print if Homer is over 100, too\") #as long as you stay indented, this is all part of the if\n",
    "print(\"this will print regardless\")"
   ]
  },
  {
   "cell_type": "markdown",
   "metadata": {
    "slideshow": {
     "slide_type": "subslide"
    }
   },
   "source": [
    "### Exercise\n",
    "\n",
    "- Create a variable that holds the value `3`\n",
    "- print `EQUAL FOR ALL` if it is equal to 3 using equality comparison \n",
    "- print `IDENTITY FOR ALL` if it is equal to 3 using identity comparison\n",
    "- Check if the variable exists at all\n",
    "    - how many ways of doing that are there?\n",
    "- Create a variable that holds the value `10`\n",
    "- print `TEN AND THREE` if the first variable is equal to 3 AND the second is equal to 10\n",
    "    - how many ways could this be done?"
   ]
  },
  {
   "cell_type": "code",
   "execution_count": null,
   "metadata": {
    "collapsed": false,
    "slideshow": {
     "slide_type": "skip"
    }
   },
   "outputs": [],
   "source": [
    "first_var = 3\n",
    "if first_var == 3:\n",
    "    print(\"EQUAL FOR ALL\")\n",
    "if first_var is 3:\n",
    "    print(\"IDENTITY FOR ALL\")\n",
    "if first_var:\n",
    "    print(\"I AM REAL\")\n",
    "if first_var is not None:\n",
    "    print(\"I AM NOT NONE\")\n",
    "second_var = 10\n",
    "if first_var == 3 and second_var == 10:\n",
    "    print(\"TEN AND THREE\")"
   ]
  },
  {
   "cell_type": "markdown",
   "metadata": {
    "slideshow": {
     "slide_type": "slide"
    }
   },
   "source": [
    "# Else\n",
    "\n",
    "So, we can print when something is true, what about when it isn't?\n",
    "\n",
    "Consider the situation of a nightclub app. "
   ]
  },
  {
   "cell_type": "code",
   "execution_count": null,
   "metadata": {
    "collapsed": true,
    "slideshow": {
     "slide_type": "fragment"
    }
   },
   "outputs": [],
   "source": [
    "age = 12\n",
    "if age >= 18:\n",
    "    print \"come on in\""
   ]
  },
  {
   "cell_type": "markdown",
   "metadata": {
    "slideshow": {
     "slide_type": "fragment"
    }
   },
   "source": [
    "If the user is 18 or over then we print that they can come in. What about the users under 18? They get no output. How do we get around this?"
   ]
  },
  {
   "cell_type": "markdown",
   "metadata": {
    "slideshow": {
     "slide_type": "subslide"
    }
   },
   "source": [
    "# Else\n",
    "\n",
    "The `else` statement. This is the catch all statement for when the statement before is not true.\n",
    "\n",
    "You should **always** have one!"
   ]
  },
  {
   "cell_type": "code",
   "execution_count": null,
   "metadata": {
    "collapsed": true,
    "slideshow": {
     "slide_type": "fragment"
    }
   },
   "outputs": [],
   "source": [
    "age = 12\n",
    "if age >= 18:\n",
    "    print(\"come on in\")\n",
    "else:\n",
    "    print(\"I think this ID is fake\")"
   ]
  },
  {
   "cell_type": "markdown",
   "metadata": {
    "slideshow": {
     "slide_type": "fragment"
    }
   },
   "source": [
    "### Exercise\n",
    "\n",
    "Declare and instantiate variables to store a users details (name, height and year of birth)\n",
    "- Print the name \n",
    "- Print their height if they are under 7ft or print `Wow, just wow` if they are 7ft or over\n",
    "- Calculate their (approximate, you do not have the month) age from the year of birth\n",
    "- Print their age if they are 30 or over or print `YOUNGUN` if they are under 30\n",
    "\n"
   ]
  },
  {
   "cell_type": "code",
   "execution_count": null,
   "metadata": {
    "collapsed": false,
    "slideshow": {
     "slide_type": "skip"
    }
   },
   "outputs": [],
   "source": [
    "name = \"Jill\"\n",
    "height = 8\n",
    "yob = 1990\n",
    "year = 2016\n",
    "print(name)\n",
    "if height < 7:\n",
    "    print(height)\n",
    "else:\n",
    "    print(\"WOW, JUST WOW\")\n",
    "age = year - yob\n",
    "if age >= 30:\n",
    "    print(age)\n",
    "else:\n",
    "    print(\"YOUNGUN\")"
   ]
  },
  {
   "cell_type": "markdown",
   "metadata": {
    "slideshow": {
     "slide_type": "slide"
    }
   },
   "source": [
    "# Elif\n",
    "\n",
    "Any guesses as to what this stands for? How would you use it?\n",
    "\n",
    "Look at the code below, where is the error?"
   ]
  },
  {
   "cell_type": "code",
   "execution_count": null,
   "metadata": {
    "collapsed": false,
    "slideshow": {
     "slide_type": "fragment"
    }
   },
   "outputs": [],
   "source": [
    "age = 800\n",
    "if age < 13:\n",
    "    print(\"Child\")\n",
    "elif age > 13 and age < 20:\n",
    "    print(\"Teenager\")\n",
    "elif age >= 21 and age < 140:\n",
    "    print(\"Adult\")\n",
    "else:\n",
    "    print(\"HOW HAVE YOU CHEATED DEATH?\")\n",
    "    print(\"YOU ARE A MACHINE\")"
   ]
  },
  {
   "cell_type": "markdown",
   "metadata": {
    "slideshow": {
     "slide_type": "subslide"
    }
   },
   "source": [
    "# Elif (else if)\n",
    "\n",
    "We can use this to check multiple statements if something is in a range of options (age is a good example).\n",
    "\n",
    "Else then serves as our `default` state, the block of code that will\n",
    "\n"
   ]
  },
  {
   "cell_type": "markdown",
   "metadata": {},
   "source": [
    "### Exercise\n",
    "\n",
    "Create a variable to store a pet type and write an `if/else if/else` statement that prints:\n",
    "- `four legged friend` if the pet is a dog or cat\n",
    "- `reptilian rapport` if the pet is a lizard or dragon\n",
    "- `aquatic amigo` if the pet is a fish\n",
    "- `forever alone` in any other situation"
   ]
  },
  {
   "cell_type": "code",
   "execution_count": null,
   "metadata": {
    "collapsed": false,
    "slideshow": {
     "slide_type": "notes"
    }
   },
   "outputs": [],
   "source": [
    "pet = \"cat\"\n",
    "if pet == \"fish\":\n",
    "    print(\"Aquatic amigo\")\n",
    "elif pet == \"cat\" or pet == \"dog\":\n",
    "    print(\"four legged friend\")\n",
    "elif pet == \"lizard\" or pet == \"dragon\":\n",
    "    print(\"reptilian rapport\")\n",
    "else:\n",
    "    print(\"forever alone\")"
   ]
  },
  {
   "cell_type": "markdown",
   "metadata": {
    "slideshow": {
     "slide_type": "slide"
    }
   },
   "source": [
    "# Precedence \n",
    "\n",
    "When you see if statements in most other languages you are probably used to seeing this:\n",
    "\n",
    "`if(x < 3)`\n",
    "\n",
    "Python does care about brackets but not in the same way."
   ]
  },
  {
   "cell_type": "markdown",
   "metadata": {
    "slideshow": {
     "slide_type": "fragment"
    }
   },
   "source": [
    "`if(x > 10):`\n",
    "\n",
    "is the same as\n",
    "\n",
    "`if x > 10:`\n",
    "\n",
    "Then what are brackets for?"
   ]
  },
  {
   "cell_type": "markdown",
   "metadata": {
    "slideshow": {
     "slide_type": "fragment"
    }
   },
   "source": [
    "Precedence, or `order of evalutation`, is exactly the same as BODMAS (Brackets, Order, Division, Multiplication, Addition and Subtraction) from GCSE Maths."
   ]
  },
  {
   "cell_type": "code",
   "execution_count": null,
   "metadata": {
    "collapsed": true,
    "slideshow": {
     "slide_type": "fragment"
    }
   },
   "outputs": [],
   "source": [
    "print(5 + 6 * 9)\n",
    "print((5 + 6) * 9) #see how the brackets change the order? This applies to if statements as well"
   ]
  },
  {
   "cell_type": "markdown",
   "metadata": {
    "slideshow": {
     "slide_type": "subslide"
    }
   },
   "source": [
    "### Exercise\n",
    "\n",
    "Add in brackets to make these statements give the answer printed:\n",
    "\n",
    "- 4 * 5 / 2 - 1 (Answer: 20)\n",
    "- 5 + 6 / 2 * 8 (Answer: 0.6875)\n",
    "- 4 /1 * 2 + 1 (Answer: 1.333333)"
   ]
  },
  {
   "cell_type": "code",
   "execution_count": null,
   "metadata": {
    "collapsed": true,
    "slideshow": {
     "slide_type": "skip"
    }
   },
   "outputs": [],
   "source": [
    "4 * (5 / (2 - 1))\n",
    "(5 + 6) / (2 * 8)\n",
    "4 / ((1 * 2) + 1)"
   ]
  },
  {
   "cell_type": "markdown",
   "metadata": {
    "slideshow": {
     "slide_type": "slide"
    }
   },
   "source": [
    "# Precedence\n",
    "\n",
    "Precedence is crucial when you are considering how your operations are going to be executed. Not only can it affect whether an if statement runs, it can actually the affect the output. As a final take home, consider this example:\n"
   ]
  },
  {
   "cell_type": "code",
   "execution_count": 4,
   "metadata": {
    "collapsed": false,
    "slideshow": {
     "slide_type": "fragment"
    }
   },
   "outputs": [
    {
     "name": "stdout",
     "output_type": "stream",
     "text": [
      "False\n",
      "2\n"
     ]
    }
   ],
   "source": [
    "print(1 + 1 == 1)\n",
    "print(1 + (1 == 1)) #Why does this output what it does?"
   ]
  },
  {
   "cell_type": "markdown",
   "metadata": {
    "slideshow": {
     "slide_type": "fragment"
    }
   },
   "source": [
    "This is because adding boolean and integers adds the integer equiavalent of the boolean variable, which makes `True` equal to 1."
   ]
  }
 ],
 "metadata": {
  "celltoolbar": "Slideshow",
  "kernelspec": {
   "display_name": "Python 2",
   "language": "python",
   "name": "python2"
  },
  "language_info": {
   "codemirror_mode": {
    "name": "ipython",
    "version": 2
   },
   "file_extension": ".py",
   "mimetype": "text/x-python",
   "name": "python",
   "nbconvert_exporter": "python",
   "pygments_lexer": "ipython2",
   "version": "2.7.12"
  },
  "latex_envs": {
   "bibliofile": "biblio.bib",
   "cite_by": "apalike",
   "current_citInitial": 1,
   "eqLabelWithNumbers": true,
   "eqNumInitial": 0
  },
  "nav_menu": {},
  "toc": {
   "navigate_menu": true,
   "number_sections": true,
   "sideBar": true,
   "threshold": 6,
   "toc_cell": false,
   "toc_section_display": "block",
   "toc_window_display": false
  }
 },
 "nbformat": 4,
 "nbformat_minor": 0
}
