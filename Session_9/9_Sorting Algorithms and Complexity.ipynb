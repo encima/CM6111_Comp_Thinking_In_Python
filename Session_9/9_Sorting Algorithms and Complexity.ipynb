{
 "cells": [
  {
   "cell_type": "code",
   "execution_count": 1,
   "metadata": {
    "collapsed": false,
    "slideshow": {
     "slide_type": "skip"
    }
   },
   "outputs": [
    {
     "data": {
      "text/plain": [
       "{'start_slideshow_at': 'selected', 'theme': 'solarized', 'transition': 'zoom'}"
      ]
     },
     "execution_count": 1,
     "metadata": {},
     "output_type": "execute_result"
    }
   ],
   "source": [
    "from notebook.services.config import ConfigManager\n",
    "from IPython.paths import locate_profile\n",
    "cm = ConfigManager(profile_dir=locate_profile(get_ipython().profile))\n",
    "cm.update('livereveal', {\n",
    "              'theme': 'solarized',\n",
    "              'transition': 'zoom',\n",
    "              'start_slideshow_at': 'selected',\n",
    "})"
   ]
  },
  {
   "cell_type": "markdown",
   "metadata": {
    "collapsed": true,
    "slideshow": {
     "slide_type": "slide"
    }
   },
   "source": [
    "# Sorting Algorithms and Complexity\n",
    "\n",
    "## Dr. Chris Gwilliams\n",
    "\n",
    "### gwilliamsc@cardiff.ac.uk"
   ]
  },
  {
   "cell_type": "markdown",
   "metadata": {
    "slideshow": {
     "slide_type": "slide"
    }
   },
   "source": [
    "# Overview\n",
    "\n",
    "We have covered:\n",
    "* Iteration\n",
    "* Recursion\n",
    "* Functions \n",
    "* Sorting Algorithms \n",
    "    * Bubble Sort\n",
    "    * Insertion Sort"
   ]
  },
  {
   "cell_type": "markdown",
   "metadata": {
    "slideshow": {
     "slide_type": "slide"
    }
   },
   "source": [
    "# Insertion Sort\n",
    "\n",
    "1. Start at the second element and loop until the final\n",
    "2. Compare index with value before, move it if it is greater\n",
    "3. If j is greater than the first index, keep going until we hit the first index\n",
    "4. Move i along and repeat 1-3"
   ]
  },
  {
   "cell_type": "markdown",
   "metadata": {
    "slideshow": {
     "slide_type": "slide"
    }
   },
   "source": [
    "# Example\n",
    "\n",
    "![insert](img/ins_sort.gif)"
   ]
  },
  {
   "cell_type": "code",
   "execution_count": 7,
   "metadata": {
    "collapsed": false,
    "slideshow": {
     "slide_type": "slide"
    }
   },
   "outputs": [
    {
     "name": "stdout",
     "output_type": "stream",
     "text": [
      "[1, 3, 5, 6, 8, 9]\n"
     ]
    }
   ],
   "source": [
    "def ins_sort(k):\n",
    "    for i in range(1,len(k)):             #since we want to swap an item with previous one, we start from 1\n",
    "        j = i                             #because we need 2 indexes as one will reduce and we do not want to affect i\n",
    "        while j > 0 and k[j] < k[j-1]:    #j>0 since there is no value to the left of the 0 index\n",
    "            k[j], k[j-1] = k[j-1], k[j]   # swap the items, if right one is smaller. (sometimes we use a temp variable)\n",
    "            j=j-1                         #reduce j and repeat\n",
    "    return k\n",
    "\n",
    "print(ins_sort([5,8,1,3,6,9]))"
   ]
  },
  {
   "cell_type": "markdown",
   "metadata": {
    "slideshow": {
     "slide_type": "slide"
    }
   },
   "source": [
    "# Mergesort"
   ]
  },
  {
   "cell_type": "markdown",
   "metadata": {
    "slideshow": {
     "slide_type": "slide"
    }
   },
   "source": [
    "Merge sort is a sorting algorithm that works by splitting an array into subarrays, sorting the individual sub arrays and joining it back up into a single, sorted array.\n",
    "\n",
    "This is known as a `divide and conquer` algorithm."
   ]
  },
  {
   "cell_type": "code",
   "execution_count": 4,
   "metadata": {
    "collapsed": false,
    "slideshow": {
     "slide_type": "subslide"
    }
   },
   "outputs": [
    {
     "name": "stdout",
     "output_type": "stream",
     "text": [
      "[1]\n"
     ]
    }
   ],
   "source": [
    "C = []\n",
    "A = [1, 3]\n",
    "B = [2, 4]\n",
    "C.append(min(min(A), min(B)))\n",
    "print(C)"
   ]
  },
  {
   "cell_type": "code",
   "execution_count": 8,
   "metadata": {
    "collapsed": false,
    "slideshow": {
     "slide_type": "subslide"
    }
   },
   "outputs": [
    {
     "name": "stdout",
     "output_type": "stream",
     "text": [
      "[1, 2, 2, 2]\n"
     ]
    }
   ],
   "source": [
    "A = [3]\n",
    "B = [2, 4]\n",
    "C.append(min(min(A), min(B)))\n",
    "print(C)"
   ]
  },
  {
   "cell_type": "code",
   "execution_count": 10,
   "metadata": {
    "collapsed": false,
    "slideshow": {
     "slide_type": "subslide"
    }
   },
   "outputs": [
    {
     "name": "stdout",
     "output_type": "stream",
     "text": [
      "[1, 2, 2, 2, 3, 3]\n"
     ]
    }
   ],
   "source": [
    "A = [3]\n",
    "B = [4]\n",
    "C.append(min(min(A), min(B)))\n",
    "print(C)"
   ]
  },
  {
   "cell_type": "code",
   "execution_count": 13,
   "metadata": {
    "collapsed": false,
    "slideshow": {
     "slide_type": "slide"
    }
   },
   "outputs": [
    {
     "name": "stdout",
     "output_type": "stream",
     "text": [
      "[1, 3, 5, 6, 8, 9]\n"
     ]
    }
   ],
   "source": [
    "def merge_sort(x):\n",
    "    result = []\n",
    "    if len(x) < 2:\n",
    "        return x\n",
    "    mid = int(len(x)/2) # calculate mid point\n",
    "    y = merge_sort(x[:mid]) #split up to mid point and sort\n",
    "    z = merge_sort(x[mid:]) #get the rest of the mid point and sort\n",
    "    i = 0\n",
    "    j = 0\n",
    "    while i < len(y) and j < len(z): # loop through both lists\n",
    "            if y[i] > z[j]: #if left is more than right, add to result and increment index\n",
    "                result.append(z[j])\n",
    "                j += 1\n",
    "            else: #if right is more than left, add to result and increment right index\n",
    "                result.append(y[i])\n",
    "                i += 1\n",
    "    result += y[i:] #we can assume this is sorted, so we add the rest of the lists based on the index\n",
    "    result += z[j:]\n",
    "    return result\n",
    "\n",
    "print(merge_sort([5,8,1,3,6,9]))"
   ]
  },
  {
   "cell_type": "markdown",
   "metadata": {
    "slideshow": {
     "slide_type": "slide"
    }
   },
   "source": [
    "# `sorted()`\n",
    "\n",
    "Understandably, we do not write our own sorting implementations each time we need to sort some data."
   ]
  },
  {
   "cell_type": "code",
   "execution_count": 1,
   "metadata": {
    "collapsed": false,
    "slideshow": {
     "slide_type": "fragment"
    }
   },
   "outputs": [
    {
     "name": "stdout",
     "output_type": "stream",
     "text": [
      "[2, 5, 7, 19, 23, 100, 473, 8149]\n"
     ]
    }
   ],
   "source": [
    "print(sorted([5, 100, 7, 2, 8149, 23, 19, 473]))"
   ]
  },
  {
   "cell_type": "markdown",
   "metadata": {
    "slideshow": {
     "slide_type": "fragment"
    }
   },
   "source": [
    "Python has sorting methods built into its standard library.\n",
    "\n",
    "And it is pretty good!"
   ]
  },
  {
   "cell_type": "code",
   "execution_count": 14,
   "metadata": {
    "collapsed": false,
    "slideshow": {
     "slide_type": "subslide"
    }
   },
   "outputs": [
    {
     "name": "stdout",
     "output_type": "stream",
     "text": [
      "Sorted: 3.09944152832e-06\n",
      "Reverse: 1.90734863281e-06\n",
      "Partially Sorted: 2.14576721191e-06\n",
      "Random: 0.000194072723389\n"
     ]
    }
   ],
   "source": [
    "import time\n",
    "import random\n",
    "\n",
    "small_sorted_list = [x for x in range(4)]\n",
    "rev_small_sorted_list = small_sorted_list[::-1]\n",
    "sorted_list = [x for x in range(1024)]\n",
    "rev_sorted_list = sorted_list[::-1]\n",
    "\n",
    "#Start timing\n",
    "\n",
    "def time_to_sort(to_sort, print_string):\n",
    "    start = time.time()\n",
    "    to_sort.sort()\n",
    "    elapsed = time.time() - start\n",
    "    print(print_string.format(elapsed))\n",
    "    \n",
    "time_to_sort(small_sorted_list, \"Sorted: {}\")\n",
    "time_to_sort(rev_small_sorted_list, \"Reverse: {}\")\n",
    "time_to_sort([1,5,2,8,3], \"Partially Sorted: {}\")\n",
    "time_to_sort([random.randint(0,1000) for r in range(1024)], \"Random: {}\")"
   ]
  },
  {
   "cell_type": "markdown",
   "metadata": {
    "slideshow": {
     "slide_type": "subslide"
    }
   },
   "source": [
    "# TimSort\n",
    "\n",
    "What are the weak points? Where does it struggle?\n",
    "\n",
    "### Exercise\n",
    "\n",
    "What happens when the size of the input list increases? What about decreasing?\n",
    "\n",
    "What do you think it is doing based on the list size?\n"
   ]
  },
  {
   "cell_type": "markdown",
   "metadata": {
    "slideshow": {
     "slide_type": "subslide"
    }
   },
   "source": [
    "# TimSort\n",
    "\n",
    "Timsort (now used in Python, Java and Android) is a combination of the Merge Sort and Insertion Sort. In simple terms, it runs like this:\n",
    "\n",
    "1. The input list is split into smaller lists\n",
    "2. Insertion Sort sorts the smaller lists\n",
    "3. Merge Sort then combines the sorted lists\n",
    "\n",
    "HOWEVER, when the list is smaller than a set size (the `minrun`) then it ignores the above method and just uses Insertion Sort.\n",
    "\n",
    "This is what makes it so fast, it is known as an `Adaptive Sort`."
   ]
  },
  {
   "cell_type": "markdown",
   "metadata": {
    "slideshow": {
     "slide_type": "slide"
    }
   },
   "source": [
    "# Big-O Notation (Complexity)\n",
    "\n",
    "* Stay focussed, this is common in interviews and extremely useful once you understand it\n",
    "* What do we mean by the complexity of an algorithm?\n"
   ]
  },
  {
   "cell_type": "markdown",
   "metadata": {
    "slideshow": {
     "slide_type": "fragment"
    }
   },
   "source": [
    "You answered it in the previous exercise:\n",
    "\n",
    "Algorithms are not always consistently amazing.\n",
    "\n",
    "They have a `best case scenario`, so they must have a `worst case scenario` too. Which means that most of the time, they will have an `average case scenario`.\n",
    "\n",
    "The complexity of an algorithm describes how an algorithm performs based on these scenarios"
   ]
  },
  {
   "cell_type": "markdown",
   "metadata": {
    "slideshow": {
     "slide_type": "subslide"
    }
   },
   "source": [
    "So, let's work out the complexity of some operations:\n",
    "\n",
    "print(n) - This is a constant and has no complexity, but what if we want to print `n` times?"
   ]
  },
  {
   "cell_type": "markdown",
   "metadata": {
    "slideshow": {
     "slide_type": "fragment"
    }
   },
   "source": [
    "```python\n",
    "for x in range(n):\n",
    "    print(x)\n",
    "```\n",
    "Now the operations depend on the size of N, so we call this ** O(n) **"
   ]
  },
  {
   "cell_type": "markdown",
   "metadata": {
    "slideshow": {
     "slide_type": "subslide"
    }
   },
   "source": [
    "What about this?\n",
    "\n",
    "```python\n",
    "\n",
    "for x in range(n):\n",
    "    for y in range(n):\n",
    "        print(x)\n",
    "```\n",
    "\n",
    "Now the run time depends on the size of N but it loops through N within N (Still with me)?"
   ]
  },
  {
   "cell_type": "markdown",
   "metadata": {
    "slideshow": {
     "slide_type": "fragment"
    }
   },
   "source": [
    "This makes the complexity ** O(n^2) ** or **O(n*n)**"
   ]
  },
  {
   "cell_type": "markdown",
   "metadata": {
    "slideshow": {
     "slide_type": "slide"
    }
   },
   "source": [
    "# Complexity and Operations\n",
    "\n",
    "TODO: Step through how for loops, whiles etc change the complexity and note how you only focus on the big changes.\n",
    "    \n",
    "    I.e. O(2N + 2) is the same as O(2N)"
   ]
  },
  {
   "cell_type": "markdown",
   "metadata": {
    "slideshow": {
     "slide_type": "slide"
    }
   },
   "source": [
    "# Bubble Sort Complexity\n",
    "\n",
    "Those of you that have read the Wikipedia article will have seen this, but let's go through the Bubble Sort.\n",
    "\n",
    "First, a reminder of how it works:\n",
    "```\n",
    "procedure bubbleSort( A : list of sortable items )\n",
    "    n = length(A)\n",
    "    repeat\n",
    "       newn = 0\n",
    "       for i = 1 to n-1 inclusive do\n",
    "          if A[i-1] > A[i] then\n",
    "             swap(A[i-1], A[i])\n",
    "             newn = i\n",
    "          end if\n",
    "       end for\n",
    "       n = newn\n",
    "    until n = 0\n",
    "end procedure\n",
    "```"
   ]
  },
  {
   "cell_type": "markdown",
   "metadata": {
    "slideshow": {
     "slide_type": "subslide"
    }
   },
   "source": [
    "# Bubble Sort Complexity\n",
    "\n",
    "Bubble Sort is a bit unique in that the `worst case` and `average case` complexity is the same. \n",
    "\n",
    "Regardless of what happens, the algorithm loops through every item in the list until there are no swaps to be made.\n",
    "\n",
    "A reversed list or a randomly ordered requires the number of passes to be `n * n`, thus giving it the same average and worst case"
   ]
  },
  {
   "cell_type": "markdown",
   "metadata": {
    "slideshow": {
     "slide_type": "subslide"
    }
   },
   "source": [
    "# Bubble Sort Complexity\n",
    "\n",
    "All is not lost! If you pass an already sorted list to Bubble sort then the complexity is only **O(n)**. \n",
    "\n",
    "So, what is the bubble sort good/bad at?"
   ]
  },
  {
   "cell_type": "markdown",
   "metadata": {
    "slideshow": {
     "slide_type": "fragment"
    }
   },
   "source": [
    "Good: Detecting already sorted algorithms.\n",
    "\n",
    "Bad: Everything else."
   ]
  },
  {
   "cell_type": "markdown",
   "metadata": {
    "slideshow": {
     "slide_type": "subslide"
    }
   },
   "source": [
    "# End\n",
    "\n",
    "You should now have a basic understanding of Computational Thinking and the Python programming language.\n",
    "\n",
    "Note: The complexity of an algorithm is a huge topic and we will come back to it at other points in the course\n",
    "\n",
    "But, wait, there's more....\n",
    "\n",
    "#### Homework!"
   ]
  },
  {
   "cell_type": "markdown",
   "metadata": {
    "slideshow": {
     "slide_type": "slide"
    }
   },
   "source": [
    "# Homework\n",
    "\n",
    "* What is the Quicksort algorithm?\n",
    "* What is the complexity?\n",
    "* Could I use it to sort colours?\n",
    "    * How?\n",
    "* Find an implementation and comment each line\n",
    "    * Comment the function as a whole\n",
    "* Write a script that implements it on a random array"
   ]
  }
 ],
 "metadata": {
  "celltoolbar": "Slideshow",
  "kernelspec": {
   "display_name": "Python 2",
   "language": "python",
   "name": "python2"
  },
  "language_info": {
   "codemirror_mode": {
    "name": "ipython",
    "version": 2
   },
   "file_extension": ".py",
   "mimetype": "text/x-python",
   "name": "python",
   "nbconvert_exporter": "python",
   "pygments_lexer": "ipython2",
   "version": "2.7.12"
  },
  "nav_menu": {},
  "toc": {
   "navigate_menu": true,
   "number_sections": true,
   "sideBar": true,
   "threshold": 6,
   "toc_cell": false,
   "toc_section_display": "block",
   "toc_window_display": false
  }
 },
 "nbformat": 4,
 "nbformat_minor": 0
}
