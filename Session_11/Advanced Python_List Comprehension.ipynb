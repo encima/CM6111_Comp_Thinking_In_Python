{
 "cells": [
  {
   "cell_type": "markdown",
   "metadata": {
    "nbpresent": {
     "id": "1c47caac-0e26-4f84-b82c-566311cd4dad"
    },
    "slideshow": {
     "slide_type": "slide"
    }
   },
   "source": [
    "# Advanced Python\n",
    "## List Comprehension\n",
    "\n",
    "## Dr. Chris Gwilliams\n",
    "\n",
    "### gwilliamsc@cardiff.ac.uk"
   ]
  },
  {
   "cell_type": "code",
   "execution_count": 1,
   "metadata": {
    "collapsed": false,
    "nbpresent": {
     "id": "4fb59671-b707-4985-8363-70bcd793ce56"
    },
    "slideshow": {
     "slide_type": "slide"
    }
   },
   "outputs": [
    {
     "name": "stdout",
     "output_type": "stream",
     "text": [
      "[1, 3, 5, 7, 9, 11, 13, 15, 17, 19, 21, 23, 25, 27, 29, 31, 33, 35, 37, 39, 41, 43, 45, 47, 49, 51, 53, 55, 57, 59, 61, 63, 65, 67, 69, 71, 73, 75, 77, 79, 81, 83, 85, 87, 89, 91, 93, 95, 97, 99]\n"
     ]
    }
   ],
   "source": [
    "my_list = []\n",
    "list_comprehension = [x for x in range(1, 100, 2)]\n",
    "print(list_comprehension)"
   ]
  },
  {
   "cell_type": "markdown",
   "metadata": {
    "nbpresent": {
     "id": "522059fb-5dda-49f4-b809-069df5ef0904"
    },
    "slideshow": {
     "slide_type": "slide"
    }
   },
   "source": [
    "# Comprehend This\n",
    "\n",
    "Python is huge for readability and it loves concise code. List comprehension is the marriage of both of these things:\n",
    "\n",
    "```python\n",
    "list = [action_to_store for variable in thing_to_iterate_through]\n",
    "```"
   ]
  },
  {
   "cell_type": "markdown",
   "metadata": {
    "nbpresent": {
     "id": "093b4d9f-ce11-42a5-b94b-e8dd9205ce33"
    }
   },
   "source": []
  },
  {
   "cell_type": "markdown",
   "metadata": {
    "nbpresent": {
     "id": "3dbdcdda-c703-49a1-9025-8c111670708f"
    }
   },
   "source": []
  },
  {
   "cell_type": "markdown",
   "metadata": {
    "nbpresent": {
     "id": "24b74aec-9388-4800-a654-b6b2b2c0f84e"
    }
   },
   "source": []
  },
  {
   "cell_type": "markdown",
   "metadata": {
    "nbpresent": {
     "id": "3441934e-df7c-4f2f-8d09-27f72fb5674b"
    }
   },
   "source": []
  }
 ],
 "metadata": {
  "celltoolbar": "Slideshow",
  "kernelspec": {
   "display_name": "Python 2",
   "language": "python",
   "name": "python2"
  },
  "language_info": {
   "codemirror_mode": {
    "name": "ipython",
    "version": 2
   },
   "file_extension": ".py",
   "mimetype": "text/x-python",
   "name": "python",
   "nbconvert_exporter": "python",
   "pygments_lexer": "ipython2",
   "version": "2.7.12"
  },
  "nbpresent": {
   "slides": {
    "3bb31852-ec36-427e-b70b-e97e0d05bb00": {
     "id": "3bb31852-ec36-427e-b70b-e97e0d05bb00",
     "prev": "4d24379b-879d-45a7-9adf-601721645f62",
     "regions": {
      "0dc6e315-2d51-495c-9dfe-6603bb818694": {
       "attrs": {
        "height": 0.4,
        "width": 0.8,
        "x": 0.1,
        "y": 0.5
       },
       "content": {
        "cell": "24b74aec-9388-4800-a654-b6b2b2c0f84e",
        "part": "whole"
       },
       "id": "0dc6e315-2d51-495c-9dfe-6603bb818694"
      },
      "6b343ad7-50c7-45f2-9488-42eb780cb09b": {
       "attrs": {
        "height": 0.4,
        "width": 0.8,
        "x": 0.1,
        "y": 0.5
       },
       "content": {
        "cell": "093b4d9f-ce11-42a5-b94b-e8dd9205ce33",
        "part": "whole"
       },
       "id": "6b343ad7-50c7-45f2-9488-42eb780cb09b"
      },
      "79685f76-fd39-4c02-96d1-3c99b3ae0b09": {
       "attrs": {
        "height": 0.4,
        "width": 0.8,
        "x": 0.1,
        "y": 0.5
       },
       "content": {
        "cell": "3dbdcdda-c703-49a1-9025-8c111670708f",
        "part": "whole"
       },
       "id": "79685f76-fd39-4c02-96d1-3c99b3ae0b09"
      },
      "ca6d3f9f-68a0-451e-9abe-d2f1c7e0bbec": {
       "attrs": {
        "height": 0.4,
        "width": 0.8,
        "x": 0.1,
        "y": 0.5
       },
       "content": {
        "cell": "3441934e-df7c-4f2f-8d09-27f72fb5674b",
        "part": "whole"
       },
       "id": "ca6d3f9f-68a0-451e-9abe-d2f1c7e0bbec"
      },
      "f5a186b9-4c4b-4a18-a53b-16c9b88faac3": {
       "attrs": {
        "height": 0.8,
        "width": 0.8,
        "x": 0.1,
        "y": 0.1
       },
       "content": {
        "cell": "522059fb-5dda-49f4-b809-069df5ef0904",
        "part": "whole"
       },
       "id": "f5a186b9-4c4b-4a18-a53b-16c9b88faac3"
      }
     },
     "theme": null
    },
    "4d24379b-879d-45a7-9adf-601721645f62": {
     "id": "4d24379b-879d-45a7-9adf-601721645f62",
     "prev": "6dd8046b-1ed0-474a-9d3e-187566e977b1",
     "regions": {
      "c3644187-0f8b-4752-ba0f-91c65851b90b": {
       "attrs": {
        "height": 0.8,
        "width": 0.8,
        "x": 0.1,
        "y": 0.1
       },
       "content": {
        "cell": "4fb59671-b707-4985-8363-70bcd793ce56",
        "part": "whole"
       },
       "id": "c3644187-0f8b-4752-ba0f-91c65851b90b"
      }
     }
    },
    "6dd8046b-1ed0-474a-9d3e-187566e977b1": {
     "id": "6dd8046b-1ed0-474a-9d3e-187566e977b1",
     "prev": null,
     "regions": {
      "3a072498-1f1e-4d72-8ad9-b91ba06506ec": {
       "attrs": {
        "height": 0.8,
        "width": 0.8,
        "x": 0.1,
        "y": 0.1
       },
       "content": {
        "cell": "1c47caac-0e26-4f84-b82c-566311cd4dad",
        "part": "whole"
       },
       "id": "3a072498-1f1e-4d72-8ad9-b91ba06506ec"
      }
     }
    }
   },
   "themes": {
    "default": "18ff700f-a162-4a38-8f21-1c16546da416",
    "theme": {}
   }
  }
 },
 "nbformat": 4,
 "nbformat_minor": 1
}
