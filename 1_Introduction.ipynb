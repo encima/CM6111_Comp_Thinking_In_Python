{
 "cells": [
  {
   "cell_type": "markdown",
   "metadata": {
    "slideshow": {
     "slide_type": "slide"
    }
   },
   "source": [
    "# Computational Thinking\n",
    "\n",
    "## Dr. Christopher Gwilliams\n",
    "### gwilliamsc@cardiff.ac.uk"
   ]
  },
  {
   "cell_type": "markdown",
   "metadata": {
    "slideshow": {
     "slide_type": "slide"
    }
   },
   "source": [
    "# Computational Thinking?\n",
    "\n",
    "    Computational Thinking is the thought processes involved in formulating problems and\ttheir solutions so that the solutions are represented in a form that can be effectively\tcarried out by an information-processing agent\n",
    "    Jeannette Wing\n",
    "    \n",
    "*TL;DR*\n",
    "Problem solving by you, or a machine, in a way that is simple to reproduce"
   ]
  },
  {
   "cell_type": "markdown",
   "metadata": {
    "slideshow": {
     "slide_type": "slide"
    }
   },
   "source": [
    "# Course Overview\n",
    "\n",
    "- Python!\n",
    "- Variables & Types\n",
    "- Types\n",
    "- Operators & Conditionals\n",
    "- Flow Control\n",
    "- Data Structures\n",
    "- Loops\n",
    "- Methods\n",
    "- Input/Output\n",
    "- Maths & Binary Arithmetic\n",
    "- Sorting Algorithms\n",
    "- Python in the Web\n"
   ]
  },
  {
   "cell_type": "markdown",
   "metadata": {
    "slideshow": {
     "slide_type": "slide"
    }
   },
   "source": [
    "# Intro to Python"
   ]
  },
  {
   "cell_type": "code",
   "execution_count": 2,
   "metadata": {
    "collapsed": false,
    "slideshow": {
     "slide_type": "fragment"
    }
   },
   "outputs": [
    {
     "data": {
      "text/plain": [
       "'Hello, Python'"
      ]
     },
     "execution_count": 2,
     "metadata": {},
     "output_type": "execute_result"
    }
   ],
   "source": [
    "\"Hello, Python\""
   ]
  },
  {
   "cell_type": "markdown",
   "metadata": {
    "collapsed": true,
    "slideshow": {
     "slide_type": "slide"
    }
   },
   "source": [
    "# Why Python?\n",
    "\n",
    "- Open Source (Free as in free speech, not free beer)\n",
    "- Widely used (bear with me)\n",
    "- *MASSIVE* standard library\n",
    "- Cross-platform\n",
    "- Used in Academia and Industry\n",
    "- Powerful yet easy to learn"
   ]
  },
  {
   "cell_type": "markdown",
   "metadata": {
    "slideshow": {
     "slide_type": "slide"
    }
   },
   "source": [
    "# What is this Python?\n",
    "\n",
    "- Made by Guido Van Rossum in 1991\n",
    "- Continues to be overseen by him\n",
    "- Interpreted\n",
    "- Object-oriented\n",
    "- Strongly Typed\n",
    "- Dynamically Typed"
   ]
  },
  {
   "cell_type": "markdown",
   "metadata": {
    "slideshow": {
     "slide_type": "subslide"
    }
   },
   "source": [
    "![title](img/400px-Guido_van_Rossum_OSCON_2006.jpg)\n",
    "### Benevolent Dictator for Life"
   ]
  },
  {
   "cell_type": "markdown",
   "metadata": {
    "slideshow": {
     "slide_type": "slide"
    }
   },
   "source": [
    "# Who Uses Python?\n",
    "\n",
    "- Academia (all disciplines)\n",
    "- Google (search)\n",
    "- Battlefield (Web APIs)\n",
    "- Disney (animation)\n",
    "- NASA (shuttle launch planning)\n",
    "- Instagram\n",
    "- Mozilla\n",
    "- Dropbox (EVERYTHING)\n",
    "- Government\n",
    "- You?\n",
    "\n",
    "ya-di-ya-da"
   ]
  },
  {
   "cell_type": "markdown",
   "metadata": {
    "slideshow": {
     "slide_type": "slide"
    }
   },
   "source": [
    "# Python 2 vs. Python 3\n"
   ]
  },
  {
   "cell_type": "markdown",
   "metadata": {
    "slideshow": {
     "slide_type": "fragment"
    }
   },
   "source": [
    "## Python 2\n",
    "\n",
    "- Legacy\n",
    "- Largest number of libraries\n",
    "- Coming to end of life soon"
   ]
  },
  {
   "cell_type": "markdown",
   "metadata": {
    "slideshow": {
     "slide_type": "fragment"
    }
   },
   "source": [
    "## Python 3\n",
    "\n",
    "- Like the Xbox One versus the 360, it is partially backwards compatible\n",
    "- Almost a complete rewrite\n",
    "- Now the de facto version\n",
    "- Libraries in the process of being rewritten for support"
   ]
  },
  {
   "cell_type": "markdown",
   "metadata": {
    "slideshow": {
     "slide_type": "slide"
    }
   },
   "source": [
    "# How Does It Work?\n",
    "\n",
    "- Interpreted (not compiled)\n",
    "\n",
    "### Ever written in Java or C++?\n",
    "\n",
    "![Java/C++](http://new.tinygrab.com/6c24ad128714308c5720a10a748686371744350d25.png)\n",
    "### Java files compiled to Class files before they are run\n",
    "\n",
    "- Python (and others) are not compiled, they are interpreted\n",
    "- What other languages are interpreted?\n",
    "\n"
   ]
  },
  {
   "cell_type": "markdown",
   "metadata": {
    "slideshow": {
     "slide_type": "slide"
    }
   },
   "source": [
    "# Interpeted Languages\n",
    "\n",
    "*HIGH LEVEL OVERVIEW* Files are run line by line at runtime (no need to compile). Some checks are done before the file runs (spacing, module imports etc), but errors are typically not caught until that line of the file is executed.\n",
    "\n",
    "## Benefits:\n",
    "\n",
    "- (Generally) faster development time\n",
    "- Platform independent (source)\n",
    "- Dynamic types\n",
    "\n",
    "## Drawbacks:\n",
    "\n",
    "- Speed (kind of, we will look at that in this course)\n",
    "\n"
   ]
  },
  {
   "cell_type": "markdown",
   "metadata": {
    "slideshow": {
     "slide_type": "slide"
    }
   },
   "source": [
    "# What Can Python Do?\n",
    "\n",
    "- Websites (Django, Flask, Bottle)\n",
    "- Desktop apps (Kivy, Tkinter, WxPython)\n",
    "- Mobile apps (kivy)\n",
    "- Command line tools\n",
    "\n"
   ]
  },
  {
   "cell_type": "markdown",
   "metadata": {
    "slideshow": {
     "slide_type": "slide"
    }
   },
   "source": [
    "# Python Interpreter\n",
    "\n",
    "- Open up a command prompt (terminal) and type `python`\n",
    "- POW, you are in the python interpreter. Try this:"
   ]
  },
  {
   "cell_type": "code",
   "execution_count": 6,
   "metadata": {
    "collapsed": false,
    "slideshow": {
     "slide_type": "fragment"
    }
   },
   "outputs": [
    {
     "data": {
      "text/plain": [
       "'My name is <your name here>'"
      ]
     },
     "execution_count": 6,
     "metadata": {},
     "output_type": "execute_result"
    }
   ],
   "source": [
    "\"Hello, Python\" #press enter here\n",
    "\"My name is <your name here>\""
   ]
  },
  {
   "cell_type": "markdown",
   "metadata": {
    "slideshow": {
     "slide_type": "slide"
    }
   },
   "source": [
    "# REPL\n",
    "\n",
    "### What does this stand for?\n",
    "\n"
   ]
  },
  {
   "cell_type": "markdown",
   "metadata": {
    "slideshow": {
     "slide_type": "fragment"
    }
   },
   "source": [
    "## READ EVAL PRINT LOOP\n",
    "\n",
    "![repl](img/repl.png)"
   ]
  },
  {
   "cell_type": "markdown",
   "metadata": {
    "slideshow": {
     "slide_type": "slide"
    }
   },
   "source": [
    "# NOTE: Whitespace\n",
    "\n",
    "Ever used a different language with semicolons and curly braces?\n",
    "\n",
    "Python does not have that. EVERYTHING revolves around whitespace.\n",
    "\n",
    "We will cover this as we go on but be careful about spacing errors\n",
    "\n",
    "Do not worry about the code for now, but take a look at how this works:"
   ]
  },
  {
   "cell_type": "code",
   "execution_count": 4,
   "metadata": {
    "collapsed": false,
    "slideshow": {
     "slide_type": "fragment"
    }
   },
   "outputs": [
    {
     "ename": "IndentationError",
     "evalue": "expected an indented block (<ipython-input-4-4f6a00436454>, line 2)",
     "output_type": "error",
     "traceback": [
      "\u001b[0;36m  File \u001b[0;32m\"<ipython-input-4-4f6a00436454>\"\u001b[0;36m, line \u001b[0;32m2\u001b[0m\n\u001b[0;31m    print(\"bloop\")\u001b[0m\n\u001b[0m        ^\u001b[0m\n\u001b[0;31mIndentationError\u001b[0m\u001b[0;31m:\u001b[0m expected an indented block\n"
     ]
    }
   ],
   "source": [
    "for i in range(0,100):\n",
    "print(\"bloop\")"
   ]
  },
  {
   "cell_type": "code",
   "execution_count": 5,
   "metadata": {
    "collapsed": false,
    "slideshow": {
     "slide_type": "fragment"
    }
   },
   "outputs": [
    {
     "name": "stdout",
     "output_type": "stream",
     "text": [
      "bloop\n",
      "bloop\n",
      "bloop\n"
     ]
    }
   ],
   "source": [
    "for i in range(0,3):\n",
    "    print(\"bloop\")"
   ]
  },
  {
   "cell_type": "markdown",
   "metadata": {
    "slideshow": {
     "slide_type": "subslide"
    }
   },
   "source": [
    "# Side note: Using the interpreter for errors\n",
    "\n",
    "The example in the previous slide told you the error and the line it occured on, like this:\n",
    "\n",
    "![errors](img/errors.png)\n",
    "\n",
    "Always use this **before** you ask/search for the problem. The error text is what you should search for as well. We cannot answer questions like: \"Why is my code not working?\" any more than you can.\n",
    "\n",
    "\"I am trying to print a string at line 11 and it is giving me an indentation error\" Saying something like this out loud (or in your head) may actually help you resolve the problem. That being said: **we are here to help and never be afraid to ask for it, it is what you are paying for**"
   ]
  },
  {
   "cell_type": "markdown",
   "metadata": {
    "slideshow": {
     "slide_type": "slide"
    }
   },
   "source": [
    "# Python REPL\n",
    "\n",
    "When you type `python` in to your command prompt, this is the Python interpreter and it is an example of a REPL. Whatever you type is evaluated immediately and run, allowing you to write a new line.\n",
    "\n",
    "What are the benefits of this? How else can this be done?"
   ]
  },
  {
   "cell_type": "markdown",
   "metadata": {
    "slideshow": {
     "slide_type": "subslide"
    }
   },
   "source": [
    "# REPL Benefits\n",
    "\n",
    "- Rapid prototyping\n",
    "- Check it works on your system\n",
    "- Command line scripting\n",
    "- Slides, talks and demos!\n",
    "\n",
    "But we don't always want to be writing one liners in the command line, do we?"
   ]
  },
  {
   "cell_type": "markdown",
   "metadata": {
    "slideshow": {
     "slide_type": "slide"
    }
   },
   "source": [
    "# Python Scripts\n",
    "\n",
    "- Open up a text editor\n",
    "- Type `print(\"hello, world\")`\n",
    "- Save the file as `hello.py`\n",
    "- In your command prompt, run it by typing `python hello.py` in the directory it was saved in\n",
    "\n",
    "What happens?"
   ]
  },
  {
   "cell_type": "markdown",
   "metadata": {
    "slideshow": {
     "slide_type": "subslide"
    }
   },
   "source": [
    "# REPL vs Scripts\n",
    "\n",
    "What happens when you remove the print and the brackets?\n",
    "\n",
    "A REPL is designed to show you the state of things with each command. So, typing:\n",
    "`\"print me\"`\n",
    "will print that string.\n",
    "Scripts (or files) will not do this unless you tell it to. \n",
    "\n",
    "This is partly because printing to the command prompt (also called: `stdout`) is one of the slowest operations you can perform in Python!"
   ]
  },
  {
   "cell_type": "markdown",
   "metadata": {
    "slideshow": {
     "slide_type": "slide"
    }
   },
   "source": [
    "# Learning Python\n",
    "\n",
    "**First port of call: This course and recommended reading**\n",
    "\n",
    "Second port of call: the interpreter (Learn by making mistakes. Fixing bugs and errors will increase your knowledge exponentially)\n",
    "\n",
    "Third port of call: [The Python docs](https://docs.python.org)\n",
    "\n",
    "Fourth port of call: [The Python docs](https://docs.python.org)\n",
    "\n",
    "Fifth port of call: Us. Stop us and ask and we will do our best to help!\n",
    "\n"
   ]
  },
  {
   "cell_type": "markdown",
   "metadata": {
    "slideshow": {
     "slide_type": "subslide"
    }
   },
   "source": [
    "# Asking for Help\n",
    "\n",
    "1. Do you know what the problem is?\n",
    "2. Do you know where the problem is?\n",
    "3. What have you tried?\n",
    "4. We can help you better if you have helped yourself first.\n",
    "\n",
    "Still really stuck?"
   ]
  },
  {
   "cell_type": "markdown",
   "metadata": {
    "slideshow": {
     "slide_type": "subslide"
    }
   },
   "source": [
    "Sure?"
   ]
  },
  {
   "cell_type": "markdown",
   "metadata": {
    "slideshow": {
     "slide_type": "fragment"
    }
   },
   "source": [
    "Fine: [Stack Overflow](https://stackoverflow.com)\n",
    "\n",
    "Beware, Python 3 is new and not all the code you find online will run. Any code written in Python `2.*` will **not** be marked or accepted."
   ]
  },
  {
   "cell_type": "markdown",
   "metadata": {
    "slideshow": {
     "slide_type": "slide"
    }
   },
   "source": [
    "# Jupyter Usage\n",
    "\n",
    "The Jupyter notebook is a way of running code in the slides, providing answers to exercises and experimenting with any code samples provided. This first lecture was provided as a PDF but there is an `ipynb` file also included on Learning Central. \n",
    "\n",
    "Every session will have at least a PDF and an `ipynb` file. In order to run that file (and interact with the code samples), you need to run:"
   ]
  },
  {
   "cell_type": "markdown",
   "metadata": {
    "slideshow": {
     "slide_type": "fragment"
    }
   },
   "source": [
    "* Open the directory you have the notebooks downloaded to in Command Prompt/Terminal\n",
    "* Run the following command:\n",
    "`jupyter notebook`\n",
    "* If it does not open automatically, point your browser to [localhost:8888](localhost:8888/tree)\n",
    "* Click on the relevant notebook and run the code blocks with the `Play arrow` or by pressing Ctrl-Return"
   ]
  },
  {
   "cell_type": "markdown",
   "metadata": {
    "slideshow": {
     "slide_type": "slide"
    }
   },
   "source": [
    "![jupgif](./img/Jupyter_Intro.gif)"
   ]
  },
  {
   "cell_type": "markdown",
   "metadata": {
    "slideshow": {
     "slide_type": "slide"
    }
   },
   "source": [
    "# Let's Get Hands On!\n",
    "\n",
    "Below, there are a few lines of Python code. Fill them in and we can go through what they mean."
   ]
  },
  {
   "cell_type": "code",
   "execution_count": null,
   "metadata": {
    "collapsed": true,
    "slideshow": {
     "slide_type": "fragment"
    }
   },
   "outputs": [],
   "source": [
    "language = \"\" #insert the language we are coding in here\n",
    "print(language)"
   ]
  },
  {
   "cell_type": "markdown",
   "metadata": {
    "slideshow": {
     "slide_type": "fragment"
    }
   },
   "source": [
    "Here, you have set the variable `language` to the value `Python`. What do you note that is different here over a language like C#? Give me 2 differences.\n",
    "\n",
    "```C#\n",
    "char x = 'y';\n",
    "Console.WriteLine(x);\n",
    "```"
   ]
  },
  {
   "cell_type": "markdown",
   "metadata": {
    "slideshow": {
     "slide_type": "subslide"
    }
   },
   "source": [
    "C# requires you write the `type` of the variable as well as the name. Why do you think Python doesn't?\n",
    "\n",
    "There is a semicolon at the end of the line. Python relies on whitespace instead of expression terminators.\n",
    "\n",
    "Finally, Python calls print while C# calls Console.WriteLine. A chocolate bar for anyone that can tell me the difference:"
   ]
  },
  {
   "cell_type": "markdown",
   "metadata": {
    "slideshow": {
     "slide_type": "fragment"
    }
   },
   "source": [
    "Python has `print` as a function but `WriteLine` is a method attached to the `Console` Object.\n",
    "\n",
    "Do not worry, all of this will be covered in depth in the course."
   ]
  },
  {
   "cell_type": "markdown",
   "metadata": {
    "slideshow": {
     "slide_type": "slide"
    }
   },
   "source": [
    "# Fin\n",
    "\n",
    "OK, that serves as your intro to the module. Ask questions now or forever hold your peace.\n",
    "\n",
    "![intro](img/intro.gif)"
   ]
  },
  {
   "cell_type": "markdown",
   "metadata": {
    "slideshow": {
     "slide_type": "slide"
    }
   },
   "source": [
    "### Homework\n",
    "\n",
    "Download the `1_Homework` and follow the instructions in this lecture to view it in your browser.\n",
    "\n",
    "Complete all sections **BEFORE** the next session!"
   ]
  }
 ],
 "metadata": {
  "celltoolbar": "Slideshow",
  "kernelspec": {
   "display_name": "Python 2",
   "language": "python",
   "name": "python2"
  },
  "language_info": {
   "codemirror_mode": {
    "name": "ipython",
    "version": 2
   },
   "file_extension": ".py",
   "mimetype": "text/x-python",
   "name": "python",
   "nbconvert_exporter": "python",
   "pygments_lexer": "ipython2",
   "version": "2.7.12"
  },
  "latex_envs": {
   "bibliofile": "biblio.bib",
   "cite_by": "apalike",
   "current_citInitial": 1,
   "eqLabelWithNumbers": true,
   "eqNumInitial": 0
  },
  "livereveal": {
   "theme": "solarized",
   "transition": "zoom"
  },
  "nav_menu": {},
  "toc": {
   "navigate_menu": true,
   "number_sections": true,
   "sideBar": true,
   "threshold": 6,
   "toc_cell": false,
   "toc_section_display": "block",
   "toc_window_display": true
  }
 },
 "nbformat": 4,
 "nbformat_minor": 0
}
