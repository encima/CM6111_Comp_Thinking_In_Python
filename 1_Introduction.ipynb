{
 "cells": [
  {
   "cell_type": "markdown",
   "metadata": {
    "slideshow": {
     "slide_type": "slide"
    }
   },
   "source": [
    "# Computational Thinking\n",
    "\n",
    "## Dr. Christopher Gwilliams\n",
    "### gwilliamsc@cardiff.ac.uk"
   ]
  },
  {
   "cell_type": "markdown",
   "metadata": {
    "slideshow": {
     "slide_type": "slide"
    }
   },
   "source": [
    "# Computational Thinking?\n",
    "\n",
    "    Computational Thinking is the thought processes involved in formulating problems and\ttheir solutions so that the solutions are represented in a form that can be effectively\tcarried out by an information-processing agent\n",
    "    Jeannette Wing\n",
    "    \n",
    "*TL;DR*\n",
    "Problem solving by you, or a machine, in a way that is simple to reproduce"
   ]
  },
  {
   "cell_type": "markdown",
   "metadata": {
    "slideshow": {
     "slide_type": "slide"
    }
   },
   "source": [
    "# Course Overview\n",
    "\n",
    "- Python!\n",
    "- Variables & Types\n",
    "- Types\n",
    "- Operators & Conditionals\n",
    "- Flow Control\n",
    "- Data Structures\n",
    "- Loops\n",
    "- Methods\n",
    "- Input/Output\n",
    "- Maths & Binary Arithmetic\n",
    "- Sorting Algorithms\n",
    "- Python in the Web\n"
   ]
  },
  {
   "cell_type": "markdown",
   "metadata": {
    "slideshow": {
     "slide_type": "slide"
    }
   },
   "source": [
    "# Intro to Python"
   ]
  },
  {
   "cell_type": "code",
   "execution_count": 2,
   "metadata": {
    "collapsed": false,
    "slideshow": {
     "slide_type": "fragment"
    }
   },
   "outputs": [
    {
     "data": {
      "text/plain": [
       "'Hello, Python'"
      ]
     },
     "execution_count": 2,
     "metadata": {},
     "output_type": "execute_result"
    }
   ],
   "source": [
    "\"Hello, Python\""
   ]
  },
  {
   "cell_type": "markdown",
   "metadata": {
    "collapsed": true,
    "slideshow": {
     "slide_type": "slide"
    }
   },
   "source": [
    "# Why Python?\n",
    "\n",
    "- Open Source (Free as in free speech, not free beer)\n",
    "- Widely used (bear with me)\n",
    "- *MASSIVE* standard library\n",
    "- Cross-platform\n",
    "- Used in Academia and Industry\n",
    "- Powerful yet easy to learn"
   ]
  },
  {
   "cell_type": "markdown",
   "metadata": {
    "slideshow": {
     "slide_type": "slide"
    }
   },
   "source": [
    "# What is this Python?\n",
    "\n",
    "- Made by Guido Van Rossum in 1991\n",
    "- Continues to be overseen by him\n",
    "- Interpreted\n",
    "- Object-oriented\n",
    "- Strongly Typed\n",
    "- Dynamically Typed"
   ]
  },
  {
   "cell_type": "markdown",
   "metadata": {
    "slideshow": {
     "slide_type": "subslide"
    }
   },
   "source": [
    "![title](img/400px-Guido_van_Rossum_OSCON_2006.jpg)\n",
    "### Benevolent Dictator for Life"
   ]
  },
  {
   "cell_type": "markdown",
   "metadata": {
    "slideshow": {
     "slide_type": "slide"
    }
   },
   "source": [
    "# Who Uses Python?\n",
    "\n",
    "- Academia (all disciplines)\n",
    "- Google (search)\n",
    "- Battlefield (Web APIs)\n",
    "- Disney (animation)\n",
    "- NASA (shuttle launch planning)\n",
    "- Instagram\n",
    "- Mozilla\n",
    "- Dropbox (EVERYTHING)\n",
    "- Government\n",
    "- You?\n",
    "\n",
    "ya-di-ya-da"
   ]
  },
  {
   "cell_type": "markdown",
   "metadata": {
    "slideshow": {
     "slide_type": "slide"
    }
   },
   "source": [
    "# Python 2 vs. Python 3\n"
   ]
  },
  {
   "cell_type": "markdown",
   "metadata": {
    "slideshow": {
     "slide_type": "fragment"
    }
   },
   "source": [
    "## Python 2\n",
    "\n",
    "- Legacy\n",
    "- Largest number of libraries\n",
    "- Coming to end of life soon"
   ]
  },
  {
   "cell_type": "markdown",
   "metadata": {
    "slideshow": {
     "slide_type": "fragment"
    }
   },
   "source": [
    "## Python 3\n",
    "\n",
    "- Like the Xbox One versus the 360, it is partially backwards compatible\n",
    "- Almost a complete rewrite\n",
    "- Now the de facto version\n",
    "- Libraries in the process of being rewritten for support"
   ]
  },
  {
   "cell_type": "markdown",
   "metadata": {
    "slideshow": {
     "slide_type": "slide"
    }
   },
   "source": [
    "# How Does It Work?\n",
    "\n",
    "- Interpreted (not compiled)\n",
    "\n",
    "### Ever written in Java or C++?\n",
    "\n",
    "![Java/C++](http://new.tinygrab.com/6c24ad128714308c5720a10a748686371744350d25.png)\n",
    "### Java files compiled to Class files before they are run\n",
    "\n",
    "- Python (and others) are not compiled, they are interpreted\n",
    "- What other languages are interpreted?\n",
    "\n"
   ]
  },
  {
   "cell_type": "markdown",
   "metadata": {
    "slideshow": {
     "slide_type": "slide"
    }
   },
   "source": [
    "# Interpeted Languages\n",
    "\n",
    "*HIGH LEVEL OVERVIEW* Files are run line by line at runtime (no need to compile). Some checks are done before the file runs (spacing, module imports etc), but errors are typically not caught until that line of the file is executed.\n",
    "\n",
    "## Benefits:\n",
    "\n",
    "- (Generally) faster development time\n",
    "- Platform independent (source)\n",
    "- Dynamic types\n",
    "\n",
    "## Drawbacks:\n",
    "\n",
    "- Speed (kind of, we will look at that in this course)\n",
    "\n"
   ]
  },
  {
   "cell_type": "markdown",
   "metadata": {
    "slideshow": {
     "slide_type": "slide"
    }
   },
   "source": [
    "# What Can Python Do?\n",
    "\n",
    "- Websites (Django, Flask, Bottle)\n",
    "- Desktop apps (Kivy, Tkinter, WxPython)\n",
    "- Mobile apps (kivy)\n",
    "- Command line tools\n",
    "\n"
   ]
  },
  {
   "cell_type": "markdown",
   "metadata": {
    "slideshow": {
     "slide_type": "slide"
    }
   },
   "source": [
    "# Python Interpreter\n",
    "\n",
    "- Open up a command prompt (terminal) and type `python`\n",
    "- POW, you are in the python interpreter. Try this:"
   ]
  },
  {
   "cell_type": "code",
   "execution_count": 6,
   "metadata": {
    "collapsed": false,
    "slideshow": {
     "slide_type": "fragment"
    }
   },
   "outputs": [
    {
     "data": {
      "text/plain": [
       "'My name is <your name here>'"
      ]
     },
     "execution_count": 6,
     "metadata": {},
     "output_type": "execute_result"
    }
   ],
   "source": [
    "\"Hello, Python\"\n",
    "\"My name is <your name here>\""
   ]
  },
  {
   "cell_type": "markdown",
   "metadata": {
    "slideshow": {
     "slide_type": "slide"
    }
   },
   "source": [
    "# REPL\n",
    "\n",
    "### What does this stand for?\n",
    "\n"
   ]
  },
  {
   "cell_type": "markdown",
   "metadata": {
    "slideshow": {
     "slide_type": "fragment"
    }
   },
   "source": [
    "## READ EVAL PRINT LOOP\n",
    "\n",
    "![repl](img/repl.png)"
   ]
  },
  {
   "cell_type": "markdown",
   "metadata": {
    "slideshow": {
     "slide_type": "slide"
    }
   },
   "source": [
    "# NOTE: Whitespace\n",
    "\n",
    "Ever used a different language with semicolons and curly braces?\n",
    "\n",
    "Python does not have that. EVERYTHING revolves around whitespace.\n",
    "\n",
    "We will cover this as we go on but be careful about spacing errors\n",
    "\n",
    "Do not worry about the code for now, but take a look at how this works:"
   ]
  },
  {
   "cell_type": "code",
   "execution_count": 4,
   "metadata": {
    "collapsed": false,
    "slideshow": {
     "slide_type": "fragment"
    }
   },
   "outputs": [
    {
     "ename": "IndentationError",
     "evalue": "expected an indented block (<ipython-input-4-4f6a00436454>, line 2)",
     "output_type": "error",
     "traceback": [
      "\u001b[0;36m  File \u001b[0;32m\"<ipython-input-4-4f6a00436454>\"\u001b[0;36m, line \u001b[0;32m2\u001b[0m\n\u001b[0;31m    print(\"bloop\")\u001b[0m\n\u001b[0m        ^\u001b[0m\n\u001b[0;31mIndentationError\u001b[0m\u001b[0;31m:\u001b[0m expected an indented block\n"
     ]
    }
   ],
   "source": [
    "for i in range(0,100):\n",
    "print(\"bloop\")"
   ]
  },
  {
   "cell_type": "code",
   "execution_count": 5,
   "metadata": {
    "collapsed": false,
    "slideshow": {
     "slide_type": "fragment"
    }
   },
   "outputs": [
    {
     "name": "stdout",
     "output_type": "stream",
     "text": [
      "bloop\n",
      "bloop\n",
      "bloop\n"
     ]
    }
   ],
   "source": [
    "for i in range(0,3):\n",
    "    print(\"bloop\")"
   ]
  },
  {
   "cell_type": "markdown",
   "metadata": {
    "slideshow": {
     "slide_type": "subslide"
    }
   },
   "source": [
    "# Python REPL\n",
    "\n",
    "When you type `python` in to your command prompt, this is the Python interpreter and it is an example of a REPL. Whatever you type is evaluated immediately and run, allowing you to write a new line.\n",
    "\n",
    "What are the benefits of this? How else can this be done?"
   ]
  },
  {
   "cell_type": "markdown",
   "metadata": {
    "slideshow": {
     "slide_type": "subslide"
    }
   },
   "source": [
    "# REPL Benefits\n",
    "\n",
    "- Rapid prototyping\n",
    "- Check it works on your system\n",
    "- Command line scripting\n",
    "- Slides, talks and demos!\n",
    "\n",
    "But we don't always want to be writing one liners in the command line, do we?"
   ]
  },
  {
   "cell_type": "markdown",
   "metadata": {
    "slideshow": {
     "slide_type": "slide"
    }
   },
   "source": [
    "# Python Scripts\n",
    "\n",
    "- Open up a text editor\n",
    "- Type `print(\"hello, world\")`\n",
    "- Save the file as `hello.py`\n",
    "- In your command prompt, run it by typing `python hello.py` in the directory it was saved in\n",
    "\n",
    "What happens?"
   ]
  },
  {
   "cell_type": "markdown",
   "metadata": {
    "slideshow": {
     "slide_type": "subslide"
    }
   },
   "source": [
    "# REPL vs Scripts\n",
    "\n",
    "What happens when you remove the print and the brackets?\n",
    "\n",
    "A REPL is designed to show you the state of things with each command. So, typing:\n",
    "`\"print me\"`\n",
    "will print that string.\n",
    "Scripts (or files) will not do this unless you tell it to. \n",
    "\n",
    "This is partly because printing to the command prompt (also called: `stdout`) is one of the slowest operations you can perform in Python!"
   ]
  },
  {
   "cell_type": "markdown",
   "metadata": {
    "slideshow": {
     "slide_type": "slide"
    }
   },
   "source": [
    "# End of Intro\n",
    "\n",
    "OK, that serves as your intro to the module. Next, let's get coding!"
   ]
  }
 ],
 "metadata": {
  "celltoolbar": "Slideshow",
  "kernelspec": {
   "display_name": "Python 3",
   "language": "python",
   "name": "python3"
  },
  "language_info": {
   "codemirror_mode": {
    "name": "ipython",
    "version": 3
   },
   "file_extension": ".py",
   "mimetype": "text/x-python",
   "name": "python",
   "nbconvert_exporter": "python",
   "pygments_lexer": "ipython3",
   "version": "3.4.3"
  }
 },
 "nbformat": 4,
 "nbformat_minor": 0
}
