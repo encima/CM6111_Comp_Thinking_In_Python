{
 "cells": [
  {
   "cell_type": "markdown",
   "metadata": {
    "nbgrader": {
     "grade": false,
     "grade_id": "q1",
     "locked": true,
     "solution": false
    }
   },
   "source": [
    "What is the difference between a method and a function?"
   ]
  },
  {
   "cell_type": "code",
   "execution_count": null,
   "metadata": {
    "collapsed": true,
    "nbgrader": {
     "grade": true,
     "grade_id": "q1_ans",
     "locked": false,
     "points": 2,
     "solution": true
    }
   },
   "outputs": [],
   "source": []
  },
  {
   "cell_type": "markdown",
   "metadata": {
    "nbgrader": {
     "grade": false,
     "grade_id": "q2",
     "locked": true,
     "solution": false
    }
   },
   "source": [
    "Convert the below variable to a string and assign to `string_var`. Assign the length of that string to: `len_var`"
   ]
  },
  {
   "cell_type": "code",
   "execution_count": 1,
   "metadata": {
    "collapsed": false,
    "nbgrader": {
     "grade": false,
     "grade_id": "q2_ans",
     "locked": false,
     "solution": true
    }
   },
   "outputs": [],
   "source": [
    "initial_var = 358645317684531432678\n"
   ]
  },
  {
   "cell_type": "markdown",
   "metadata": {
    "collapsed": true,
    "nbgrader": {
     "grade": false,
     "grade_id": "q3",
     "locked": true,
     "solution": false
    }
   },
   "source": [
    "What do we mean when we say `local` scope?"
   ]
  },
  {
   "cell_type": "markdown",
   "metadata": {
    "collapsed": true,
    "nbgrader": {
     "grade": true,
     "grade_id": "q3_ans",
     "locked": false,
     "points": 2,
     "solution": true
    }
   },
   "source": []
  },
  {
   "cell_type": "markdown",
   "metadata": {
    "collapsed": true,
    "nbgrader": {
     "grade": false,
     "grade_id": "q4",
     "locked": true,
     "solution": false
    }
   },
   "source": [
    "What will the output of the code below be? Highlight the line numbers where the scope changes."
   ]
  },
  {
   "cell_type": "code",
   "execution_count": 2,
   "metadata": {
    "collapsed": false,
    "nbgrader": {
     "grade": false,
     "grade_id": "q4_code",
     "locked": true,
     "solution": false
    }
   },
   "outputs": [
    {
     "name": "stdout",
     "output_type": "stream",
     "text": [
      "Oi, you there\n",
      "Oi, you there\n"
     ]
    }
   ],
   "source": [
    "name = \"Oi, you there\"\n",
    "\n",
    "def update_name():\n",
    "    name = \"what?\"\n",
    "    \n",
    "print(name)\n",
    "update_name()\n",
    "print(name)"
   ]
  },
  {
   "cell_type": "code",
   "execution_count": null,
   "metadata": {
    "collapsed": true,
    "nbgrader": {
     "grade": true,
     "grade_id": "q4_ans",
     "locked": false,
     "points": 4,
     "solution": true
    }
   },
   "outputs": [],
   "source": []
  },
  {
   "cell_type": "markdown",
   "metadata": {
    "collapsed": true,
    "nbgrader": {
     "grade": false,
     "grade_id": "q5",
     "locked": true,
     "solution": false
    }
   },
   "source": [
    "What would change if you added the line `global name` into the function `update_name`?"
   ]
  },
  {
   "cell_type": "code",
   "execution_count": null,
   "metadata": {
    "collapsed": true,
    "nbgrader": {
     "grade": true,
     "grade_id": "q5_ans",
     "locked": false,
     "points": 2,
     "solution": true
    }
   },
   "outputs": [],
   "source": []
  },
  {
   "cell_type": "markdown",
   "metadata": {
    "collapsed": true,
    "nbgrader": {
     "grade": false,
     "grade_id": "q6",
     "locked": true,
     "solution": false
    }
   },
   "source": [
    "Write a script below that asks a user for 2 numbers, these will not be integers by default. Pass those numbers to a function, called `power`, that returns the first argument to the power of the second. You will need to look up the symbol for `to the power of` in the Python docs"
   ]
  },
  {
   "cell_type": "code",
   "execution_count": 4,
   "metadata": {
    "collapsed": false,
    "nbgrader": {
     "grade": false,
     "grade_id": "q6_ans",
     "locked": false,
     "solution": true
    }
   },
   "outputs": [],
   "source": [
    "num_one = None\n",
    "num_two = None\n",
    "\n",
    "def power(one, two):\n",
    "    pass\n",
    "\n",
    "\n"
   ]
  },
  {
   "cell_type": "code",
   "execution_count": null,
   "metadata": {
    "collapsed": false,
    "nbgrader": {
     "grade": true,
     "grade_id": "q6_tests",
     "locked": true,
     "solution": false
    }
   },
   "outputs": [],
   "source": [
    "from nose.tools import assert_equal, assert_not_equal\n",
    "\n",
    "assert_equal(square(12,2), 144)\n",
    "assert_equal(square(50, 4), 6250000)\n",
    "assert_equal(square(2,2), 4)"
   ]
  }
 ],
 "metadata": {
  "celltoolbar": "Create Assignment",
  "kernelspec": {
   "display_name": "Python 2",
   "language": "python",
   "name": "python2"
  },
  "language_info": {
   "codemirror_mode": {
    "name": "ipython",
    "version": 2
   },
   "file_extension": ".py",
   "mimetype": "text/x-python",
   "name": "python",
   "nbconvert_exporter": "python",
   "pygments_lexer": "ipython2",
   "version": "2.7.12"
  }
 },
 "nbformat": 4,
 "nbformat_minor": 0
}
