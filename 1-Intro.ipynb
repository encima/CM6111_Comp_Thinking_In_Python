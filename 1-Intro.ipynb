{
 "cells": [
  {
   "cell_type": "markdown",
   "metadata": {
    "focus": false,
    "id": "83acb315-78a2-46ef-96f0-cc44a5cf588a",
    "slideshow": {
     "slide_type": "slide"
    }
   },
   "source": [
    "# Computational Thinking\n",
    "\n",
    "## Dr. Christopher Gwilliams\n",
    "### gwilliamsc@cardiff.ac.uk\n",
    "\n",
    "---\n",
    "\n",
    "# Computational Thinking?\n",
    "\n",
    "    Computational Thinking is the thought processes involved in formulating problems and\ttheir solutions so that the solutions are represented in a form that can be effectively\tcarried out by an information-processing agent\n",
    "    Jeannette Wing\n",
    "    \n",
    "*TL;DR*\n",
    "Problem solving by you, or a machine, in a way that is simple to reproduce\n",
    "\n",
    "---\n",
    "\n",
    "# Course Overview\n",
    "\n",
    "- Python!\n",
    "- Variables & Types\n",
    "- Types\n",
    "- Operators & Conditionals\n",
    "- Flow Control\n",
    "- Data Structures\n",
    "- Loops\n",
    "- Methods\n",
    "- Input/Output\n",
    "- Maths & Binary Arithmetic\n",
    "- Sorting Algorithms\n",
    "- Python in the Web\n",
    "\n",
    "---\n",
    "\n",
    "# Intro to Python\n"
   ]
  },
  {
   "cell_type": "code",
   "execution_count": 1,
   "metadata": {
    "collapsed": false,
    "focus": false,
    "id": "045366c1-287c-48b8-bc50-2c6ab90cb2d1",
    "slideshow": {
     "slide_type": "subslide"
    }
   },
   "outputs": [
    {
     "data": {
      "text/plain": [
       "'Hello, World'"
      ]
     },
     "execution_count": 1,
     "metadata": {},
     "output_type": "execute_result"
    }
   ],
   "source": [
    "\"Hello, World\""
   ]
  },
  {
   "cell_type": "markdown",
   "metadata": {
    "focus": true,
    "id": "1f77a691-c882-42ed-9a41-be5a9f631b7f",
    "slideshow": {
     "slide_type": "slide"
    }
   },
   "source": [
    "---\n",
    "# Why Python?\n",
    "\n",
    "- Open Source (free as in free speech)\n",
    "- Widely used (we will get to that)\n",
    "- *MASSIVE* standard library\n",
    "- Cross-platform\n",
    "- Used in Academia *and* Industry\n",
    "- Powerful yet easy to learn\n",
    "\n",
    "---\n",
    "\n",
    "# What is this Python?\n",
    "\n",
    "- Made by Guido Van Rossum in 1991\n",
    "- Continues to be overseen by him\n",
    "![Guido](https://upload.wikimedia.org/wikipedia/commons/thumb/6/66/Guido_van_Rossum_OSCON_2006.jpg/400px-Guido_van_Rossum_OSCON_2006.jpg)\n",
    "Benevolent Dictator for Life\n",
    "\n",
    "- Interpreted\n",
    "- Object-Oriented\n",
    "- Strongly-typed\n",
    "- Dynamically-typed\n",
    "\n",
    "(We will come back to these)\n",
    "\n",
    "---\n",
    "\n",
    "# Who Uses Python?\n",
    "\n",
    "- Academia (all disciplines)\n",
    "- Google (search)\n",
    "- Battlefield (Web APIs)\n",
    "- Disney (animation)\n",
    "- NASA (shuttle launch planning)\n",
    "- Instagram\n",
    "- Mozilla\n",
    "- Dropbox (EVERYTHING)\n",
    "- Government\n",
    "\n",
    "---\n",
    "\n",
    "# Python 2 vs Python 3\n",
    "\n",
    "## Python 2\n",
    "\n",
    "- Legacy \n",
    "- Largest number of libraries\n",
    "- Most code samples online\n",
    "- Will soon be at the end of its life\n",
    "\n",
    "## Python 3\n",
    "\n",
    "- Like Xbox One vs 360, it is partially backwards compatible\n",
    "- Almost a total rewrite\n",
    "- Now the standard\n",
    "- Most libraries in process of being rewritten\n",
    "\n",
    "---\n",
    "\n",
    "# How Does It Work?\n",
    "\n",
    "- Interpreted (not compiled)\n",
    "\n",
    "### Ever written in Java or C++?\n",
    "\n",
    "![Java/C++](http://new.tinygrab.com/6c24ad128714308c5720a10a748686371744350d25.png)\n",
    "### Java files compiled to Class files before they are run\n",
    "\n",
    "- Python (and others) are not compiled, they are interpreted\n",
    "- What other languages are interpreted?\n",
    "\n",
    "--- \n",
    "\n",
    "# Interpeted Languages\n",
    "\n",
    "*HIGH LEVEL OVERVIEW* Files are run line by line at runtime (no need to compile). Some checks are done before the file runs (spacing, module imports etc), but errors are typically not caught until that line of the file is executed.\n",
    "\n",
    "## Benefits:\n",
    "\n",
    "- (Generally) faster development time\n",
    "- Platform independent (source)\n",
    "- Dynamic types\n",
    "\n",
    "## Drawbacks:\n",
    "\n",
    "- Speed (kind of, we will look at that in this course)\n",
    "\n",
    "---\n",
    "\n",
    "# What Can Python Do?\n",
    "\n",
    "- Websites (Django, Flask, Bottle)\n",
    "- Desktop apps (Kivy, Tkinter, WxPython)\n",
    "- Mobile apps (kivy)\n",
    "- Command line tools\n",
    "\n",
    "---\n",
    "\n",
    "# Python Interpreter\n",
    "\n",
    "- Open up a command prompt (terminal) and type `python`\n",
    "- POW, you are in the python interpreter. Try this:\n"
   ]
  },
  {
   "cell_type": "code",
   "execution_count": 2,
   "metadata": {
    "collapsed": false,
    "slideshow": {
     "slide_type": "subslide"
    }
   },
   "outputs": [
    {
     "data": {
      "text/plain": [
       "'Hello, Python'"
      ]
     },
     "execution_count": 2,
     "metadata": {},
     "output_type": "execute_result"
    }
   ],
   "source": [
    "\"Hello, Python\""
   ]
  },
  {
   "cell_type": "markdown",
   "metadata": {
    "collapsed": false,
    "focus": false,
    "id": "87019ee3-8078-414e-8e67-6345cb79e982",
    "slideshow": {
     "slide_type": "slide"
    }
   },
   "source": [
    "--- \n",
    "\n",
    "# REPL\n",
    "What does this stand for?\n",
    "\n",
    "* Read Eval Print Loop\n",
    "\n",
    "The Python Interpreter is a REPL, here is how it works!\n",
    "\n",
    "PATH = \"/Users/encima/development/go/go-present-for-python/img/\"\n",
    "Image(filename = PATH + \"repl.png\", width=100, height=100)\n",
    "\n",
    "---\n",
    "\n",
    "# NOTE: WHITESPACE\n",
    "\n",
    "Ever used a different language with semicolons and curly braces?\n",
    "\n",
    "Python does not have that. EVERYTHING revolves around whitespace.\n",
    "\n",
    "We will cover this as we go on but be careful about spacing errors\n",
    "\n",
    ".play -numbers code/spacing.py\n",
    "\n",
    "---\n",
    "\n",
    "# Python Scripts\n",
    "\n",
    "Create a file called `hello.py`\n",
    "\n",
    "Insert `print(\"Hello World\")`\n",
    "\n",
    "Save the file\n",
    "\n",
    "In your command prompt, type `python hello.py` in the directory you saved it.\n",
    "\n",
    "What do you see?\n",
    "\n",
    "---\n",
    "\n",
    "# End of Intro\n",
    "\n",
    "Ok, that is about it. Let's Get Coding!"
   ]
  },
  {
   "cell_type": "code",
   "execution_count": 3,
   "metadata": {
    "collapsed": false
   },
   "outputs": [
    {
     "data": {
      "text/plain": [
       "\"That's all, Folks!\""
      ]
     },
     "execution_count": 3,
     "metadata": {},
     "output_type": "execute_result"
    }
   ],
   "source": [
    "\"That's all, Folks!\""
   ]
  }
 ],
 "metadata": {
  "celltoolbar": "Slideshow",
  "kernelspec": {
   "display_name": "Python 3",
   "language": "python",
   "name": "python3"
  },
  "language_info": {
   "codemirror_mode": {
    "name": "ipython",
    "version": 3
   },
   "file_extension": ".py",
   "mimetype": "text/x-python",
   "name": "python",
   "nbconvert_exporter": "python",
   "pygments_lexer": "ipython3",
   "version": "3.4.3"
  }
 },
 "nbformat": 4,
 "nbformat_minor": 0
}
