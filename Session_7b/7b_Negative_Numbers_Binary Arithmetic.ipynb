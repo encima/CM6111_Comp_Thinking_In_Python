{
 "cells": [
  {
   "cell_type": "markdown",
   "metadata": {
    "collapsed": true,
    "slideshow": {
     "slide_type": "slide"
    }
   },
   "source": [
    "# Negative Numbers\n",
    "\n",
    "This works for all positive numbers but how do we show negative numbers?\n",
    "\n"
   ]
  },
  {
   "cell_type": "markdown",
   "metadata": {
    "collapsed": true,
    "slideshow": {
     "slide_type": "subslide"
    }
   },
   "source": [
    "## Sign and Magnitude\n",
    "\n",
    "The simpler method is to reserve the leftmost bit to indicate the sign: `0` for positive and `1` for negative.\n"
   ]
  },
  {
   "cell_type": "markdown",
   "metadata": {
    "collapsed": true,
    "slideshow": {
     "slide_type": "fragment"
    }
   },
   "source": [
    "0010 = 2\n",
    "\n",
    "1010 = -2\n",
    "\n",
    "1111 = -7"
   ]
  },
  {
   "cell_type": "markdown",
   "metadata": {
    "collapsed": true,
    "slideshow": {
     "slide_type": "subslide"
    }
   },
   "source": [
    "## One's Complement\n",
    "\n",
    "This method involves creating the inverse of the binary representation after it has been converted.\n",
    "\n",
    "### Example\n",
    "\n",
    "Represent the decimal value -14 in binary using One's Complement:\n",
    "\n",
    "#### Step 1 - Convert 14 to binary\n",
    "1110"
   ]
  },
  {
   "cell_type": "markdown",
   "metadata": {
    "collapsed": true,
    "slideshow": {
     "slide_type": "fragment"
    }
   },
   "source": [
    "#### Step 2 -  Flip all the bits (only do this if the number is negative)\n",
    "0001"
   ]
  },
  {
   "cell_type": "markdown",
   "metadata": {
    "collapsed": true,
    "slideshow": {
     "slide_type": "slide"
    }
   },
   "source": [
    "### Exercise\n",
    "\n",
    "Using sign and magnitude, what are the decimal representations of these numbers?\n",
    "* 0010\n",
    "* 1110\n",
    "* 1100\n",
    "* 10001\n",
    "\n",
    "Using one's complement, convert these values between decimal or binary, based on their original format:\n",
    "\n",
    "* 8\n",
    "* -18\n",
    "* 4\n",
    "* 1011"
   ]
  },
  {
   "cell_type": "markdown",
   "metadata": {
    "collapsed": true,
    "slideshow": {
     "slide_type": "skip"
    }
   },
   "source": [
    "* 2\n",
    "* -6\n",
    "* -4\n",
    "* -1\n",
    "\n",
    "\n",
    "* 1000\n",
    "* 10010 = binary\n",
    "    * 101101 = one's complement\n",
    "* 0100\n",
    "* -4\n",
    "\n"
   ]
  },
  {
   "cell_type": "markdown",
   "metadata": {
    "collapsed": true,
    "slideshow": {
     "slide_type": "slide"
    }
   },
   "source": [
    "## 2's Complement\n",
    "\n",
    "Two's complement is designed to make arithmetic with binary much easier, and is another way of storing signed binary numbers. The conversion process builds on from one's complement. \n",
    "\n",
    "The negative number will have a one at the leftmost bit, so be sure to add bits to allow this\n",
    "\n",
    "### Example: -3 in 2's complement\n",
    "\n",
    "#### Step 1: Convert to decimal (stop here if the number is positive)\n",
    "0011"
   ]
  },
  {
   "cell_type": "markdown",
   "metadata": {
    "slideshow": {
     "slide_type": "subslide"
    }
   },
   "source": [
    "#### Step 3: Perform one's complement\n",
    "1100"
   ]
  },
  {
   "cell_type": "markdown",
   "metadata": {
    "slideshow": {
     "slide_type": "fragment"
    }
   },
   "source": [
    "### Step 4: Add 1 to the result and show the binary representation:\n",
    "1101 is -3 in 2's complement"
   ]
  },
  {
   "cell_type": "markdown",
   "metadata": {
    "slideshow": {
     "slide_type": "subslide"
    }
   },
   "source": [
    "### Exercise\n",
    "\n",
    "Show the two's complement representation of these numbers:\n",
    "* 3\n",
    "* -10\n",
    "* -8\n",
    "\n",
    "Convert these two's complement numbers back to their decimal representation:\n",
    "* 1001\n",
    "* 0011\n",
    "* 11011\n"
   ]
  },
  {
   "cell_type": "markdown",
   "metadata": {
    "slideshow": {
     "slide_type": "skip"
    }
   },
   "source": [
    "* 0011\n",
    "* 01010\n",
    "    * 10101 - one's\n",
    "    * 10110 - two's\n",
    "* 01000\n",
    "    * 10111 - one's\n",
    "    * 11000 - two's\n",
    "\n",
    "* -7\n",
    "* 3\n",
    "* -5\n",
    "\n",
    "[Conversion](http://planetcalc.com/747/)"
   ]
  },
  {
   "cell_type": "markdown",
   "metadata": {
    "slideshow": {
     "slide_type": "slide"
    }
   },
   "source": [
    "# Binary Arithmetic\n",
    "\n",
    "Binary arithmetic is much like standard arithmetic and you will probably recognise the methods from how you performed arithmetic in school. The below example is addition of unsigned binary numbers:\n",
    "\n",
    "| Decimal | Binary |\n",
    "|---------|--------|\n",
    "| 4       | 0100   |\n",
    "| + 2     | 0010   |\n",
    "| ---     | ---    |\n",
    "| 6       | 0110   |"
   ]
  },
  {
   "cell_type": "markdown",
   "metadata": {
    "slideshow": {
     "slide_type": "subslide"
    }
   },
   "source": [
    "# Binary Arithmetic\n",
    "\n",
    "In this example, we see that we need to carry the bit across.\n",
    "\n",
    "So, where 1 appears in both columns, the result becomes 0 and the 1 is carried over to the next column to the left\n",
    "\n",
    "| Decimal | Binary      |\n",
    "|---------|-------------|\n",
    "| 4       | 0100        |\n",
    "| + 6     | 0110        |\n",
    "| ---     | --- (carry) |\n",
    "| 10      | 1010        |"
   ]
  },
  {
   "cell_type": "markdown",
   "metadata": {
    "slideshow": {
     "slide_type": "slide"
    }
   },
   "source": [
    "# Subtraction \n",
    "## Or: Adding Negative Numbers\n",
    "\n",
    "How do I calculate `32 - 12` in binary? \n",
    "\n",
    "Sure, I could convert to decimal and then convert back, but this is less than ideal.\n",
    "\n",
    "This is where Two's Complement is vital. "
   ]
  },
  {
   "cell_type": "markdown",
   "metadata": {
    "slideshow": {
     "slide_type": "fragment"
    }
   },
   "source": [
    "`32 - 12` can become `32 + (-12)`\n",
    "\n",
    "### Step 1: 32 in binary\n",
    "\n",
    "0010 0000\n",
    "\n",
    "### Step 2: 12 in binary\n",
    "\n",
    "0000 1100"
   ]
  },
  {
   "cell_type": "markdown",
   "metadata": {
    "slideshow": {
     "slide_type": "subslide"
    }
   },
   "source": [
    "### Step 3: Two's complement of 12\n",
    "\n",
    "1111 0011\n",
    "\n",
    "Add one:\n",
    "\n",
    "1111 0100"
   ]
  },
  {
   "cell_type": "markdown",
   "metadata": {
    "slideshow": {
     "slide_type": "fragment"
    }
   },
   "source": [
    "### Step 4: Subtract\n",
    "\n",
    "| Decimal | Binary      |\n",
    "|---------|-------------|\n",
    "| 32      | 0010 0000   |\n",
    "| + -12   | 1111 0100   |\n",
    "| ---     | --- (carry) |\n",
    "| 20      | 001  0100   |\n"
   ]
  },
  {
   "cell_type": "markdown",
   "metadata": {},
   "source": [
    "# Another Way\n",
    "\n",
    "| Decimal | Binary      |\n",
    "|---------|-------------|\n",
    "| 13      | 0000 1101   |\n",
    "| -6      | 0000 0110   |\n",
    "| ---     | ---         |\n",
    "| 20      | 0000 0111   |\n",
    "|         | 0000 00B0   |\n",
    "                   \n",
    "B - Borrow      \n",
    "\n",
    "[Animated example](http://courses.cs.vt.edu/~cs1104/BuildingBlocks/arithmetic.030.html)"
   ]
  },
  {
   "cell_type": "markdown",
   "metadata": {
    "slideshow": {
     "slide_type": "slide"
    }
   },
   "source": [
    "![kimmy](img/kimmy.gif)\n",
    "\n",
    "### Exercise\n",
    "\n",
    "Do exercise sheet on LC"
   ]
  }
 ],
 "metadata": {
  "celltoolbar": "Slideshow",
  "kernelspec": {
   "display_name": "Python 2",
   "language": "python",
   "name": "python2"
  },
  "language_info": {
   "codemirror_mode": {
    "name": "ipython",
    "version": 2
   },
   "file_extension": ".py",
   "mimetype": "text/x-python",
   "name": "python",
   "nbconvert_exporter": "python",
   "pygments_lexer": "ipython2",
   "version": "2.7.12"
  },
  "nav_menu": {},
  "toc": {
   "navigate_menu": true,
   "number_sections": true,
   "sideBar": true,
   "threshold": 6,
   "toc_cell": false,
   "toc_section_display": "block",
   "toc_window_display": true
  }
 },
 "nbformat": 4,
 "nbformat_minor": 0
}
