{
 "cells": [
  {
   "cell_type": "markdown",
   "metadata": {
    "slideshow": {
     "slide_type": "slide"
    }
   },
   "source": [
    "# Input, Ouput, Formatting Strings and Imports\n",
    "\n",
    "## Dr. Chris Gwilliams\n",
    "\n",
    "### gwilliamsc@cardiff.ac.uk"
   ]
  },
  {
   "cell_type": "markdown",
   "metadata": {
    "slideshow": {
     "slide_type": "slide"
    }
   },
   "source": [
    "# So Far and Overview\n",
    "\n",
    "- Output (we have covered this with the `print` statement\n",
    "- String formatting\n",
    "- Input (how do we get user input)\n",
    "- Casting types\n",
    "\n",
    "- the `import` keyword\n",
    "- the standard library in Python\n",
    "- Running scripts with command line input\n",
    "\n",
    "- easy_install and pip\n"
   ]
  },
  {
   "cell_type": "markdown",
   "metadata": {
    "slideshow": {
     "slide_type": "slide"
    }
   },
   "source": [
    "# Standard Output\n",
    "\n",
    "The last few sessions have seen us printing to the screen like maniacs. \n",
    "\n",
    "We have printed variables, literals and a few different types.\n",
    "```python\n",
    "print(\"hello\")\n",
    "name = \"Chris\"\n",
    "print(name)\n",
    "```\n",
    "When I introduced strings, we saw there are a few different ways to write them, the same is true for formatting a string."
   ]
  },
  {
   "cell_type": "markdown",
   "metadata": {
    "slideshow": {
     "slide_type": "subslide"
    }
   },
   "source": [
    "Just printing a variable to the screen is a terrible idea, especially if you are using print statements to debug your code"
   ]
  },
  {
   "cell_type": "code",
   "execution_count": 2,
   "metadata": {
    "collapsed": false,
    "slideshow": {
     "slide_type": "fragment"
    }
   },
   "outputs": [
    {
     "name": "stdout",
     "output_type": "stream",
     "text": [
      "bob\n",
      "bob\n",
      "bobbobbobbobbobbobbobbobbobbob\n"
     ]
    }
   ],
   "source": [
    "name = \"bob\"\n",
    "print(name)\n",
    "name * 5\n",
    "print(name)\n",
    "print(name * 10) #This output is kinda useless, right?"
   ]
  },
  {
   "cell_type": "code",
   "execution_count": 4,
   "metadata": {
    "collapsed": false,
    "slideshow": {
     "slide_type": "subslide"
    }
   },
   "outputs": [
    {
     "name": "stdout",
     "output_type": "stream",
     "text": [
      "Name is equal tobob\n",
      "Name has been multiplied by 5 and is now equal to bobbobbobbobbob\n"
     ]
    }
   ],
   "source": [
    "name = \"bob\"\n",
    "print(\"Name is equal to \" + name)\n",
    "name *= 5\n",
    "print(\"Name has been multiplied by 5 and is now equal to \" + name) #slightly more informative"
   ]
  },
  {
   "cell_type": "markdown",
   "metadata": {
    "slideshow": {
     "slide_type": "fragment"
    }
   },
   "source": [
    "A bit of a contrived example but you can see how this is useful\n",
    "\n",
    "### Exercise\n",
    "\n",
    "Try writing the above example with a variable with the value `11` \n",
    "\n",
    "What happens?"
   ]
  },
  {
   "cell_type": "markdown",
   "metadata": {
    "slideshow": {
     "slide_type": "slide"
    }
   },
   "source": [
    "# Methods\n",
    "\n",
    "Methods are functions that are attached to objects. While we call a function like this:\n",
    "\n",
    "`function(argument1, argument2)`\n",
    "\n",
    "Methods are called like this:\n",
    "\n",
    "`object.method(argument1, argument2)`\n",
    "\n",
    "Objects in Python have methods attached to them that you can use. Let's learn about methods attached to strings!"
   ]
  },
  {
   "cell_type": "markdown",
   "metadata": {
    "slideshow": {
     "slide_type": "slide"
    }
   },
   "source": [
    "# String Formatting\n",
    "\n",
    "Creating a string like this:\n",
    "\n",
    "```python\n",
    "bit_to_add = \"something else\"\n",
    "my_string = \"something something \" + bit_to_add + \" blah blah blah\"\n",
    "```\n",
    "\n",
    "This is the more basic way of handling strings and it means we have to deal with different types (that we will cover later in the session)"
   ]
  },
  {
   "cell_type": "markdown",
   "metadata": {
    "slideshow": {
     "slide_type": "slide"
    }
   },
   "source": [
    "# `.format`\n",
    "\n",
    "Python now has support to do something commonly known as string formatting.\n",
    "\n",
    "Format is a method (we will learn about these as a concept later) built into the `string` type that allows you to specify what it contains."
   ]
  },
  {
   "cell_type": "code",
   "execution_count": 6,
   "metadata": {
    "collapsed": false,
    "slideshow": {
     "slide_type": "fragment"
    }
   },
   "outputs": [
    {
     "name": "stdout",
     "output_type": "stream",
     "text": [
      "My name is Fred\n",
      "My name is 4\n",
      "My name is True\n"
     ]
    }
   ],
   "source": [
    "print(\"My name is {0}\".format('Fred'))\n",
    "print(\"My name is {0}\".format(4))\n",
    "print(\"My name is {0}\".format(True)) # format does not care about types"
   ]
  },
  {
   "cell_type": "markdown",
   "metadata": {
    "collapsed": true,
    "slideshow": {
     "slide_type": "slide"
    }
   },
   "source": [
    "# Zero-Index\n",
    "\n",
    "The 0 in the curly braces refers to the number of arguments for the format method. How many arguments do you see in the format method?\n",
    "\n"
   ]
  },
  {
   "cell_type": "markdown",
   "metadata": {
    "collapsed": true,
    "slideshow": {
     "slide_type": "fragment"
    }
   },
   "source": [
    "Many languages start at a zero index, this means that when you have 10 elements, their `index` ranges from 0 to 9. (We will see this in more detail when we come to `lists` in Python)"
   ]
  },
  {
   "cell_type": "code",
   "execution_count": null,
   "metadata": {
    "collapsed": true,
    "slideshow": {
     "slide_type": "fragment"
    }
   },
   "outputs": [],
   "source": [
    "```python\n",
    "INDEX:    0 | 1 | 2 | 3 | 4 | 5 | 6 | 7 | 8 | 9 | \n",
    "ELEMENT: \"a\"|\"b\"|\"c\"|\"d\"|\"e\"|\"f\"|\"g\"|\"h\"|\"i\"|\"j\"|\n",
    "```"
   ]
  },
  {
   "cell_type": "markdown",
   "metadata": {
    "collapsed": true,
    "slideshow": {
     "slide_type": "subslide"
    }
   },
   "source": [
    "### Exercise\n",
    "\n",
    "`\"Never {0} give you {1}, Never {2} let you {3}\".format(\"gonna\", \"up\", \"gonna\", \"down\")`\n",
    "\n",
    "- How many arguments are in the formatted string method above?\n",
    "- What is the index of the last argument?\n",
    "- Do you think this could be written better?"
   ]
  },
  {
   "cell_type": "code",
   "execution_count": null,
   "metadata": {
    "collapsed": true,
    "slideshow": {
     "slide_type": "fragment"
    }
   },
   "outputs": [],
   "source": [
    "`\"Never {0} give you {1}, Never {0} let you {2}\".format(\"gonna\", \"up\", \"down\")`\n",
    "\n",
    "We can reuse arguments by referring to their index here!"
   ]
  },
  {
   "cell_type": "markdown",
   "metadata": {
    "collapsed": true,
    "slideshow": {
     "slide_type": "subslide"
    }
   },
   "source": [
    "### Exercise\n",
    "\n",
    "Given the following string and arguments, complete the format method so they match the famous MeatLoaf song. \n",
    "\n",
    "Note: You do not have to use all of the arguments!\n",
    "\n",
    "- `I would {0} {1} for {2} but I won't {0} {3}`     - `food`\n",
    "- `climb`                                           - `love`\n",
    "- `swim`                                            - `drive`\n",
    "- `Everest`                                         - `that`\n",
    "- `do`                                              - `sleep`\n",
    "- `kill`                                            - `truck`\n",
    "- `something`                                       - `sausage`\n",
    "- `eat`\n",
    "- `anything`"
   ]
  },
  {
   "cell_type": "markdown",
   "metadata": {
    "collapsed": true,
    "slideshow": {
     "slide_type": "slide"
    }
   },
   "source": [
    "# Methods vs Functions\n",
    "\n",
    "We have introduced both methods and functions so far, and we will cover them in more detail as the course progresses, but what is the difference?\n",
    "\n",
    "Functions are blocks of code to perform some operations and provide an output\n",
    "\n",
    "Methods are attached to objects\n"
   ]
  },
  {
   "cell_type": "markdown",
   "metadata": {
    "slideshow": {
     "slide_type": "subslide"
    }
   },
   "source": [
    "### Exercise\n",
    "\n",
    "Which of the calls below are methods or functions?"
   ]
  },
  {
   "cell_type": "code",
   "execution_count": null,
   "metadata": {
    "collapsed": true,
    "slideshow": {
     "slide_type": "fragment"
    }
   },
   "outputs": [],
   "source": [
    "my_string = \"Super Cool Words\"\n",
    "print(len(my_string))\n",
    "print(\"super cool {0}\".format(\"words\"))\n",
    "print(my_string.lower())\n",
    "print(type(my_string))\n",
    "print(my_string.upper())\n",
    "print(int(my_string))"
   ]
  },
  {
   "cell_type": "markdown",
   "metadata": {
    "collapsed": true,
    "slideshow": {
     "slide_type": "fragment"
    }
   },
   "source": [
    "- function\n",
    "- method\n",
    "- method\n",
    "- function\n",
    "- method\n",
    "- function"
   ]
  },
  {
   "cell_type": "markdown",
   "metadata": {
    "slideshow": {
     "slide_type": "slide"
    }
   },
   "source": [
    "# The Input Function\n",
    "\n",
    "We can output information using the `print` function, but what if we want the user to put in some information? This is where we use the `input` function."
   ]
  },
  {
   "cell_type": "code",
   "execution_count": 2,
   "metadata": {
    "collapsed": false,
    "slideshow": {
     "slide_type": "fragment"
    }
   },
   "outputs": [
    {
     "name": "stdout",
     "output_type": "stream",
     "text": [
      "Enter your name here: \n",
      "test\n",
      "Hello test\n",
      "Enter your year of birth here:\n",
      "1990\n"
     ]
    },
    {
     "ename": "TypeError",
     "evalue": "unsupported operand type(s) for -: 'int' and 'str'",
     "output_type": "error",
     "traceback": [
      "\u001b[0;31m---------------------------------------------------------------------------\u001b[0m",
      "\u001b[0;31mTypeError\u001b[0m                                 Traceback (most recent call last)",
      "\u001b[0;32m<ipython-input-2-454f1c6b8a75>\u001b[0m in \u001b[0;36m<module>\u001b[0;34m()\u001b[0m\n\u001b[1;32m      4\u001b[0m \u001b[0mprint\u001b[0m\u001b[0;34m(\u001b[0m\u001b[0;34m\"Enter your year of birth here:\"\u001b[0m\u001b[0;34m)\u001b[0m\u001b[0;34m\u001b[0m\u001b[0m\n\u001b[1;32m      5\u001b[0m \u001b[0myob\u001b[0m \u001b[0;34m=\u001b[0m \u001b[0minput\u001b[0m\u001b[0;34m(\u001b[0m\u001b[0;34m)\u001b[0m\u001b[0;34m\u001b[0m\u001b[0m\n\u001b[0;32m----> 6\u001b[0;31m \u001b[0mprint\u001b[0m\u001b[0;34m(\u001b[0m\u001b[0;36m2016\u001b[0m\u001b[0;34m-\u001b[0m\u001b[0myob\u001b[0m\u001b[0;34m)\u001b[0m\u001b[0;34m\u001b[0m\u001b[0m\n\u001b[0m",
      "\u001b[0;31mTypeError\u001b[0m: unsupported operand type(s) for -: 'int' and 'str'"
     ]
    }
   ],
   "source": [
    "print(\"Enter your name here: \")\n",
    "name = input()\n",
    "print(\"Hello {0}\".format(name))\n",
    "print(\"Enter your year of birth here:\")\n",
    "yob = input()\n",
    "print(2016-yob) #what happens here?"
   ]
  },
  {
   "cell_type": "markdown",
   "metadata": {
    "collapsed": true,
    "slideshow": {
     "slide_type": "slide"
    }
   },
   "source": [
    "# Casting Types\n",
    "\n",
    "We can instantiate a variable to be of a particular type, and we can change the type by changing the value assigned, like so:"
   ]
  },
  {
   "cell_type": "code",
   "execution_count": null,
   "metadata": {
    "collapsed": true,
    "slideshow": {
     "slide_type": "fragment"
    }
   },
   "outputs": [],
   "source": [
    "pet_name = \"Mr. Woofington\"\n",
    "print(pet_name)\n",
    "pet_name = 14055\n",
    "print(pet_name)"
   ]
  },
  {
   "cell_type": "code",
   "execution_count": null,
   "metadata": {
    "collapsed": true
   },
   "outputs": [],
   "source": []
  },
  {
   "cell_type": "code",
   "execution_count": null,
   "metadata": {
    "collapsed": true
   },
   "outputs": [],
   "source": []
  },
  {
   "cell_type": "code",
   "execution_count": null,
   "metadata": {
    "collapsed": true
   },
   "outputs": [],
   "source": []
  },
  {
   "cell_type": "code",
   "execution_count": null,
   "metadata": {
    "collapsed": true
   },
   "outputs": [],
   "source": []
  },
  {
   "cell_type": "code",
   "execution_count": null,
   "metadata": {
    "collapsed": true
   },
   "outputs": [],
   "source": []
  },
  {
   "cell_type": "code",
   "execution_count": null,
   "metadata": {
    "collapsed": true
   },
   "outputs": [],
   "source": []
  },
  {
   "cell_type": "code",
   "execution_count": null,
   "metadata": {
    "collapsed": true
   },
   "outputs": [],
   "source": []
  },
  {
   "cell_type": "code",
   "execution_count": null,
   "metadata": {
    "collapsed": true
   },
   "outputs": [],
   "source": []
  },
  {
   "cell_type": "code",
   "execution_count": null,
   "metadata": {
    "collapsed": true
   },
   "outputs": [],
   "source": []
  },
  {
   "cell_type": "code",
   "execution_count": null,
   "metadata": {
    "collapsed": true
   },
   "outputs": [],
   "source": []
  },
  {
   "cell_type": "code",
   "execution_count": null,
   "metadata": {
    "collapsed": true
   },
   "outputs": [],
   "source": []
  },
  {
   "cell_type": "code",
   "execution_count": null,
   "metadata": {
    "collapsed": true
   },
   "outputs": [],
   "source": []
  }
 ],
 "metadata": {
  "celltoolbar": "Slideshow",
  "kernelspec": {
   "display_name": "Python 3",
   "language": "python",
   "name": "python3"
  },
  "language_info": {
   "codemirror_mode": {
    "name": "ipython",
    "version": 3
   },
   "file_extension": ".py",
   "mimetype": "text/x-python",
   "name": "python",
   "nbconvert_exporter": "python",
   "pygments_lexer": "ipython3",
   "version": "3.4.3"
  }
 },
 "nbformat": 4,
 "nbformat_minor": 0
}
