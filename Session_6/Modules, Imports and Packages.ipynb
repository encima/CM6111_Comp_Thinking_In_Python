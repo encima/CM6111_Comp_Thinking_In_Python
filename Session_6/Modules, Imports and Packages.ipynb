{
 "cells": [
  {
   "cell_type": "code",
   "execution_count": 1,
   "metadata": {
    "collapsed": false,
    "slideshow": {
     "slide_type": "skip"
    }
   },
   "outputs": [
    {
     "data": {
      "text/plain": [
       "{'start_slideshow_at': 'selected', 'theme': 'solarized', 'transition': 'zoom'}"
      ]
     },
     "execution_count": 1,
     "metadata": {},
     "output_type": "execute_result"
    }
   ],
   "source": [
    "from notebook.services.config import ConfigManager\n",
    "from IPython.paths import locate_profile\n",
    "cm = ConfigManager(profile_dir=locate_profile(get_ipython().profile))\n",
    "cm.update('livereveal', {\n",
    "              'theme': 'solarized',\n",
    "              'transition': 'zoom',\n",
    "              'start_slideshow_at': 'selected',\n",
    "})"
   ]
  },
  {
   "cell_type": "markdown",
   "metadata": {
    "slideshow": {
     "slide_type": "slide"
    }
   },
   "source": [
    "# Modules, Imports and Packages\n",
    "\n",
    "## Dr. Chris Gwilliams\n",
    "\n",
    "### gwilliamsc@cardiff.ac.uk"
   ]
  },
  {
   "cell_type": "markdown",
   "metadata": {
    "slideshow": {
     "slide_type": "slide"
    }
   },
   "source": [
    "# Python Modules\n",
    "\n",
    "We have seen that there are many things one can do using Python, but this barely touches the surface. \n",
    "\n",
    "Python uses modules (a.ka. libraries) to extend the basic functionality and we have 3 ways of doing this:"
   ]
  },
  {
   "cell_type": "markdown",
   "metadata": {
    "slideshow": {
     "slide_type": "subslide"
    }
   },
   "source": [
    "# Standard Modules\n",
    "\n",
    "These are modules built into the `Python Standard Library`, similar to the built in functions (`type`, `len`) that we have been using.\n",
    "\n",
    "The majority of them are listed [here](https://docs.python.org/3/library/index.html)"
   ]
  },
  {
   "cell_type": "markdown",
   "metadata": {
    "slideshow": {
     "slide_type": "subslide"
    }
   },
   "source": [
    "### Exercise\n",
    "\n",
    "Follow the link in the previous slide and find the documentation for the `random` module."
   ]
  },
  {
   "cell_type": "markdown",
   "metadata": {
    "slideshow": {
     "slide_type": "subslide"
    }
   },
   "source": [
    "# External Modules\n",
    "\n",
    "These are libraries, written by developers (like you), that extend the functionality of Python. They do things like:\n",
    "- Web Scraping\n",
    "- Network Visualisation\n",
    "- Neural Networks\n",
    "- Gaming\n",
    "\n",
    "We will cover these a bit later in the course."
   ]
  },
  {
   "cell_type": "markdown",
   "metadata": {
    "slideshow": {
     "slide_type": "subslide"
    }
   },
   "source": [
    "# Local Modules\n",
    "\n",
    "These are `.py` within your file system and we will look at these later on in the session.\n",
    "\n",
    "DO NOT EVER SAVE A SCRIPT WITH THE SAME NAME AS A MODULE YOU USE"
   ]
  },
  {
   "cell_type": "markdown",
   "metadata": {
    "collapsed": true,
    "slideshow": {
     "slide_type": "slide"
    }
   },
   "source": [
    "# `import` statements\n",
    "\n",
    "A Python script is, typically, made up of three things at the high level:\n",
    "\n",
    "1. `import` - modules you can use within your code\n",
    "2. Executable code - the code you have written\n",
    "3. Comments - ignored by the interpreter"
   ]
  },
  {
   "cell_type": "code",
   "execution_count": 3,
   "metadata": {
    "collapsed": false,
    "slideshow": {
     "slide_type": "subslide"
    }
   },
   "outputs": [
    {
     "data": {
      "text/plain": [
       "['BPF',\n",
       " 'LOG4',\n",
       " 'NV_MAGICCONST',\n",
       " 'RECIP_BPF',\n",
       " 'Random',\n",
       " 'SG_MAGICCONST',\n",
       " 'SystemRandom',\n",
       " 'TWOPI',\n",
       " '_BuiltinMethodType',\n",
       " '_MethodType',\n",
       " '_Sequence',\n",
       " '_Set',\n",
       " '__all__',\n",
       " '__builtins__',\n",
       " '__cached__',\n",
       " '__doc__',\n",
       " '__file__',\n",
       " '__loader__',\n",
       " '__name__',\n",
       " '__package__',\n",
       " '__spec__',\n",
       " '_acos',\n",
       " '_ceil',\n",
       " '_cos',\n",
       " '_e',\n",
       " '_exp',\n",
       " '_inst',\n",
       " '_log',\n",
       " '_pi',\n",
       " '_random',\n",
       " '_sha512',\n",
       " '_sin',\n",
       " '_sqrt',\n",
       " '_test',\n",
       " '_test_generator',\n",
       " '_urandom',\n",
       " '_warn',\n",
       " 'betavariate',\n",
       " 'choice',\n",
       " 'expovariate',\n",
       " 'gammavariate',\n",
       " 'gauss',\n",
       " 'getrandbits',\n",
       " 'getstate',\n",
       " 'lognormvariate',\n",
       " 'normalvariate',\n",
       " 'paretovariate',\n",
       " 'randint',\n",
       " 'random',\n",
       " 'randrange',\n",
       " 'sample',\n",
       " 'seed',\n",
       " 'setstate',\n",
       " 'shuffle',\n",
       " 'triangular',\n",
       " 'uniform',\n",
       " 'vonmisesvariate',\n",
       " 'weibullvariate']"
      ]
     },
     "execution_count": 3,
     "metadata": {},
     "output_type": "execute_result"
    }
   ],
   "source": [
    "import random\n",
    "\n",
    "dir(random)"
   ]
  },
  {
   "cell_type": "markdown",
   "metadata": {
    "collapsed": true,
    "slideshow": {
     "slide_type": "subslide"
    }
   },
   "source": [
    "### Exercise\n",
    "\n",
    "Using the dir method (and the documentation), import the random module and generate a random number between 42 and 749."
   ]
  },
  {
   "cell_type": "code",
   "execution_count": 4,
   "metadata": {
    "collapsed": false,
    "slideshow": {
     "slide_type": "skip"
    }
   },
   "outputs": [
    {
     "name": "stdout",
     "output_type": "stream",
     "text": [
      "480\n"
     ]
    }
   ],
   "source": [
    "import random #import section\n",
    "\n",
    "print(random.randrange(42,749)) #code section"
   ]
  },
  {
   "cell_type": "code",
   "execution_count": 5,
   "metadata": {
    "collapsed": false,
    "slideshow": {
     "slide_type": "subslide"
    }
   },
   "outputs": [
    {
     "name": "stdout",
     "output_type": "stream",
     "text": [
      "101\n"
     ]
    }
   ],
   "source": [
    "from random import randrange\n",
    "\n",
    "print(randrange(10,300))"
   ]
  },
  {
   "cell_type": "markdown",
   "metadata": {
    "slideshow": {
     "slide_type": "slide"
    }
   },
   "source": [
    "# Modules and Packages\n",
    "\n",
    "A **Python module** is just a `.py` file, which you can import directly.\n",
    "\n",
    "`import config` (relates to config.py somewhere on your system)\n",
    "\n",
    "A package is a collection of Python modules that you can import all of, or just import the modules you want. For example:\n",
    "\n",
    "`import random` (all modules in random package)\n",
    "\n",
    "`from random import randint` (importing module from packages)"
   ]
  },
  {
   "cell_type": "markdown",
   "metadata": {
    "collapsed": true,
    "slideshow": {
     "slide_type": "subslide"
    }
   },
   "source": [
    "# Import dos and don'ts\n",
    "\n",
    "You can (and will) import many modules in one script, PEP asks that you follow this structure:\n",
    "\n",
    "```python\n",
    "import standard_library_modules\n",
    "import external_library_modules\n",
    "import local_modules\n",
    "```\n",
    "\n",
    "More info on this and other styles can be found [here](http://pep8.org/)"
   ]
  },
  {
   "cell_type": "markdown",
   "metadata": {
    "slideshow": {
     "slide_type": "subslide"
    }
   },
   "source": [
    "You will also see that some people will import multiple modules in one line:\n",
    "\n",
    "`import os, sys, csv, math, random`\n",
    "\n",
    "**Do not do this, it makes your code hard to read and modularise**\n",
    "\n",
    "However, it is **good** to import multiple modules from the same package in one line:\n",
    "\n",
    "`from random import randrange, randint`\n",
    "\n"
   ]
  },
  {
   "cell_type": "markdown",
   "metadata": {
    "collapsed": true,
    "slideshow": {
     "slide_type": "slide"
    }
   },
   "source": [
    "# Writing Your Own Local Modules\n",
    "\n",
    "### Exercise\n",
    "\n",
    "Create a file and call it `city.py`.\n",
    "\n",
    "Put some variables in there that describe a city of your choice (size, population, country etc)\n",
    "\n",
    "Now, create a file and call it `main.py`.\n",
    "\n",
    "Import your `city.py` file and print out the city information with formatted strings. \n",
    "\n",
    "https://gitlab.cs.cf.ac.uk/scm7cg/cm6111_python_modules/tree/master"
   ]
  },
  {
   "cell_type": "code",
   "execution_count": 2,
   "metadata": {
    "collapsed": false,
    "slideshow": {
     "slide_type": "subslide"
    }
   },
   "outputs": [
    {
     "ename": "ImportError",
     "evalue": "No module named city",
     "output_type": "error",
     "traceback": [
      "\u001b[0;31m---------------------------------------------------------------------------\u001b[0m",
      "\u001b[0;31mImportError\u001b[0m                               Traceback (most recent call last)",
      "\u001b[0;32m<ipython-input-2-24c84227b539>\u001b[0m in \u001b[0;36m<module>\u001b[0;34m()\u001b[0m\n\u001b[0;32m----> 1\u001b[0;31m \u001b[0;32mimport\u001b[0m \u001b[0mcity\u001b[0m\u001b[0;34m\u001b[0m\u001b[0m\n\u001b[0m\u001b[1;32m      2\u001b[0m \u001b[0;34m\u001b[0m\u001b[0m\n\u001b[1;32m      3\u001b[0m \u001b[0;32mprint\u001b[0m\u001b[0;34m(\u001b[0m\u001b[0mcity\u001b[0m\u001b[0;34m.\u001b[0m\u001b[0mname\u001b[0m\u001b[0;34m)\u001b[0m\u001b[0;34m\u001b[0m\u001b[0m\n\u001b[1;32m      4\u001b[0m \u001b[0;32mprint\u001b[0m\u001b[0;34m(\u001b[0m\u001b[0;34m\"This city has {0} people\"\u001b[0m\u001b[0;34m.\u001b[0m\u001b[0mformat\u001b[0m\u001b[0;34m(\u001b[0m\u001b[0mcity\u001b[0m\u001b[0;34m.\u001b[0m\u001b[0mpop\u001b[0m\u001b[0;34m)\u001b[0m\u001b[0;34m)\u001b[0m\u001b[0;34m\u001b[0m\u001b[0m\n\u001b[1;32m      5\u001b[0m \u001b[0;34m\u001b[0m\u001b[0m\n",
      "\u001b[0;31mImportError\u001b[0m: No module named city"
     ]
    }
   ],
   "source": [
    "import city\n",
    "\n",
    "print(city.name)\n",
    "print(\"This city has {0} people\".format(city.pop))\n",
    "\n"
   ]
  },
  {
   "cell_type": "markdown",
   "metadata": {
    "slideshow": {
     "slide_type": "slide"
    }
   },
   "source": [
    "# Installing packages\n",
    "\n",
    "Ever used `aptitude` or `yum` on Linux? These are package managers that allow you to extend the functionality of the system you are using. Python has these, in the form of `pip` and `easy_install`.\n",
    "\n",
    "### Exercise\n",
    "\n",
    "Which one of these should you use? (Cite your sources)"
   ]
  },
  {
   "cell_type": "markdown",
   "metadata": {
    "slideshow": {
     "slide_type": "subslide"
    }
   },
   "source": [
    "| **pip**                                | **easy_install**                                                               |\n",
    "|----------------------------------------|--------------------------------------------------------------------------------|\n",
    "| actively maintained                    | partially maintained                                                           |\n",
    "| part of core python distribution       | support for version control                                                    |\n",
    "| packages downloaded and then installed | packages downloaded and installed asynchronously                               |\n",
    "| allows uninstall                       | does not provide uninstall functionality                                       |\n",
    "| automated installing of requirements   | if an install fails, it may not fail cleanly and leave your environment broken |"
   ]
  },
  {
   "cell_type": "markdown",
   "metadata": {
    "collapsed": true,
    "slideshow": {
     "slide_type": "slide"
    }
   },
   "source": [
    "# pip\n",
    "\n",
    "The [recommended](https://packaging.python.org/en/latest/current/) tool for installing Python packages. \n",
    "\n",
    "Stands for `Pip Installs Packages`. Packages can be found on [PyPi](hhttps://pypi.python.org/)\n",
    "\n",
    "### Usage:\n",
    "\n",
    "`pip install <package-name>`\n",
    "\n",
    "Note: Some packages will require administrator privilges to be installed."
   ]
  },
  {
   "cell_type": "markdown",
   "metadata": {
    "collapsed": true,
    "slideshow": {
     "slide_type": "subslide"
    }
   },
   "source": [
    "### Exercise\n",
    "\n",
    "- Install a package called `blessings`\n",
    "- Find the documentation on `PyPi`\n",
    "- Write a script that uses `blessings` \n",
    "- Make the script print `Sup, World` in bold\n",
    "- List 3 commands you can run with `pip`"
   ]
  },
  {
   "cell_type": "markdown",
   "metadata": {
    "collapsed": true,
    "slideshow": {
     "slide_type": "slide"
    }
   },
   "source": [
    "# Virtual Environments (virtual env)\n",
    "\n",
    "Picture this: You are given a project to work on in a team. You install some packages, write some code and push it to git. Your team-mates say they cannot get it to run. \n",
    "\n",
    "Why can they not get it to run?"
   ]
  },
  {
   "cell_type": "markdown",
   "metadata": {
    "slideshow": {
     "slide_type": "fragment"
    }
   },
   "source": [
    "- Modules not installed\n",
    "- Modules won't install\n",
    "- Different operating system\n",
    "- Different Python version\n",
    "\n",
    "Any number of these and more."
   ]
  },
  {
   "cell_type": "markdown",
   "metadata": {
    "slideshow": {
     "slide_type": "subslide"
    }
   },
   "source": [
    "# VirtualEnv\n",
    "\n",
    "`pip` installs packages globally by default. This means your Python code is **always affected** by the current state of your system. If you upgrade a package to the latest version that breaks what you are working on, it will also break **every** other project that uses that system.\n",
    "\n",
    "[VirtualEnv](https://virtualenv.pypa.io/en/stable/) aims to address this. This package creates an isolated Python environment in a directory with your name of choice.\n",
    "\n",
    "From here you can, specify Python versions, install packages and run code.\n",
    "\n",
    "`virtualenv <environment_name>`\n",
    "\n",
    "That is how you get started. Do not type this yet!\n",
    "\n"
   ]
  },
  {
   "cell_type": "markdown",
   "metadata": {
    "slideshow": {
     "slide_type": "subslide"
    }
   },
   "source": [
    "# What does `virtualenv <env>` do?\n",
    "\n",
    "Installs an isolated Python environment in a directory named after your `env` variable. All scripts are put into the `bin` folder, like so:\n",
    "![title](img/virtualenv.png)"
   ]
  },
  {
   "cell_type": "markdown",
   "metadata": {
    "slideshow": {
     "slide_type": "subslide"
    }
   },
   "source": [
    "### Exercise\n",
    "\n",
    "Create a virtual environment, called 'comp_thinking'"
   ]
  },
  {
   "cell_type": "markdown",
   "metadata": {
    "slideshow": {
     "slide_type": "subslide"
    }
   },
   "source": [
    "# Activating your virtual environment\n",
    "\n",
    "Unix: `source bin/activate`\n",
    "\n",
    "Windows: `\\Scripts\\activate`\n",
    "\n",
    "This adds the scripts in `bin` to your PATH, so they are executed when you run `pip` or `python`.\n",
    "\n",
    "You can also call the scripts directly:\n",
    "\n",
    "`bin/python <script>.py`\n",
    "\n",
    "### Exercise\n",
    "\n",
    "Activate your environment!"
   ]
  },
  {
   "cell_type": "markdown",
   "metadata": {
    "slideshow": {
     "slide_type": "subslide"
    }
   },
   "source": [
    "# Deactivating an environment\n",
    "\n",
    "\n",
    "Guess...\n",
    "\n",
    "`deactivate`\n",
    "\n",
    "It is that simple. If you do not want to use the environment again, then you can simply delete the folder.\n",
    "\n",
    "### Exercise\n",
    "\n",
    "You guessed it, deactivate your environment!"
   ]
  },
  {
   "cell_type": "markdown",
   "metadata": {
    "slideshow": {
     "slide_type": "subslide"
    }
   },
   "source": [
    "### Exercise\n",
    "\n",
    "- Create a new virtual environment, call it `test`\n",
    "- Activate it (or just use the scripts)\n",
    "- Install the `terminaltables` package\n",
    "- Write a script to read details about the user (favourite movie/game, age, height etc)\n",
    "- Use the documentation to print an ASCII table of these data"
   ]
  },
  {
   "cell_type": "markdown",
   "metadata": {
    "slideshow": {
     "slide_type": "slide"
    }
   },
   "source": [
    "# Command Line Arguments\n",
    "\n",
    "So, we can output with `print` and we can input with `input`. But...`input` relies on user interaction as the script runs. Here, we can use arguments in the command line to act as our input.\n",
    "\n",
    "`python <script>.py argument some_other_argument`\n",
    "\n",
    "NOTE: This is only a brief intro to using arguments and we will come back to these as the course progresses."
   ]
  },
  {
   "cell_type": "code",
   "execution_count": 4,
   "metadata": {
    "collapsed": false,
    "slideshow": {
     "slide_type": "subslide"
    }
   },
   "outputs": [
    {
     "name": "stdout",
     "output_type": "stream",
     "text": [
      "3\n",
      "['/usr/local/lib/python3.4/site-packages/ipykernel/__main__.py', '-f', '/Users/encima/Library/Jupyter/runtime/kernel-21926d1d-70ac-4e16-8ec5-a8b802d20df1.json']\n"
     ]
    }
   ],
   "source": [
    "import sys #system package to read command line args\n",
    "\n",
    "\n",
    "print(len(sys.argv))\n",
    "print(sys.argv)"
   ]
  },
  {
   "cell_type": "markdown",
   "metadata": {
    "collapsed": true,
    "slideshow": {
     "slide_type": "slide"
    }
   },
   "source": [
    "### Exercise\n",
    "\n",
    "Rewrite the movie exercise you wrote in the last session to use command line arguments"
   ]
  },
  {
   "cell_type": "markdown",
   "metadata": {
    "collapsed": true,
    "slideshow": {
     "slide_type": "slide"
    }
   },
   "source": [
    "![pip](img/pip.gif)\n",
    "\n",
    "No homework, do coursework"
   ]
  }
 ],
 "metadata": {
  "celltoolbar": "Slideshow",
  "kernelspec": {
   "display_name": "Python 2",
   "language": "python",
   "name": "python2"
  },
  "language_info": {
   "codemirror_mode": {
    "name": "ipython",
    "version": 2
   },
   "file_extension": ".py",
   "mimetype": "text/x-python",
   "name": "python",
   "nbconvert_exporter": "python",
   "pygments_lexer": "ipython2",
   "version": "2.7.12"
  },
  "latex_envs": {
   "bibliofile": "biblio.bib",
   "cite_by": "apalike",
   "current_citInitial": 1,
   "eqLabelWithNumbers": true,
   "eqNumInitial": 0
  },
  "nav_menu": {},
  "toc": {
   "navigate_menu": true,
   "number_sections": true,
   "sideBar": true,
   "threshold": 6,
   "toc_cell": false,
   "toc_section_display": "block",
   "toc_window_display": false
  }
 },
 "nbformat": 4,
 "nbformat_minor": 0
}
