{
 "cells": [
  {
   "cell_type": "markdown",
   "metadata": {
    "slideshow": {
     "slide_type": "slide"
    }
   },
   "source": [
    "# Math, Boolean Logic and Binary Arithmetic\n",
    "\n",
    "# Dr. Chris Gwilliams\n",
    "## gwilliamsc@cardiff.ac.uk"
   ]
  },
  {
   "cell_type": "markdown",
   "metadata": {
    "slideshow": {
     "slide_type": "slide"
    }
   },
   "source": [
    "# Contents\n",
    "\n",
    "- Mathematic Operations\n",
    "- Binary Conversion\n",
    "- Boolean Logic\n",
    "- Binary Arithmetic"
   ]
  },
  {
   "cell_type": "markdown",
   "metadata": {
    "collapsed": true,
    "slideshow": {
     "slide_type": "slide"
    }
   },
   "source": [
    "# Operations\n",
    "\n",
    "We have covered (`+`, `-`, `/` and `*`), but there are more built in.\n",
    "\n",
    "* `**`: To the power of\n",
    "* `%` : Modulo\n",
    "\n",
    "What is Modulo?\n"
   ]
  },
  {
   "cell_type": "markdown",
   "metadata": {
    "collapsed": true,
    "slideshow": {
     "slide_type": "fragment"
    }
   },
   "source": [
    "`a % b`\n",
    "The remainder after `a` is divided by `b`"
   ]
  },
  {
   "cell_type": "markdown",
   "metadata": {
    "collapsed": true,
    "slideshow": {
     "slide_type": "subslide"
    }
   },
   "source": [
    "### Exercise\n",
    "\n",
    "Given three integers, write them in the order such that `a % b = c` or `a ** b = c`\n",
    "\n",
    "* 13 3 5\n",
    "* 2 144 12\n",
    "* 67 12 146\n",
    "* 2 8.5 19\n",
    "\n",
    "##### BONUS MYSTERY QUESTION\n",
    "Reorder and/or use the symbols to get an answer of `9`\n",
    "* 4 11 3 = 9\n"
   ]
  },
  {
   "cell_type": "code",
   "execution_count": 3,
   "metadata": {
    "collapsed": false,
    "slideshow": {
     "slide_type": "skip"
    }
   },
   "outputs": [
    {
     "data": {
      "text/plain": [
       "True"
      ]
     },
     "execution_count": 3,
     "metadata": {},
     "output_type": "execute_result"
    }
   ],
   "source": [
    "13 % 5 == 3\n",
    "12 ** 2 == 144\n",
    "146 % 67 == 12\n"
   ]
  },
  {
   "cell_type": "markdown",
   "metadata": {
    "collapsed": true,
    "slideshow": {
     "slide_type": "slide"
    }
   },
   "source": [
    "# Binary\n",
    "\n",
    "A way of representing data using an `ON` or `OFF` flag using a `1` or a `0`.\n",
    "\n",
    "Why does it exist?"
   ]
  },
  {
   "cell_type": "markdown",
   "metadata": {
    "slideshow": {
     "slide_type": "fragment"
    }
   },
   "source": [
    "Because it the simplest method of storing information. A trivial yes or no can be stored, as well as whole novels (or programs, as you will be writing)\n",
    "\n",
    "## How, you ask?"
   ]
  },
  {
   "cell_type": "markdown",
   "metadata": {
    "slideshow": {
     "slide_type": "subslide"
    }
   },
   "source": [
    "A single digit of binary is `0` or `1`. In a computer, this takes up 1 `bit` of memory. \n",
    "\n",
    "8 `bits` = 1 `byte`\n",
    "1 `byte` is the **smallest addressable unit of memory**\n",
    "\n",
    "Because 8 `bits` is 1 `byte`, then all units beyond that are multipls of 8.\n",
    "\n",
    "1024 `byte` = 1 `kilobyte`\n",
    "1024 `kilobytes` = 1 `??`"
   ]
  },
  {
   "cell_type": "code",
   "execution_count": null,
   "metadata": {
    "collapsed": true,
    "slideshow": {
     "slide_type": "fragment"
    }
   },
   "outputs": [],
   "source": [
    "1024 `megabytes` = 1 `??`"
   ]
  },
  {
   "cell_type": "code",
   "execution_count": null,
   "metadata": {
    "collapsed": true,
    "slideshow": {
     "slide_type": "fragment"
    }
   },
   "outputs": [],
   "source": [
    "1024 `gigabyte` = 1 `??`"
   ]
  },
  {
   "cell_type": "code",
   "execution_count": null,
   "metadata": {
    "collapsed": true,
    "slideshow": {
     "slide_type": "fragment"
    }
   },
   "outputs": [],
   "source": [
    "1024 `terabyte` = 1 `??`"
   ]
  },
  {
   "cell_type": "markdown",
   "metadata": {
    "slideshow": {
     "slide_type": "notes"
    }
   },
   "source": [
    "1024 `byte` = 1 `kilobyte`\n",
    "1024 `kilobytes` = 1 `megabyte`\n",
    "1024 `megabytes` = 1 `gigabyte`\n",
    "1024 `gigabytes` = 1 `terabyte`\n",
    "1024 `terabytes` = 1 `petabyte`\n",
    "1024 `petabytes` = 1 `exabyte`\n",
    "1024 `exabytes` = 1 `zettabyte`\n",
    "1024 `zettabytes` = 1 `yotabyte`"
   ]
  },
  {
   "cell_type": "markdown",
   "metadata": {
    "slideshow": {
     "slide_type": "subslide"
    }
   },
   "source": [
    "So, what about these hard drive manufacturers [here](http://www.seagate.com/manuals/network-storage/business-storage-nas-os/precautions/)? They are not alone, many follow this standard!\n",
    "\n",
    "So, when you buy a laptop and they say it has a 3000GB hard drive (or 3TB), this may not be the case!\n",
    "\n",
    "### Exercise\n",
    "\n",
    "How fast is your internet? Speed test it now or test the 4G on your phone.\n",
    "\n",
    "How many mega bytes per second?"
   ]
  },
  {
   "cell_type": "markdown",
   "metadata": {
    "slideshow": {
     "slide_type": "fragment"
    }
   },
   "source": [
    "# MB vs Mb\n",
    "\n",
    "1 Megabit (Mb) is NOT equal to 1 Megabyte (MB)!\n",
    "\n",
    "1 megabit = 1,000,000bits = 1/8 of a megabyte"
   ]
  },
  {
   "cell_type": "markdown",
   "metadata": {
    "slideshow": {
     "slide_type": "subslide"
    }
   },
   "source": [
    "### Exercise\n",
    "\n",
    "If I have a 3TB hard drive, how many 650 MB video files can I store on it?"
   ]
  },
  {
   "cell_type": "code",
   "execution_count": 6,
   "metadata": {
    "collapsed": false,
    "slideshow": {
     "slide_type": "fragment"
    }
   },
   "outputs": [
    {
     "name": "stdout",
     "output_type": "stream",
     "text": [
      "1.5753846153846154\n",
      "1613.1938461538462\n",
      "4839.581538461538\n"
     ]
    }
   ],
   "source": [
    "movies_per_gb = 1024/650\n",
    "print(movies_per_gb) #number of videos I can store in 1GB\n",
    "movies_per_tb = movies_per_gb * 1024\n",
    "print(movies_per_tb) \n",
    "print(movies_per_tb * 3) #movies I can fit on my 3TB drive"
   ]
  },
  {
   "cell_type": "markdown",
   "metadata": {
    "collapsed": true,
    "slideshow": {
     "slide_type": "slide"
    }
   },
   "source": [
    "# Binary\n",
    "\n",
    "Everything we store (movies, text, programs), all come down to binary in their storage format. Before we get to this, we first need to know how convert numbers to binary and understand each bit.\n",
    "\n",
    "What is the denary equivalent of this number?\n",
    "0  0  0 1 0 1"
   ]
  },
  {
   "cell_type": "code",
   "execution_count": null,
   "metadata": {
    "collapsed": true,
    "slideshow": {
     "slide_type": "fragment"
    }
   },
   "outputs": [],
   "source": [
    "32 16 8 4 2 1\n",
    "--------------\n",
    "0  0  0 1 0 1  "
   ]
  },
  {
   "cell_type": "markdown",
   "metadata": {
    "collapsed": true,
    "slideshow": {
     "slide_type": "subslide"
    }
   },
   "source": [
    "# Denary to Binary and Binary to Denary\n",
    "\n",
    "Using the method in the slide above, we can convert by doing the following things:\n",
    "1. Check the number of bits. 4 bit binary has 4 digits (0000), so we have a maximum of 15 numbers we can represent\n",
    "2. Draw a table like the one in the previous slide for the number of bits\n",
    "3. Check if the number you want to convert fits in to the left most bit:\n",
    "    - If it does: add a 1 and subtract the number represented by the bit from the number you want to convert\n",
    "    - If it does not: add a 0\n",
    "4. Move along to the next bit and repeat step 3 until you get to the right most bit"
   ]
  },
  {
   "cell_type": "markdown",
   "metadata": {
    "collapsed": true,
    "slideshow": {
     "slide_type": "subslide"
    }
   },
   "source": [
    "## Example\n",
    "\n",
    "Convert 27 to binary.\n",
    "\n",
    "1. 5 bit binary can represent numbers up to 31, so we know our binary number has 5 bits.\n",
    " 16  8  4  2  1\n",
    " --------------\n",
    " \n",
    "2. Start at 16, does 16 go into 27?\n",
    "\n"
   ]
  },
  {
   "cell_type": "code",
   "execution_count": null,
   "metadata": {
    "collapsed": true,
    "slideshow": {
     "slide_type": "fragment"
    }
   },
   "outputs": [],
   "source": [
    "Yes. \n",
    " 16  8  4  2  1\n",
    " --------------\n",
    " 1\n",
    "Move to next bit. NUMBER = 27 - 16 = 9\n",
    "Does 9 go into 8?"
   ]
  },
  {
   "cell_type": "code",
   "execution_count": null,
   "metadata": {
    "collapsed": true,
    "slideshow": {
     "slide_type": "subslide"
    }
   },
   "outputs": [],
   "source": [
    "Yes.\n",
    "16  8  4  2  1\n",
    "--------------\n",
    "1  1\n",
    "Move to next bit. NUMBER = 9 - 8 = 1\n",
    "Does 1 go into 4?"
   ]
  },
  {
   "cell_type": "code",
   "execution_count": null,
   "metadata": {
    "collapsed": true,
    "slideshow": {
     "slide_type": "fragment"
    }
   },
   "outputs": [],
   "source": [
    "No.\n",
    "16  8  4  2  1\n",
    "--------------\n",
    "1   1  0\n",
    "Move to next bit. NUMBER still equals 1\n",
    "Does 1 go into 2?"
   ]
  },
  {
   "cell_type": "code",
   "execution_count": null,
   "metadata": {
    "collapsed": true,
    "slideshow": {
     "slide_type": "subslide"
    }
   },
   "outputs": [],
   "source": [
    "No.\n",
    "16  8  4  2  1\n",
    "--------------\n",
    "1   1  0  0\n",
    "Move to next bit. NUMBER still equals 1\n",
    "Does 1 go into 1?"
   ]
  },
  {
   "cell_type": "code",
   "execution_count": null,
   "metadata": {
    "collapsed": true,
    "slideshow": {
     "slide_type": "fragment"
    }
   },
   "outputs": [],
   "source": [
    "Yes.\n",
    "16  8  4  2  1\n",
    "--------------\n",
    "1   1  0  0  1\n",
    "Move to next bit. NUMBER = 1 - 1 = 0.\n",
    "We are at the right most bit.\n",
    "\n",
    "So, the binary representation for 27 is:\n",
    "11001"
   ]
  },
  {
   "cell_type": "markdown",
   "metadata": {
    "collapsed": true,
    "slideshow": {
     "slide_type": "subslide"
    }
   },
   "source": [
    "### Exercise\n",
    "\n",
    "Find the 8 bit binary representation:\n",
    "* 127\n",
    "* 2\n",
    "* 64\n",
    "* 79\n",
    "* 34\n",
    "\n",
    "Reverse engineer the approach to find the decimal representation of:\n",
    "\n",
    "* 11101111\n",
    "* 00011110\n",
    "* 11110001\n",
    "* 10101010\n",
    "* 01010101"
   ]
  },
  {
   "cell_type": "code",
   "execution_count": null,
   "metadata": {
    "collapsed": true,
    "slideshow": {
     "slide_type": "skip"
    }
   },
   "outputs": [],
   "source": [
    "128  64  32  16  8  4  2  1\n",
    "---------------------------\n",
    "0    1   1   1   1  1  1  1  (127)\n",
    "0    0   0   0   0  0  1  0 (2)\n",
    "0    1   0   0   0  0  0  0 (64)\n",
    "0    1   0   0   1  1  1  1 (79)\n",
    "0    1   1   0   0  0  1  0 (34)\n",
    "\n",
    "---\n",
    "\n",
    "128  64  32  16  8  4  2  1\n",
    "---------------------------\n",
    "1    1   1   0   1  1  1  1 (239)\n",
    "0    0   0   1   1  1  1  0 (30)\n",
    "1    1   1   1   0  0  0  1 (241)\n",
    "1    0   1   0   1  0  1  0 (170)\n",
    "0    1   0   1   0  1  0  1 (85)"
   ]
  },
  {
   "cell_type": "markdown",
   "metadata": {
    "slideshow": {
     "slide_type": "slide"
    }
   },
   "source": [
    "# Bakuro\n",
    "\n",
    "Ever played Kakuro or Sudoku? Well, Bakoru is a modification thought up by the people behind Computing At School.\n",
    "The aim is to fill in the blanks so they amount to the row and/or column total.\n",
    "\n",
    "Let's try one with just decimal numbers first."
   ]
  },
  {
   "cell_type": "code",
   "execution_count": null,
   "metadata": {
    "collapsed": true,
    "slideshow": {
     "slide_type": "subslide"
    }
   },
   "outputs": [],
   "source": [
    "[ ]                         [ ]                         [ ]                         [ ]            {'row_total': 20}\n",
    "[ ]                         [ ]                         [ ]                         [ ]            {'row_total': 26}\n",
    "[ ]                         [ ]                         [ ]                         [ ]            {'row_total': 33}\n",
    "[ ]                         [ ]                         [ ]                         [ ]            {'row_total': 16}\n",
    "{'col_total': 28}           {'col_total': 33}          {'col_total': 24}         {'col_total': 10}"
   ]
  },
  {
   "cell_type": "code",
   "execution_count": null,
   "metadata": {
    "collapsed": true,
    "slideshow": {
     "slide_type": "fragment"
    }
   },
   "outputs": [],
   "source": [
    "4                          6                         7                         3                   {'row_total': 20}\n",
    "14                         7                         4                         1                   {'row_total': 26}\n",
    "4                          14                        12                        3                   {'row_total': 33}\n",
    "6                          6                         1                         3                   {'row_total': 16}\n",
    "{'col_total': 28}          {'col_total': 33}         {'col_total': 24}         {'col_total': 10}"
   ]
  },
  {
   "cell_type": "markdown",
   "metadata": {
    "slideshow": {
     "slide_type": "subslide"
    }
   },
   "source": [
    "### Exercise\n",
    "\n",
    "Using the grid above, change the decimal numbers to binary\n",
    "\n",
    "#TODO add in bakuro grid with binary row totals and col totals as an exercise"
   ]
  },
  {
   "cell_type": "markdown",
   "metadata": {
    "collapsed": true,
    "slideshow": {
     "slide_type": "slide"
    }
   },
   "source": [
    "# Representing Text\n",
    "\n",
    "So, we can store numbers in binary. How do we store letters?"
   ]
  },
  {
   "cell_type": "markdown",
   "metadata": {
    "collapsed": true,
    "slideshow": {
     "slide_type": "fragment"
    }
   },
   "source": [
    "Why can we not just give a number to every letter in the alphabet?"
   ]
  },
  {
   "cell_type": "markdown",
   "metadata": {
    "collapsed": true,
    "slideshow": {
     "slide_type": "fragment"
    }
   },
   "source": [
    "How would we represent upper case? How would we handle symbols? What about other alphabets?"
   ]
  },
  {
   "cell_type": "markdown",
   "metadata": {
    "collapsed": true,
    "slideshow": {
     "slide_type": "subslide"
    }
   },
   "source": [
    "```\n",
    "    _    ____   ____ ___ ___ _\n",
    "   / \\  / ___| / ___|_ _|_ _| |\n",
    "  / _ \\ \\___ \\| |    | | | || |\n",
    " / ___ \\ ___) | |___ | | | ||_|\n",
    "/_/   \\_\\____/ \\____|___|___(_)\n",
    "\n",
    "```\n",
    "\n",
    "\n",
    "The American Standard Code for Information Exchange. All characters are stored as codes and can be found through a lookup table.\n",
    "\n",
    "NOTE: Character encoding is covered the Software Development Skills 2 course in the next semester."
   ]
  },
  {
   "cell_type": "markdown",
   "metadata": {
    "collapsed": true,
    "slideshow": {
     "slide_type": "subslide"
    }
   },
   "source": [
    "![ascii](img/ascii_table.png)"
   ]
  },
  {
   "cell_type": "code",
   "execution_count": null,
   "metadata": {
    "collapsed": true
   },
   "outputs": [],
   "source": []
  },
  {
   "cell_type": "code",
   "execution_count": null,
   "metadata": {
    "collapsed": true
   },
   "outputs": [],
   "source": []
  },
  {
   "cell_type": "code",
   "execution_count": null,
   "metadata": {
    "collapsed": true
   },
   "outputs": [],
   "source": []
  },
  {
   "cell_type": "code",
   "execution_count": null,
   "metadata": {
    "collapsed": true
   },
   "outputs": [],
   "source": []
  },
  {
   "cell_type": "code",
   "execution_count": null,
   "metadata": {
    "collapsed": true
   },
   "outputs": [],
   "source": []
  },
  {
   "cell_type": "code",
   "execution_count": null,
   "metadata": {
    "collapsed": true
   },
   "outputs": [],
   "source": []
  },
  {
   "cell_type": "code",
   "execution_count": null,
   "metadata": {
    "collapsed": true
   },
   "outputs": [],
   "source": []
  },
  {
   "cell_type": "code",
   "execution_count": null,
   "metadata": {
    "collapsed": true
   },
   "outputs": [],
   "source": []
  },
  {
   "cell_type": "code",
   "execution_count": null,
   "metadata": {
    "collapsed": true
   },
   "outputs": [],
   "source": []
  }
 ],
 "metadata": {
  "celltoolbar": "Slideshow",
  "kernelspec": {
   "display_name": "Python 3",
   "language": "python",
   "name": "python3"
  },
  "language_info": {
   "codemirror_mode": {
    "name": "ipython",
    "version": 3
   },
   "file_extension": ".py",
   "mimetype": "text/x-python",
   "name": "python",
   "nbconvert_exporter": "python",
   "pygments_lexer": "ipython3",
   "version": "3.4.3"
  }
 },
 "nbformat": 4,
 "nbformat_minor": 0
}
