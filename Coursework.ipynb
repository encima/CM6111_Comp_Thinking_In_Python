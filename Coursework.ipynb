{
 "cells": [
  {
   "cell_type": "markdown",
   "metadata": {},
   "source": [
    "# CM6111 Coursework\n",
    "\n",
    "\n",
    "* Create the card game, 21 cards, in Python.\n",
    "    * Repeat 3 times:\n",
    "        * Deal twenty one cards, make a person pick the pile it is in\n",
    "        * Use that pile and put one above and the other below\n",
    "    * Repeat until last pile is left\n",
    "        * Deal cards into piles of 4 (the 11th card dealt will be the one they have chosen)\n",
    "        * Ask user to select pile(s), add or keep based on whether the 11th card is in the deck\n",
    "    * Repeat for final 4 cards until 11th card is left.\n",
    "\n",
    "\n",
    "Extra Credit:\n",
    "* save wins/losses\n",
    "* cards saved/loaded from an external source\n",
    "* Iteration and recursion used\n",
    "* Pretty GUI (could still be CLI)"
   ]
  }
 ],
 "metadata": {
  "kernelspec": {
   "display_name": "Python 2",
   "language": "python",
   "name": "python2"
  },
  "language_info": {
   "codemirror_mode": {
    "name": "ipython",
    "version": 2
   },
   "file_extension": ".py",
   "mimetype": "text/x-python",
   "name": "python",
   "nbconvert_exporter": "python",
   "pygments_lexer": "ipython2",
   "version": "2.7.12"
  },
  "latex_envs": {
   "bibliofile": "biblio.bib",
   "cite_by": "apalike",
   "current_citInitial": 1,
   "eqLabelWithNumbers": true,
   "eqNumInitial": 0
  },
  "nav_menu": {},
  "toc": {
   "navigate_menu": true,
   "number_sections": true,
   "sideBar": true,
   "threshold": 6,
   "toc_cell": false,
   "toc_section_display": "block",
   "toc_window_display": false
  }
 },
 "nbformat": 4,
 "nbformat_minor": 1
}
