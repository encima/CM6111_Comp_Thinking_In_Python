{
 "cells": [
  {
   "cell_type": "markdown",
   "metadata": {},
   "source": [
    "# Recap\n",
    "\n",
    "Complete each question below. Use the lectures and feel free to ask for help."
   ]
  },
  {
   "cell_type": "markdown",
   "metadata": {
    "slideshow": {
     "slide_type": "slide"
    }
   },
   "source": [
    "* What is a literal?"
   ]
  },
  {
   "cell_type": "markdown",
   "metadata": {
    "slideshow": {
     "slide_type": "slide"
    }
   },
   "source": [
    "* What type is this: `False`?"
   ]
  },
  {
   "cell_type": "markdown",
   "metadata": {
    "slideshow": {
     "slide_type": "slide"
    }
   },
   "source": [
    "* What is the difference between `1233` and `12.33` (aside from their values)?"
   ]
  },
  {
   "cell_type": "markdown",
   "metadata": {
    "slideshow": {
     "slide_type": "slide"
    }
   },
   "source": [
    "* Create an empty list and then populate it with information about the werewolf, Jacob\n",
    "    * Iterate through the list and print out the details\n",
    "    * Now add if statements to each detail and make a comment on their age and/or name\n",
    "\n",
    "REMEMBER: You will need to handle the different types"
   ]
  },
  {
   "cell_type": "markdown",
   "metadata": {
    "slideshow": {
     "slide_type": "slide"
    }
   },
   "source": [
    "* Find your favourite line from any of the Twilight movies, assign it to a variable.\n",
    "\n",
    "Loop through the list and print out every word that is > 4 characters. DO NOT print the word if the word is `Jacob` or `love`."
   ]
  },
  {
   "cell_type": "markdown",
   "metadata": {
    "slideshow": {
     "slide_type": "slide"
    }
   },
   "source": [
    "* What is the difference between instantiation and declaration? Explain them in Python. Provide examples."
   ]
  },
  {
   "cell_type": "markdown",
   "metadata": {
    "slideshow": {
     "slide_type": "slide"
    }
   },
   "source": [
    "* Create a while loop that loops through a user input and exits when the user types 'save'. If they do not, add what they typed to a variable. Print the length of the variable when the while loop exits, as well as the mean length of all words entered."
   ]
  },
  {
   "cell_type": "markdown",
   "metadata": {
    "slideshow": {
     "slide_type": "slide"
    }
   },
   "source": [
    "* What is the difference between a REPL and a script?"
   ]
  },
  {
   "cell_type": "markdown",
   "metadata": {
    "slideshow": {
     "slide_type": "slide"
    }
   },
   "source": [
    "* If we call the execution of code line by line in Python 'the flow', what would if statements be an example of?"
   ]
  },
  {
   "cell_type": "markdown",
   "metadata": {
    "slideshow": {
     "slide_type": "slide"
    }
   },
   "source": [
    "* Modify the while loop you wrote above to read input from the user, save numbers to one list and strings to another.\n",
    "\n",
    "If, when the while loop exits, both lists have the same length then use a for loop to iterate through and multiple the element of the string list by the corresponding element of the numerical list."
   ]
  },
  {
   "cell_type": "markdown",
   "metadata": {
    "slideshow": {
     "slide_type": "slide"
    }
   },
   "source": [
    "* Is the below code (results of print statements in comments) correct? Explain why it is/is not.\n",
    "\n",
    "```python\n",
    "str_ex = \"Hello\"\n",
    "str_two = str_ex\n",
    "str_two += \" Bella\"\n",
    "print(str_ex) #Hello Bella\n",
    "print(str_two) #Hello Bella\n",
    "```"
   ]
  },
  {
   "cell_type": "markdown",
   "metadata": {
    "slideshow": {
     "slide_type": "slide"
    }
   },
   "source": [
    "* What is the difference between interpreted and compiled as a language?"
   ]
  },
  {
   "cell_type": "markdown",
   "metadata": {
    "slideshow": {
     "slide_type": "slide"
    }
   },
   "source": [
    "* Write a while loop that takes a numeric input from the user (warning them if it is not a number) and then takes a second number to act as the power. I.e. `input_one ^ input_two`. The next input number they should use should be the answer to the previous sum.\n",
    "\n",
    "For example:\n",
    "\n",
    "Input 1: 12\n",
    "Input 2: 2\n",
    "Answer: 144\n",
    "Input 1: 144\n",
    "Input 2: 3\n",
    "Answer: 2,985,984\n",
    "etc etc\n",
    "\n",
    "The loop should break if the user does not input the right answer and it cannot give the answer to the user"
   ]
  },
  {
   "cell_type": "markdown",
   "metadata": {
    "slideshow": {
     "slide_type": "slide"
    }
   },
   "source": [
    "* Create a list of the characters in the word 'Edward' and then create a string variable of the same word.\n",
    "\n",
    "Without the changing the type of these variables, check through to ensure they are the same. Use iteration as one approach and then try using the String `join` method.\n"
   ]
  },
  {
   "cell_type": "markdown",
   "metadata": {
    "slideshow": {
     "slide_type": "subslide"
    }
   },
   "source": [
    "* Perform equality and identity checks, explain the result."
   ]
  },
  {
   "cell_type": "markdown",
   "metadata": {
    "slideshow": {
     "slide_type": "slide"
    }
   },
   "source": [
    "### EXTRA"
   ]
  },
  {
   "cell_type": "markdown",
   "metadata": {
    "slideshow": {
     "slide_type": "fragment"
    }
   },
   "source": [
    "All done? Happy with it all? WELL DONE\n"
   ]
  },
  {
   "cell_type": "markdown",
   "metadata": {
    "slideshow": {
     "slide_type": "fragment"
    }
   },
   "source": [
    "Create a game that uses any form of iteration you choose. Allow the user to move using keywords (up, down, left etc) and then provide them with options of things to do in each room. If they press `q` at any time then exit the game.\n",
    "\n",
    "For extra, extra credit: Allow the input to be case insensitive.\n",
    "\n",
    "Still done? GREAT! Allow the user to create custom shortcuts for "
   ]
  }
 ],
 "metadata": {
  "celltoolbar": "Slideshow",
  "kernelspec": {
   "display_name": "Python 2",
   "language": "python",
   "name": "python2"
  },
  "language_info": {
   "codemirror_mode": {
    "name": "ipython",
    "version": 2
   },
   "file_extension": ".py",
   "mimetype": "text/x-python",
   "name": "python",
   "nbconvert_exporter": "python",
   "pygments_lexer": "ipython2",
   "version": "2.7.12"
  }
 },
 "nbformat": 4,
 "nbformat_minor": 1
}
