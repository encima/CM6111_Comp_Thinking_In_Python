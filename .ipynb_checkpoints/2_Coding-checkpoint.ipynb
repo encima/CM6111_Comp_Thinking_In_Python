{
 "cells": [
  {
   "cell_type": "markdown",
   "metadata": {
    "slideshow": {
     "slide_type": "slide"
    }
   },
   "source": [
    "# Coding in Python\n",
    "\n",
    "## Dr. Chris Gwilliams\n",
    "### gwilliamsc@cardiff.ac.uk"
   ]
  },
  {
   "cell_type": "markdown",
   "metadata": {
    "slideshow": {
     "slide_type": "slide"
    }
   },
   "source": [
    "# Writing in Python: PEP\n",
    "## Python Enhancement Proposals\n",
    "\n",
    "Unsure how your code should be written? PEP is a style guide for Python and provides details on what is expected.\n",
    "\n",
    "- Use 4 spaces instead of tabs \n",
    "- Lines should be 79 characters long\n",
    "- Variables should follow `snake_case`\n",
    "    - All lower case words, separated by underscores (_)\n",
    "- Classes should be Capitalised Words (`MyClassExample`)\n",
    "\n",
    "[PEP](https://www.python.org/dev/peps/pep-0008/)"
   ]
  },
  {
   "cell_type": "markdown",
   "metadata": {
    "slideshow": {
     "slide_type": "slide"
    }
   },
   "source": [
    "# Comments\n",
    "\n",
    "Sometimes, you need to describe your code and the logic may be a bit complicated, or it took you a while to figure it out and you want to make a note.\n",
    "\n",
    "You can't just write some text in the file or you will get errors, this is where comments come in! Comments are descriptions that the Python interpreter ignores.\n",
    "\n",
    "Just type a `#` amd what ever you want to write and voíla!\n",
    "\n",
    "**It is ALWAYS a good idea to comment your code!**"
   ]
  },
  {
   "cell_type": "code",
   "execution_count": null,
   "metadata": {
    "collapsed": true,
    "slideshow": {
     "slide_type": "subslide"
    }
   },
   "outputs": [],
   "source": [
    "# Does this make sense without comments?\n",
    "with open('myfile.csv', 'rb') as opened_csv:\n",
    "    spamreader = csv.reader(csvfile, delimiter=' ', quotechar='|')\n",
    "        for row in spamreader:\n",
    "        print (', '.join(row))"
   ]
  },
  {
   "cell_type": "code",
   "execution_count": null,
   "metadata": {
    "collapsed": true,
    "slideshow": {
     "slide_type": "subslide"
    }
   },
   "outputs": [],
   "source": [
    "# How about this?\n",
    "\n",
    "#open csv file in readable format\n",
    "with open('myfile.csv', 'rbU') as opened_csv:\n",
    "    # read opened csv file with spaces as delimiters\n",
    "    spamreader = csv.reader(csvfile, delimiter=' ', quotechar='|')\n",
    "    # loop through and print each line\n",
    "    for row in spamreader:\n",
    "        print (', '.join(row))"
   ]
  },
  {
   "cell_type": "markdown",
   "metadata": {
    "slideshow": {
     "slide_type": "slide"
    }
   },
   "source": [
    "# Types\n",
    "\n",
    "Python has a type system (variables have types), even if you do not specify it when you declare them.\n",
    "\n",
    "- String\n",
    "- Float\n",
    "- Boolean\n",
    "- Integer\n",
    "- None"
   ]
  },
  {
   "cell_type": "markdown",
   "metadata": {
    "slideshow": {
     "slide_type": "fragment"
    }
   },
   "source": [
    "### Exercise\n",
    "\n",
    "Give me an example of each of these types.\n",
    "\n",
    "What is the None type?\n",
    "\n",
    "Use the Internet to find me examples of 1 other type in Python\n",
    "\n",
    "We will come back to type as the course progresses."
   ]
  },
  {
   "cell_type": "markdown",
   "metadata": {
    "slideshow": {
     "slide_type": "slide"
    }
   },
   "source": [
    "# Literals\n",
    "\n",
    "Literally a value.\n",
    "\n",
    "All of the examples you just gave are literals."
   ]
  },
  {
   "cell_type": "code",
   "execution_count": null,
   "metadata": {
    "collapsed": true,
    "slideshow": {
     "slide_type": "fragment"
    }
   },
   "outputs": [],
   "source": [
    "\"Gavin\" #String Literal\n",
    "4 #Integer Literal\n",
    "3.14 #??? Literal"
   ]
  },
  {
   "cell_type": "markdown",
   "metadata": {
    "slideshow": {
     "slide_type": "fragment"
    }
   },
   "source": [
    "3.14 is a `float` literal"
   ]
  },
  {
   "cell_type": "markdown",
   "metadata": {
    "slideshow": {
     "slide_type": "slide"
    }
   },
   "source": [
    "# Variables\n",
    "\n",
    "Literals are all well and good for printing but what about when we need to change and store these literals?\n",
    "\n",
    "Variables are ways of giving literal values a name in order to refer to them later.\n",
    "\n",
    "Below, we are **declaring** and **instantiating** a variable\n"
   ]
  },
  {
   "cell_type": "code",
   "execution_count": null,
   "metadata": {
    "collapsed": true,
    "slideshow": {
     "slide_type": "subslide"
    }
   },
   "outputs": [],
   "source": [
    "# declared and instantiated\n",
    "name = \"Gavin\"\n",
    "\n",
    "# declared, but not instantiated\n",
    "new_name = None\n"
   ]
  },
  {
   "cell_type": "markdown",
   "metadata": {
    "slideshow": {
     "slide_type": "notes"
    }
   },
   "source": [
    "## TODO: include information on how variables are different in Python\n",
    "\n",
    "http://python.net/~goodger/projects/pycon/2007/idiomatic/handout.html#other-languages-have-variables"
   ]
  },
  {
   "cell_type": "markdown",
   "metadata": {
    "slideshow": {
     "slide_type": "subslide"
    }
   },
   "source": [
    "### Exercise\n",
    "\n",
    "Create a `variable` to store a `boolean` `literal`\n",
    "\n",
    "Create a new `variable` that stores your age"
   ]
  },
  {
   "cell_type": "markdown",
   "metadata": {
    "slideshow": {
     "slide_type": "slide"
    }
   },
   "source": [
    "# Reassigning Variables\n",
    "\n",
    "It would suck to have to create a new variable for every thing you want to store, right? \n",
    "\n",
    "As well as being a huge inconvenience, it is actually really inefficient.\n",
    "\n",
    "```python\n",
    "age = 40\n",
    "# 1 year passes\n",
    "age = 41\n",
    "```\n",
    "\n",
    "Easy, right? By using the same variable name, it is now associated with your new value and the old value will be cleared up by the Python interpreter."
   ]
  },
  {
   "cell_type": "markdown",
   "metadata": {
    "slideshow": {
     "slide_type": "slide"
    }
   },
   "source": [
    "# Printing\n",
    "\n",
    "We have seen this `print` keyword thrown around alot, right? This is the best way to show some information.\n",
    "Especially useful if your script takes a long time to run!\n",
    "\n",
    "E.g. `print(\"stuff\")`\n"
   ]
  },
  {
   "cell_type": "code",
   "execution_count": null,
   "metadata": {
    "collapsed": true,
    "slideshow": {
     "slide_type": "subslide"
    }
   },
   "outputs": [],
   "source": [
    "print(\"Got something to say?\")\n",
    "print(\"Use the print statement\")\n",
    "print(\"to print a string literal\")\n",
    "print(\"float literal\")\n",
    "print(3.14)\n",
    "more_string = \"or variable\"\n",
    "print(more_string)"
   ]
  },
  {
   "cell_type": "markdown",
   "metadata": {
    "slideshow": {
     "slide_type": "slide"
    }
   },
   "source": [
    "# Types II\n",
    "\n",
    "Python is *Strongly* *Typed* - The Python interpreter keeps track of all the variables and their associated types.\n",
    "AND\n",
    "Python is *Dynamically* *Typed* - Variables can be reassigned from their types. A variable is simply a value bound to a name, the variable does not hold a `type`, only the value does.\n"
   ]
  },
  {
   "cell_type": "markdown",
   "metadata": {
    "slideshow": {
     "slide_type": "subslide"
    }
   },
   "source": [
    "### Exercise\n",
    "\n",
    "Create a variable of type `string` and then `reassign` it to a  float literal.\n",
    "\n",
    "Now try adding a `float` literal to your variable"
   ]
  },
  {
   "cell_type": "code",
   "execution_count": null,
   "metadata": {
    "collapsed": true,
    "slideshow": {
     "slide_type": "subslide"
    }
   },
   "outputs": [],
   "source": [
    "print(\"Hello \" + \"World\") #ok\n",
    "print(\"hello\" + 5) #strongly typed means this cannot happen!\n",
    "name = \"Chris\"\n",
    "name = \"Pi\"\n",
    "name + 6 #Strongly typed means no adding different types together!\n",
    "name = 3.14 #dynamically typed means yes to changing the type of a variable!"
   ]
  }
 ],
 "metadata": {
  "celltoolbar": "Slideshow",
  "kernelspec": {
   "display_name": "Python 3",
   "language": "python",
   "name": "python3"
  },
  "language_info": {
   "codemirror_mode": {
    "name": "ipython",
    "version": 3
   },
   "file_extension": ".py",
   "mimetype": "text/x-python",
   "name": "python",
   "nbconvert_exporter": "python",
   "pygments_lexer": "ipython3",
   "version": "3.4.3"
  }
 },
 "nbformat": 4,
 "nbformat_minor": 0
}
