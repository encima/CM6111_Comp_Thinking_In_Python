{
 "cells": [
  {
   "cell_type": "markdown",
   "metadata": {
    "nbgrader": {
     "grade": false,
     "grade_id": "dd",
     "locked": true,
     "solution": false
    },
    "slideshow": {
     "slide_type": "slide"
    }
   },
   "source": [
    "# Session 1: Homework\n",
    "\n",
    "Complete all sections."
   ]
  },
  {
   "cell_type": "markdown",
   "metadata": {
    "slideshow": {
     "slide_type": "fragment"
    }
   },
   "source": [
    "1. Create a directory called `CM6111` in your home directory (folder with your username)\n",
    "2. Inside, create three folders:\n",
    "    1. `assignments` - where all homeworks and coursework will be saved\n",
    "    2. `lectures` - where all lectures will be saved\n",
    "    3. `work` - space for your own work, either as a `Python` script or a `Jupyter` notebook\n",
    "3. Enter the work directory and write out the following code into a file called `age.py`, filling in the blanks:    "
   ]
  },
  {
   "cell_type": "code",
   "execution_count": 3,
   "metadata": {
    "collapsed": false,
    "slideshow": {
     "slide_type": "slide"
    }
   },
   "outputs": [
    {
     "name": "stdout",
     "output_type": "stream",
     "text": [
      "You are: 27\n"
     ]
    }
   ],
   "source": [
    "name = \"<YOUR NAME HERE>\"\n",
    "current_year = 2016\n",
    "year_of_birth = 1989 #add your age here\n",
    "age = str(current_year - year_of_birth)\n",
    "print(\"Hello\")\n",
    "print(name)\n",
    "print(\"You are: \" + str(current_year - year_of_birth))\n"
   ]
  },
  {
   "cell_type": "markdown",
   "metadata": {
    "nbgrader": {
     "grade": false,
     "grade_id": "q1",
     "locked": true,
     "points": 6,
     "solution": false
    },
    "slideshow": {
     "slide_type": "slide"
    }
   },
   "source": [
    "Run the above code using `python age.py` in your command prompt/terminal\n",
    "\n",
    "1. When will the above code be wrong?\n",
    "2. How would you fix that?\n",
    "3. Why is there a `+` between \"You are\" and the age?\n",
    "4. What do you think the `str` stands for on the last line? Why is it there?"
   ]
  }
 ],
 "metadata": {
  "celltoolbar": "Slideshow",
  "kernelspec": {
   "display_name": "Python 2",
   "language": "python",
   "name": "python2"
  },
  "language_info": {
   "codemirror_mode": {
    "name": "ipython",
    "version": 2
   },
   "file_extension": ".py",
   "mimetype": "text/x-python",
   "name": "python",
   "nbconvert_exporter": "python",
   "pygments_lexer": "ipython2",
   "version": "2.7.12"
  },
  "latex_envs": {
   "bibliofile": "biblio.bib",
   "cite_by": "apalike",
   "current_citInitial": 1,
   "eqLabelWithNumbers": true,
   "eqNumInitial": 0
  },
  "nav_menu": {},
  "toc": {
   "navigate_menu": true,
   "number_sections": true,
   "sideBar": true,
   "threshold": 6,
   "toc_cell": false,
   "toc_section_display": "block",
   "toc_window_display": false
  }
 },
 "nbformat": 4,
 "nbformat_minor": 0
}
